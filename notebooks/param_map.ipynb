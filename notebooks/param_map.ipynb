{
 "cells": [
  {
   "cell_type": "code",
   "execution_count": 1,
   "metadata": {},
   "outputs": [],
   "source": [
    "import os\n",
    "import pickle\n",
    "import numpy as np\n",
    "import pandas as pd\n",
    "\n",
    "import matplotlib.pyplot as plt\n",
    "%matplotlib inline\n",
    "\n",
    "import seaborn as sns\n",
    "sns.set_context('notebook', font_scale=2)\n",
    "\n",
    "os.chdir(\"/gscratch/rao/aresf/Code/STSPNet/\")\n",
    "\n",
    "from analysis_utils import *\n",
    "from utilities import *\n",
    "from models import *\n",
    "from stimulus import *\n",
    "\n",
    "import wandb"
   ]
  },
  {
   "cell_type": "code",
   "execution_count": 2,
   "metadata": {},
   "outputs": [
    {
     "name": "stderr",
     "output_type": "stream",
     "text": [
      "Failed to detect the name of this notebook, you can set it manually with the WANDB_NOTEBOOK_NAME environment variable to enable code saving.\n"
     ]
    },
    {
     "name": "stderr",
     "output_type": "stream",
     "text": [
      "\u001b[34m\u001b[1mwandb\u001b[0m: Currently logged in as: \u001b[33mfishysoup\u001b[0m. Use \u001b[1m`wandb login --relogin`\u001b[0m to force relogin\n"
     ]
    },
    {
     "data": {
      "text/plain": [
       "True"
      ]
     },
     "execution_count": 2,
     "metadata": {},
     "output_type": "execute_result"
    }
   ],
   "source": [
    "wandb.login()"
   ]
  },
  {
   "cell_type": "code",
   "execution_count": 3,
   "metadata": {},
   "outputs": [],
   "source": [
    "# Defaults\n",
    "image_set = 'A'\n",
    "noise_std = 0.5\n",
    "hidden_dim = 16\n",
    "l2_penalty = 0.001\n",
    "seq_length = 50000\n",
    "delay_dur = 500\n",
    "batch_size = 128\n",
    "epochs = 2000\n",
    "log_interval = 100\n",
    "omit_frac = 0.05\n",
    "pos_weight = 5"
   ]
  },
  {
   "cell_type": "code",
   "execution_count": 4,
   "metadata": {},
   "outputs": [],
   "source": [
    "# hyperparams\n",
    "sweep_config = {\n",
    "    'method': 'bayes',\n",
    "    'metric': {\n",
    "        'name': 'adapt_slope',\n",
    "        'goal': 'minimize'\n",
    "    },\n",
    "    'parameters': {\n",
    "        'syn_tau': {\n",
    "            'distribution': 'uniform',\n",
    "            'min': 6,\n",
    "            'max': 20,\n",
    "        },\n",
    "        'patience': {\n",
    "            'values':  [5, 10, 15, 20]\n",
    "        },\n",
    "        'dprime_targ': {\n",
    "            'distribution': 'uniform',\n",
    "            'min': 1.0,\n",
    "            'max': 2.0,\n",
    "        },\n",
    "        \n",
    "    }\n",
    "}"
   ]
  },
  {
   "cell_type": "code",
   "execution_count": 5,
   "metadata": {},
   "outputs": [],
   "source": [
    "def train(device, train_generator, model, criterion, optimizer):\n",
    "    \"\"\"\n",
    "    Train model\n",
    "    \"\"\"\n",
    "    model.train()\n",
    "\n",
    "    # Get inputs and labels\n",
    "    inputs, inputs_prev, labels, _, mask, _ = train_generator.generate_batch()\n",
    "    # Send to device\n",
    "    inputs = torch.from_numpy(inputs).to(device)\n",
    "    inputs_prev = torch.from_numpy(inputs_prev).to(device)\n",
    "    labels = torch.from_numpy(labels).to(device)\n",
    "    mask = torch.from_numpy(mask).to(device)\n",
    "\n",
    "    # Initialize syn_x or hidden state\n",
    "    model.syn_x = model.init_syn_x(batch_size).to(device)\n",
    "    # output\n",
    "    output, hidden, _ = model(inputs)\n",
    "    # Convert to binary prediction\n",
    "    output = torch.sigmoid(output)\n",
    "    pred = torch.bernoulli(output).byte()\n",
    "\n",
    "    hit_rate, fa_rate = get_hit_false_rate(pred, labels)\n",
    "    # Compute dprime\n",
    "    dprime_true = dprime(hit_rate, fa_rate)\n",
    "\n",
    "    loss = criterion(output, labels.clamp(min=0))\n",
    "    # Apply mask and take mean\n",
    "    loss = (loss * mask).mean()\n",
    "\n",
    "    # L2 loss on hidden unit activations\n",
    "    L2_loss = hidden.pow(2).mean()\n",
    "    loss += l2_penalty * L2_loss\n",
    "    loss.backward()\n",
    "    optimizer.step()\n",
    "    return loss.item(), dprime_true.item()\n",
    "\n",
    "\n",
    "def test(device, test_generator, model):\n",
    "    \"\"\"\n",
    "    Test model, get predictions and plot confusion matrix\n",
    "    \"\"\"\n",
    "    model.eval()\n",
    "\n",
    "    with torch.no_grad():\n",
    "        # Get inputs and labels\n",
    "        inputs, inputs_prev, labels, image,  _, omit = test_generator.generate_batch()\n",
    "\n",
    "        # Send to device\n",
    "        inputs = torch.from_numpy(inputs).to(device)\n",
    "        inputs_prev = torch.from_numpy(inputs_prev).to(device)\n",
    "        labels = torch.from_numpy(labels).to(device)\n",
    "\n",
    "        # Initialize syn_x or hidden state\n",
    "        model.syn_x = model.init_syn_x(batch_size).to(device)\n",
    "\n",
    "        output, hidden, input_syn = model(inputs)\n",
    "\n",
    "    # Convert to binary prediction\n",
    "    output = torch.sigmoid(output)\n",
    "    pred = torch.bernoulli(output).byte()\n",
    "\n",
    "    # Compute hit rate and false alarm rate\n",
    "    hit_rate, fa_rate = get_hit_false_rate(pred, labels)\n",
    "    # Compute dprime\n",
    "    dprime_true = dprime(hit_rate, fa_rate)\n",
    "\n",
    "    adapt_slope = get_adapt_slope(input_syn.cpu(), labels.cpu(), image)\n",
    "    \n",
    "    return dprime_true.item(), hit_rate, fa_rate, input_syn, hidden, output, pred, image, labels, omit, adapt_slope\n",
    "\n",
    "def get_adapt_slope(input_act, labels, image):\n",
    "    img_idx = [np.argwhere(image == i) for i in range(8)]\n",
    "    input_act_image = [\n",
    "        input_act[i[:, 0], i[:, 1]].mean(axis=0) for i in img_idx]\n",
    "    pref_image = np.argmax(np.stack(input_act_image), axis=0)\n",
    "    go_trial = np.zeros((input_act.shape[2], 19))\n",
    "    for cell in range(go_trial.shape[0]):\n",
    "        idx = np.argwhere((labels.cpu().numpy().squeeze() == 1) &\n",
    "                          (image == pref_image[cell]))\n",
    "        go_trials = []\n",
    "        for trial in idx:\n",
    "            trial_chunk = input_act[trial[0],\n",
    "                                    (trial[1]-9):(trial[1]+9+1), cell]\n",
    "            if trial_chunk.shape[0] == go_trial.shape[1]:\n",
    "                go_trials.append(trial_chunk)\n",
    "        go_trial[cell, :] = np.stack(go_trials).mean(axis=0)\n",
    "\n",
    "    x = np.arange(4)\n",
    "    # starting at event, 3::\n",
    "    y = go_trial[:, ::3].mean(axis=0)[3::]\n",
    "    g, _ = np.polyfit(x, y, 1)\n",
    "    return g\n"
   ]
  },
  {
   "cell_type": "code",
   "execution_count": 6,
   "metadata": {},
   "outputs": [],
   "source": [
    "def run_model(config=None):\n",
    "    use_cuda = torch.cuda.is_available()\n",
    "    device = torch.device(\"cuda\" if use_cuda else \"cpu\")\n",
    "    # Set random seed\n",
    "    # Create train stimulus generator\n",
    "    train_generator = StimGenerator(image_set=image_set, seed=1,\n",
    "                                    batch_size=batch_size, seq_length=seq_length,\n",
    "                                    delay_dur=delay_dur)\n",
    "\n",
    "    # Get input dimension of feature vector\n",
    "    input_dim = len(train_generator.feature_dict[0])\n",
    "\n",
    "    # Create model\n",
    "    with wandb.init(config=config):\n",
    "        config = wandb.config\n",
    "        \n",
    "        model = STPNet(input_dim=input_dim,\n",
    "                        hidden_dim=hidden_dim,\n",
    "                        syn_tau=config.syn_tau,\n",
    "                        noise_std=noise_std).to(device)\n",
    "\n",
    "        # Define loss function\n",
    "        criterion = torch.nn.BCEWithLogitsLoss(\n",
    "            reduction='none', pos_weight=torch.tensor([pos_weight]).to(device))\n",
    "        optimizer = torch.optim.Adam(model.parameters(), lr=0.001)\n",
    "\n",
    "        # Initialize tracking variables\n",
    "        loss_list = []\n",
    "        dprime = 0\n",
    "        dprime_list = []\n",
    "        wait = 0\n",
    "\n",
    "        for epoch in range(1, epochs + 1):\n",
    "            # Train model\n",
    "            loss, dprime = train(device, train_generator,\n",
    "                                model, criterion, optimizer)\n",
    "\n",
    "            loss_list.append(loss)\n",
    "            dprime_list.append(dprime)\n",
    "\n",
    "            if epoch % log_interval == 0:\n",
    "                # Print current progress\n",
    "                print(\"Epoch: {}  loss: {:.4f}  dprime: {:.2f}\".format(\n",
    "                    epoch, loss, dprime))\n",
    "\n",
    "            if dprime < config.dprime_targ:\n",
    "                # Reset wait count\n",
    "                wait = 0\n",
    "            else:\n",
    "                # Increase wait count\n",
    "                wait += 1\n",
    "                # Stop training after wait exceeds patience\n",
    "                if wait >= config.patience:\n",
    "                    break\n",
    "\n",
    "        test_generator = StimGenerator(image_set=image_set, seed=1,\n",
    "                                    batch_size=batch_size, seq_length=seq_length,\n",
    "                                    delay_dur=delay_dur, omit_frac=omit_frac)\n",
    "\n",
    "        dprime_true, hit_rate, fa_rate, input_syn, hidden, output, pred, image, labels, omit, adapt_slope = test(device, test_generator, model)\n",
    "        wandb.log({\"adapt_slope\": adapt_slope, 'loss': loss, 'dprime_true': dprime_true})\n",
    "        # Save trained model\n",
    "        save_dir = './PARAM/wandb/STPNet/model_train'\n",
    "        if not os.path.exists(save_dir):\n",
    "            os.makedirs(save_dir)\n",
    "        save_path = save_dir+'/syn_tau_{}_patience_{}_dprime_targ_{}.pt'.format(config.syn_tau, config.patience, config.dprime_targ)\n",
    "        torch.save({'epoch': epoch,\n",
    "                    'loss': loss_list,\n",
    "                    'dprime': dprime_list,\n",
    "                    'state_dict': model.state_dict()}, save_path)"
   ]
  },
  {
   "cell_type": "code",
   "execution_count": 7,
   "metadata": {},
   "outputs": [
    {
     "name": "stdout",
     "output_type": "stream",
     "text": [
      "Create sweep with ID: uq4nb1mu\n",
      "Sweep URL: https://wandb.ai/fishysoup/STPNet_bayes_sweep/sweeps/uq4nb1mu\n"
     ]
    }
   ],
   "source": [
    "sweep_id = wandb.sweep(sweep_config, project=\"STPNet_bayes_sweep\")"
   ]
  },
  {
   "cell_type": "code",
   "execution_count": null,
   "metadata": {},
   "outputs": [],
   "source": []
  },
  {
   "cell_type": "code",
   "execution_count": 8,
   "metadata": {},
   "outputs": [
    {
     "name": "stderr",
     "output_type": "stream",
     "text": [
      "\u001b[34m\u001b[1mwandb\u001b[0m: Agent Starting Run: jgl98wvg with config:\n",
      "\u001b[34m\u001b[1mwandb\u001b[0m: \tdprime_targ: 1.1511708378656067\n",
      "\u001b[34m\u001b[1mwandb\u001b[0m: \tpatience: 15\n",
      "\u001b[34m\u001b[1mwandb\u001b[0m: \tsyn_tau: 14.336579435975835\n",
      "Failed to detect the name of this notebook, you can set it manually with the WANDB_NOTEBOOK_NAME environment variable to enable code saving.\n"
     ]
    },
    {
     "data": {
      "text/html": [
       "Tracking run with wandb version 0.15.8"
      ],
      "text/plain": [
       "<IPython.core.display.HTML object>"
      ]
     },
     "metadata": {},
     "output_type": "display_data"
    },
    {
     "data": {
      "text/html": [
       "Run data is saved locally in <code>/mmfs1/gscratch/rao/aresf/Code/STSPNet/wandb/run-20230803_091034-jgl98wvg</code>"
      ],
      "text/plain": [
       "<IPython.core.display.HTML object>"
      ]
     },
     "metadata": {},
     "output_type": "display_data"
    },
    {
     "data": {
      "text/html": [
       "Syncing run <strong><a href='https://wandb.ai/fishysoup/STPNet_bayes_sweep/runs/jgl98wvg' target=\"_blank\">flowing-sweep-1</a></strong> to <a href='https://wandb.ai/fishysoup/STPNet_bayes_sweep' target=\"_blank\">Weights & Biases</a> (<a href='https://wandb.me/run' target=\"_blank\">docs</a>)<br/>Sweep page: <a href='https://wandb.ai/fishysoup/STPNet_bayes_sweep/sweeps/uq4nb1mu' target=\"_blank\">https://wandb.ai/fishysoup/STPNet_bayes_sweep/sweeps/uq4nb1mu</a>"
      ],
      "text/plain": [
       "<IPython.core.display.HTML object>"
      ]
     },
     "metadata": {},
     "output_type": "display_data"
    },
    {
     "data": {
      "text/html": [
       " View project at <a href='https://wandb.ai/fishysoup/STPNet_bayes_sweep' target=\"_blank\">https://wandb.ai/fishysoup/STPNet_bayes_sweep</a>"
      ],
      "text/plain": [
       "<IPython.core.display.HTML object>"
      ]
     },
     "metadata": {},
     "output_type": "display_data"
    },
    {
     "data": {
      "text/html": [
       " View sweep at <a href='https://wandb.ai/fishysoup/STPNet_bayes_sweep/sweeps/uq4nb1mu' target=\"_blank\">https://wandb.ai/fishysoup/STPNet_bayes_sweep/sweeps/uq4nb1mu</a>"
      ],
      "text/plain": [
       "<IPython.core.display.HTML object>"
      ]
     },
     "metadata": {},
     "output_type": "display_data"
    },
    {
     "data": {
      "text/html": [
       " View run at <a href='https://wandb.ai/fishysoup/STPNet_bayes_sweep/runs/jgl98wvg' target=\"_blank\">https://wandb.ai/fishysoup/STPNet_bayes_sweep/runs/jgl98wvg</a>"
      ],
      "text/plain": [
       "<IPython.core.display.HTML object>"
      ]
     },
     "metadata": {},
     "output_type": "display_data"
    },
    {
     "name": "stdout",
     "output_type": "stream",
     "text": [
      "Epoch: 100  loss: 0.3583  dprime: 0.49\n",
      "Epoch: 200  loss: 0.3310  dprime: 1.26\n"
     ]
    },
    {
     "data": {
      "text/html": [
       "Waiting for W&B process to finish... <strong style=\"color:green\">(success).</strong>"
      ],
      "text/plain": [
       "<IPython.core.display.HTML object>"
      ]
     },
     "metadata": {},
     "output_type": "display_data"
    },
    {
     "name": "stderr",
     "output_type": "stream",
     "text": [
      "wandb: WARNING Source type is set to 'repo' but some required information is missing from the environment. A job will not be created from this run. See https://docs.wandb.ai/guides/launch/create-job\n"
     ]
    },
    {
     "data": {
      "application/vnd.jupyter.widget-view+json": {
       "model_id": "d456cb759e96449aadd4d0b96198344f",
       "version_major": 2,
       "version_minor": 0
      },
      "text/plain": [
       "VBox(children=(Label(value='0.005 MB of 0.005 MB uploaded (0.000 MB deduped)\\r'), FloatProgress(value=1.0, max…"
      ]
     },
     "metadata": {},
     "output_type": "display_data"
    },
    {
     "data": {
      "text/html": [
       "<style>\n",
       "    table.wandb td:nth-child(1) { padding: 0 10px; text-align: left ; width: auto;} td:nth-child(2) {text-align: left ; width: 100%}\n",
       "    .wandb-row { display: flex; flex-direction: row; flex-wrap: wrap; justify-content: flex-start; width: 100% }\n",
       "    .wandb-col { display: flex; flex-direction: column; flex-basis: 100%; flex: 1; padding: 10px; }\n",
       "    </style>\n",
       "<div class=\"wandb-row\"><div class=\"wandb-col\"><h3>Run history:</h3><br/><table class=\"wandb\"><tr><td>adapt_slope</td><td>▁</td></tr><tr><td>dprime_true</td><td>▁</td></tr><tr><td>loss</td><td>▁</td></tr></table><br/></div><div class=\"wandb-col\"><h3>Run summary:</h3><br/><table class=\"wandb\"><tr><td>adapt_slope</td><td>-0.01232</td></tr><tr><td>dprime_true</td><td>1.6843</td></tr><tr><td>loss</td><td>0.32795</td></tr></table><br/></div></div>"
      ],
      "text/plain": [
       "<IPython.core.display.HTML object>"
      ]
     },
     "metadata": {},
     "output_type": "display_data"
    },
    {
     "data": {
      "text/html": [
       " View run <strong style=\"color:#cdcd00\">flowing-sweep-1</strong> at: <a href='https://wandb.ai/fishysoup/STPNet_bayes_sweep/runs/jgl98wvg' target=\"_blank\">https://wandb.ai/fishysoup/STPNet_bayes_sweep/runs/jgl98wvg</a><br/>Synced 6 W&B file(s), 0 media file(s), 0 artifact file(s) and 0 other file(s)"
      ],
      "text/plain": [
       "<IPython.core.display.HTML object>"
      ]
     },
     "metadata": {},
     "output_type": "display_data"
    },
    {
     "data": {
      "text/html": [
       "Find logs at: <code>./wandb/run-20230803_091034-jgl98wvg/logs</code>"
      ],
      "text/plain": [
       "<IPython.core.display.HTML object>"
      ]
     },
     "metadata": {},
     "output_type": "display_data"
    },
    {
     "name": "stderr",
     "output_type": "stream",
     "text": [
      "\u001b[34m\u001b[1mwandb\u001b[0m: Agent Starting Run: 4x8kp9ze with config:\n",
      "\u001b[34m\u001b[1mwandb\u001b[0m: \tdprime_targ: 1.8685218547009703\n",
      "\u001b[34m\u001b[1mwandb\u001b[0m: \tpatience: 5\n",
      "\u001b[34m\u001b[1mwandb\u001b[0m: \tsyn_tau: 6.659931008576023\n",
      "Failed to detect the name of this notebook, you can set it manually with the WANDB_NOTEBOOK_NAME environment variable to enable code saving.\n"
     ]
    },
    {
     "data": {
      "text/html": [
       "Tracking run with wandb version 0.15.8"
      ],
      "text/plain": [
       "<IPython.core.display.HTML object>"
      ]
     },
     "metadata": {},
     "output_type": "display_data"
    },
    {
     "data": {
      "text/html": [
       "Run data is saved locally in <code>/mmfs1/gscratch/rao/aresf/Code/STSPNet/wandb/run-20230803_091120-4x8kp9ze</code>"
      ],
      "text/plain": [
       "<IPython.core.display.HTML object>"
      ]
     },
     "metadata": {},
     "output_type": "display_data"
    },
    {
     "data": {
      "text/html": [
       "Syncing run <strong><a href='https://wandb.ai/fishysoup/STPNet_bayes_sweep/runs/4x8kp9ze' target=\"_blank\">wise-sweep-2</a></strong> to <a href='https://wandb.ai/fishysoup/STPNet_bayes_sweep' target=\"_blank\">Weights & Biases</a> (<a href='https://wandb.me/run' target=\"_blank\">docs</a>)<br/>Sweep page: <a href='https://wandb.ai/fishysoup/STPNet_bayes_sweep/sweeps/uq4nb1mu' target=\"_blank\">https://wandb.ai/fishysoup/STPNet_bayes_sweep/sweeps/uq4nb1mu</a>"
      ],
      "text/plain": [
       "<IPython.core.display.HTML object>"
      ]
     },
     "metadata": {},
     "output_type": "display_data"
    },
    {
     "data": {
      "text/html": [
       " View project at <a href='https://wandb.ai/fishysoup/STPNet_bayes_sweep' target=\"_blank\">https://wandb.ai/fishysoup/STPNet_bayes_sweep</a>"
      ],
      "text/plain": [
       "<IPython.core.display.HTML object>"
      ]
     },
     "metadata": {},
     "output_type": "display_data"
    },
    {
     "data": {
      "text/html": [
       " View sweep at <a href='https://wandb.ai/fishysoup/STPNet_bayes_sweep/sweeps/uq4nb1mu' target=\"_blank\">https://wandb.ai/fishysoup/STPNet_bayes_sweep/sweeps/uq4nb1mu</a>"
      ],
      "text/plain": [
       "<IPython.core.display.HTML object>"
      ]
     },
     "metadata": {},
     "output_type": "display_data"
    },
    {
     "data": {
      "text/html": [
       " View run at <a href='https://wandb.ai/fishysoup/STPNet_bayes_sweep/runs/4x8kp9ze' target=\"_blank\">https://wandb.ai/fishysoup/STPNet_bayes_sweep/runs/4x8kp9ze</a>"
      ],
      "text/plain": [
       "<IPython.core.display.HTML object>"
      ]
     },
     "metadata": {},
     "output_type": "display_data"
    },
    {
     "name": "stdout",
     "output_type": "stream",
     "text": [
      "Epoch: 100  loss: 0.3623  dprime: 0.39\n",
      "Epoch: 200  loss: 0.3436  dprime: 0.78\n",
      "Epoch: 300  loss: 0.3333  dprime: 1.46\n",
      "Epoch: 400  loss: 0.3311  dprime: 1.44\n",
      "Epoch: 500  loss: 0.3296  dprime: 1.81\n",
      "Epoch: 600  loss: 0.3276  dprime: 1.32\n",
      "Epoch: 700  loss: 0.3312  dprime: 1.97\n",
      "Epoch: 800  loss: 0.3299  dprime: 1.50\n",
      "Epoch: 900  loss: 0.3286  dprime: 1.65\n",
      "Epoch: 1000  loss: 0.3256  dprime: 1.51\n",
      "Epoch: 1100  loss: 0.3246  dprime: 1.43\n"
     ]
    },
    {
     "data": {
      "text/html": [
       "Waiting for W&B process to finish... <strong style=\"color:green\">(success).</strong>"
      ],
      "text/plain": [
       "<IPython.core.display.HTML object>"
      ]
     },
     "metadata": {},
     "output_type": "display_data"
    },
    {
     "name": "stderr",
     "output_type": "stream",
     "text": [
      "wandb: WARNING Source type is set to 'repo' but some required information is missing from the environment. A job will not be created from this run. See https://docs.wandb.ai/guides/launch/create-job\n"
     ]
    },
    {
     "data": {
      "text/html": [
       "<style>\n",
       "    table.wandb td:nth-child(1) { padding: 0 10px; text-align: left ; width: auto;} td:nth-child(2) {text-align: left ; width: 100%}\n",
       "    .wandb-row { display: flex; flex-direction: row; flex-wrap: wrap; justify-content: flex-start; width: 100% }\n",
       "    .wandb-col { display: flex; flex-direction: column; flex-basis: 100%; flex: 1; padding: 10px; }\n",
       "    </style>\n",
       "<div class=\"wandb-row\"><div class=\"wandb-col\"><h3>Run history:</h3><br/><table class=\"wandb\"><tr><td>adapt_slope</td><td>▁</td></tr><tr><td>dprime_true</td><td>▁</td></tr><tr><td>loss</td><td>▁</td></tr></table><br/></div><div class=\"wandb-col\"><h3>Run summary:</h3><br/><table class=\"wandb\"><tr><td>adapt_slope</td><td>-0.02164</td></tr><tr><td>dprime_true</td><td>2.13518</td></tr><tr><td>loss</td><td>0.32596</td></tr></table><br/></div></div>"
      ],
      "text/plain": [
       "<IPython.core.display.HTML object>"
      ]
     },
     "metadata": {},
     "output_type": "display_data"
    },
    {
     "data": {
      "text/html": [
       " View run <strong style=\"color:#cdcd00\">wise-sweep-2</strong> at: <a href='https://wandb.ai/fishysoup/STPNet_bayes_sweep/runs/4x8kp9ze' target=\"_blank\">https://wandb.ai/fishysoup/STPNet_bayes_sweep/runs/4x8kp9ze</a><br/>Synced 6 W&B file(s), 0 media file(s), 0 artifact file(s) and 0 other file(s)"
      ],
      "text/plain": [
       "<IPython.core.display.HTML object>"
      ]
     },
     "metadata": {},
     "output_type": "display_data"
    },
    {
     "data": {
      "text/html": [
       "Find logs at: <code>./wandb/run-20230803_091120-4x8kp9ze/logs</code>"
      ],
      "text/plain": [
       "<IPython.core.display.HTML object>"
      ]
     },
     "metadata": {},
     "output_type": "display_data"
    },
    {
     "name": "stderr",
     "output_type": "stream",
     "text": [
      "\u001b[34m\u001b[1mwandb\u001b[0m: Agent Starting Run: wspf2myz with config:\n",
      "\u001b[34m\u001b[1mwandb\u001b[0m: \tdprime_targ: 1.5648806153697297\n",
      "\u001b[34m\u001b[1mwandb\u001b[0m: \tpatience: 10\n",
      "\u001b[34m\u001b[1mwandb\u001b[0m: \tsyn_tau: 18.114260379158836\n",
      "Failed to detect the name of this notebook, you can set it manually with the WANDB_NOTEBOOK_NAME environment variable to enable code saving.\n"
     ]
    },
    {
     "data": {
      "text/html": [
       "Tracking run with wandb version 0.15.8"
      ],
      "text/plain": [
       "<IPython.core.display.HTML object>"
      ]
     },
     "metadata": {},
     "output_type": "display_data"
    },
    {
     "data": {
      "text/html": [
       "Run data is saved locally in <code>/mmfs1/gscratch/rao/aresf/Code/STSPNet/wandb/run-20230803_091450-wspf2myz</code>"
      ],
      "text/plain": [
       "<IPython.core.display.HTML object>"
      ]
     },
     "metadata": {},
     "output_type": "display_data"
    },
    {
     "data": {
      "text/html": [
       "Syncing run <strong><a href='https://wandb.ai/fishysoup/STPNet_bayes_sweep/runs/wspf2myz' target=\"_blank\">logical-sweep-3</a></strong> to <a href='https://wandb.ai/fishysoup/STPNet_bayes_sweep' target=\"_blank\">Weights & Biases</a> (<a href='https://wandb.me/run' target=\"_blank\">docs</a>)<br/>Sweep page: <a href='https://wandb.ai/fishysoup/STPNet_bayes_sweep/sweeps/uq4nb1mu' target=\"_blank\">https://wandb.ai/fishysoup/STPNet_bayes_sweep/sweeps/uq4nb1mu</a>"
      ],
      "text/plain": [
       "<IPython.core.display.HTML object>"
      ]
     },
     "metadata": {},
     "output_type": "display_data"
    },
    {
     "data": {
      "text/html": [
       " View project at <a href='https://wandb.ai/fishysoup/STPNet_bayes_sweep' target=\"_blank\">https://wandb.ai/fishysoup/STPNet_bayes_sweep</a>"
      ],
      "text/plain": [
       "<IPython.core.display.HTML object>"
      ]
     },
     "metadata": {},
     "output_type": "display_data"
    },
    {
     "data": {
      "text/html": [
       " View sweep at <a href='https://wandb.ai/fishysoup/STPNet_bayes_sweep/sweeps/uq4nb1mu' target=\"_blank\">https://wandb.ai/fishysoup/STPNet_bayes_sweep/sweeps/uq4nb1mu</a>"
      ],
      "text/plain": [
       "<IPython.core.display.HTML object>"
      ]
     },
     "metadata": {},
     "output_type": "display_data"
    },
    {
     "data": {
      "text/html": [
       " View run at <a href='https://wandb.ai/fishysoup/STPNet_bayes_sweep/runs/wspf2myz' target=\"_blank\">https://wandb.ai/fishysoup/STPNet_bayes_sweep/runs/wspf2myz</a>"
      ],
      "text/plain": [
       "<IPython.core.display.HTML object>"
      ]
     },
     "metadata": {},
     "output_type": "display_data"
    },
    {
     "name": "stdout",
     "output_type": "stream",
     "text": [
      "Epoch: 100  loss: 0.3568  dprime: 0.68\n",
      "Epoch: 200  loss: 0.3303  dprime: 1.40\n"
     ]
    },
    {
     "data": {
      "text/html": [
       "Waiting for W&B process to finish... <strong style=\"color:green\">(success).</strong>"
      ],
      "text/plain": [
       "<IPython.core.display.HTML object>"
      ]
     },
     "metadata": {},
     "output_type": "display_data"
    },
    {
     "name": "stderr",
     "output_type": "stream",
     "text": [
      "wandb: WARNING Source type is set to 'repo' but some required information is missing from the environment. A job will not be created from this run. See https://docs.wandb.ai/guides/launch/create-job\n"
     ]
    },
    {
     "data": {
      "application/vnd.jupyter.widget-view+json": {
       "model_id": "53adf8dd73f3460b94f6c163328ff915",
       "version_major": 2,
       "version_minor": 0
      },
      "text/plain": [
       "VBox(children=(Label(value='0.005 MB of 0.017 MB uploaded (0.000 MB deduped)\\r'), FloatProgress(value=0.303834…"
      ]
     },
     "metadata": {},
     "output_type": "display_data"
    },
    {
     "data": {
      "text/html": [
       "<style>\n",
       "    table.wandb td:nth-child(1) { padding: 0 10px; text-align: left ; width: auto;} td:nth-child(2) {text-align: left ; width: 100%}\n",
       "    .wandb-row { display: flex; flex-direction: row; flex-wrap: wrap; justify-content: flex-start; width: 100% }\n",
       "    .wandb-col { display: flex; flex-direction: column; flex-basis: 100%; flex: 1; padding: 10px; }\n",
       "    </style>\n",
       "<div class=\"wandb-row\"><div class=\"wandb-col\"><h3>Run history:</h3><br/><table class=\"wandb\"><tr><td>adapt_slope</td><td>▁</td></tr><tr><td>dprime_true</td><td>▁</td></tr><tr><td>loss</td><td>▁</td></tr></table><br/></div><div class=\"wandb-col\"><h3>Run summary:</h3><br/><table class=\"wandb\"><tr><td>adapt_slope</td><td>-0.00917</td></tr><tr><td>dprime_true</td><td>1.55076</td></tr><tr><td>loss</td><td>0.31886</td></tr></table><br/></div></div>"
      ],
      "text/plain": [
       "<IPython.core.display.HTML object>"
      ]
     },
     "metadata": {},
     "output_type": "display_data"
    },
    {
     "data": {
      "text/html": [
       " View run <strong style=\"color:#cdcd00\">logical-sweep-3</strong> at: <a href='https://wandb.ai/fishysoup/STPNet_bayes_sweep/runs/wspf2myz' target=\"_blank\">https://wandb.ai/fishysoup/STPNet_bayes_sweep/runs/wspf2myz</a><br/>Synced 6 W&B file(s), 0 media file(s), 0 artifact file(s) and 0 other file(s)"
      ],
      "text/plain": [
       "<IPython.core.display.HTML object>"
      ]
     },
     "metadata": {},
     "output_type": "display_data"
    },
    {
     "data": {
      "text/html": [
       "Find logs at: <code>./wandb/run-20230803_091450-wspf2myz/logs</code>"
      ],
      "text/plain": [
       "<IPython.core.display.HTML object>"
      ]
     },
     "metadata": {},
     "output_type": "display_data"
    },
    {
     "name": "stderr",
     "output_type": "stream",
     "text": [
      "\u001b[34m\u001b[1mwandb\u001b[0m: Sweep Agent: Waiting for job.\n",
      "\u001b[34m\u001b[1mwandb\u001b[0m: Job received.\n",
      "\u001b[34m\u001b[1mwandb\u001b[0m: Agent Starting Run: 22esl7ey with config:\n",
      "\u001b[34m\u001b[1mwandb\u001b[0m: \tdprime_targ: 1.8532422983881989\n",
      "\u001b[34m\u001b[1mwandb\u001b[0m: \tpatience: 5\n",
      "\u001b[34m\u001b[1mwandb\u001b[0m: \tsyn_tau: 7.07717223517365\n",
      "Failed to detect the name of this notebook, you can set it manually with the WANDB_NOTEBOOK_NAME environment variable to enable code saving.\n"
     ]
    },
    {
     "data": {
      "text/html": [
       "Tracking run with wandb version 0.15.8"
      ],
      "text/plain": [
       "<IPython.core.display.HTML object>"
      ]
     },
     "metadata": {},
     "output_type": "display_data"
    },
    {
     "data": {
      "text/html": [
       "Run data is saved locally in <code>/mmfs1/gscratch/rao/aresf/Code/STSPNet/wandb/run-20230803_091551-22esl7ey</code>"
      ],
      "text/plain": [
       "<IPython.core.display.HTML object>"
      ]
     },
     "metadata": {},
     "output_type": "display_data"
    },
    {
     "data": {
      "text/html": [
       "Syncing run <strong><a href='https://wandb.ai/fishysoup/STPNet_bayes_sweep/runs/22esl7ey' target=\"_blank\">effortless-sweep-4</a></strong> to <a href='https://wandb.ai/fishysoup/STPNet_bayes_sweep' target=\"_blank\">Weights & Biases</a> (<a href='https://wandb.me/run' target=\"_blank\">docs</a>)<br/>Sweep page: <a href='https://wandb.ai/fishysoup/STPNet_bayes_sweep/sweeps/uq4nb1mu' target=\"_blank\">https://wandb.ai/fishysoup/STPNet_bayes_sweep/sweeps/uq4nb1mu</a>"
      ],
      "text/plain": [
       "<IPython.core.display.HTML object>"
      ]
     },
     "metadata": {},
     "output_type": "display_data"
    },
    {
     "data": {
      "text/html": [
       " View project at <a href='https://wandb.ai/fishysoup/STPNet_bayes_sweep' target=\"_blank\">https://wandb.ai/fishysoup/STPNet_bayes_sweep</a>"
      ],
      "text/plain": [
       "<IPython.core.display.HTML object>"
      ]
     },
     "metadata": {},
     "output_type": "display_data"
    },
    {
     "data": {
      "text/html": [
       " View sweep at <a href='https://wandb.ai/fishysoup/STPNet_bayes_sweep/sweeps/uq4nb1mu' target=\"_blank\">https://wandb.ai/fishysoup/STPNet_bayes_sweep/sweeps/uq4nb1mu</a>"
      ],
      "text/plain": [
       "<IPython.core.display.HTML object>"
      ]
     },
     "metadata": {},
     "output_type": "display_data"
    },
    {
     "data": {
      "text/html": [
       " View run at <a href='https://wandb.ai/fishysoup/STPNet_bayes_sweep/runs/22esl7ey' target=\"_blank\">https://wandb.ai/fishysoup/STPNet_bayes_sweep/runs/22esl7ey</a>"
      ],
      "text/plain": [
       "<IPython.core.display.HTML object>"
      ]
     },
     "metadata": {},
     "output_type": "display_data"
    },
    {
     "name": "stdout",
     "output_type": "stream",
     "text": [
      "Epoch: 100  loss: 0.3552  dprime: 0.41\n",
      "Epoch: 200  loss: 0.3347  dprime: 1.17\n",
      "Epoch: 300  loss: 0.3318  dprime: 1.41\n",
      "Epoch: 400  loss: 0.3314  dprime: 1.48\n",
      "Epoch: 500  loss: 0.3272  dprime: 1.83\n",
      "Epoch: 600  loss: 0.3278  dprime: 2.28\n",
      "Epoch: 700  loss: 0.3286  dprime: 1.43\n"
     ]
    },
    {
     "data": {
      "text/html": [
       "Waiting for W&B process to finish... <strong style=\"color:green\">(success).</strong>"
      ],
      "text/plain": [
       "<IPython.core.display.HTML object>"
      ]
     },
     "metadata": {},
     "output_type": "display_data"
    },
    {
     "name": "stderr",
     "output_type": "stream",
     "text": [
      "wandb: WARNING Source type is set to 'repo' but some required information is missing from the environment. A job will not be created from this run. See https://docs.wandb.ai/guides/launch/create-job\n"
     ]
    },
    {
     "data": {
      "application/vnd.jupyter.widget-view+json": {
       "model_id": "b2c0b2f9a8ec4e49ad4a72899773e47e",
       "version_major": 2,
       "version_minor": 0
      },
      "text/plain": [
       "VBox(children=(Label(value='0.005 MB of 0.005 MB uploaded (0.000 MB deduped)\\r'), FloatProgress(value=1.0, max…"
      ]
     },
     "metadata": {},
     "output_type": "display_data"
    },
    {
     "data": {
      "text/html": [
       "<style>\n",
       "    table.wandb td:nth-child(1) { padding: 0 10px; text-align: left ; width: auto;} td:nth-child(2) {text-align: left ; width: 100%}\n",
       "    .wandb-row { display: flex; flex-direction: row; flex-wrap: wrap; justify-content: flex-start; width: 100% }\n",
       "    .wandb-col { display: flex; flex-direction: column; flex-basis: 100%; flex: 1; padding: 10px; }\n",
       "    </style>\n",
       "<div class=\"wandb-row\"><div class=\"wandb-col\"><h3>Run history:</h3><br/><table class=\"wandb\"><tr><td>adapt_slope</td><td>▁</td></tr><tr><td>dprime_true</td><td>▁</td></tr><tr><td>loss</td><td>▁</td></tr></table><br/></div><div class=\"wandb-col\"><h3>Run summary:</h3><br/><table class=\"wandb\"><tr><td>adapt_slope</td><td>-0.01809</td></tr><tr><td>dprime_true</td><td>1.79797</td></tr><tr><td>loss</td><td>0.32816</td></tr></table><br/></div></div>"
      ],
      "text/plain": [
       "<IPython.core.display.HTML object>"
      ]
     },
     "metadata": {},
     "output_type": "display_data"
    },
    {
     "data": {
      "text/html": [
       " View run <strong style=\"color:#cdcd00\">effortless-sweep-4</strong> at: <a href='https://wandb.ai/fishysoup/STPNet_bayes_sweep/runs/22esl7ey' target=\"_blank\">https://wandb.ai/fishysoup/STPNet_bayes_sweep/runs/22esl7ey</a><br/>Synced 6 W&B file(s), 0 media file(s), 0 artifact file(s) and 0 other file(s)"
      ],
      "text/plain": [
       "<IPython.core.display.HTML object>"
      ]
     },
     "metadata": {},
     "output_type": "display_data"
    },
    {
     "data": {
      "text/html": [
       "Find logs at: <code>./wandb/run-20230803_091551-22esl7ey/logs</code>"
      ],
      "text/plain": [
       "<IPython.core.display.HTML object>"
      ]
     },
     "metadata": {},
     "output_type": "display_data"
    },
    {
     "name": "stderr",
     "output_type": "stream",
     "text": [
      "\u001b[34m\u001b[1mwandb\u001b[0m: Sweep Agent: Waiting for job.\n",
      "\u001b[34m\u001b[1mwandb\u001b[0m: Job received.\n",
      "\u001b[34m\u001b[1mwandb\u001b[0m: Agent Starting Run: x8rn10kh with config:\n",
      "\u001b[34m\u001b[1mwandb\u001b[0m: \tdprime_targ: 1.2137866407896234\n",
      "\u001b[34m\u001b[1mwandb\u001b[0m: \tpatience: 10\n",
      "\u001b[34m\u001b[1mwandb\u001b[0m: \tsyn_tau: 16.370354425057506\n",
      "Failed to detect the name of this notebook, you can set it manually with the WANDB_NOTEBOOK_NAME environment variable to enable code saving.\n"
     ]
    },
    {
     "data": {
      "text/html": [
       "Tracking run with wandb version 0.15.8"
      ],
      "text/plain": [
       "<IPython.core.display.HTML object>"
      ]
     },
     "metadata": {},
     "output_type": "display_data"
    },
    {
     "data": {
      "text/html": [
       "Run data is saved locally in <code>/mmfs1/gscratch/rao/aresf/Code/STSPNet/wandb/run-20230803_091814-x8rn10kh</code>"
      ],
      "text/plain": [
       "<IPython.core.display.HTML object>"
      ]
     },
     "metadata": {},
     "output_type": "display_data"
    },
    {
     "data": {
      "text/html": [
       "Syncing run <strong><a href='https://wandb.ai/fishysoup/STPNet_bayes_sweep/runs/x8rn10kh' target=\"_blank\">dark-sweep-5</a></strong> to <a href='https://wandb.ai/fishysoup/STPNet_bayes_sweep' target=\"_blank\">Weights & Biases</a> (<a href='https://wandb.me/run' target=\"_blank\">docs</a>)<br/>Sweep page: <a href='https://wandb.ai/fishysoup/STPNet_bayes_sweep/sweeps/uq4nb1mu' target=\"_blank\">https://wandb.ai/fishysoup/STPNet_bayes_sweep/sweeps/uq4nb1mu</a>"
      ],
      "text/plain": [
       "<IPython.core.display.HTML object>"
      ]
     },
     "metadata": {},
     "output_type": "display_data"
    },
    {
     "data": {
      "text/html": [
       " View project at <a href='https://wandb.ai/fishysoup/STPNet_bayes_sweep' target=\"_blank\">https://wandb.ai/fishysoup/STPNet_bayes_sweep</a>"
      ],
      "text/plain": [
       "<IPython.core.display.HTML object>"
      ]
     },
     "metadata": {},
     "output_type": "display_data"
    },
    {
     "data": {
      "text/html": [
       " View sweep at <a href='https://wandb.ai/fishysoup/STPNet_bayes_sweep/sweeps/uq4nb1mu' target=\"_blank\">https://wandb.ai/fishysoup/STPNet_bayes_sweep/sweeps/uq4nb1mu</a>"
      ],
      "text/plain": [
       "<IPython.core.display.HTML object>"
      ]
     },
     "metadata": {},
     "output_type": "display_data"
    },
    {
     "data": {
      "text/html": [
       " View run at <a href='https://wandb.ai/fishysoup/STPNet_bayes_sweep/runs/x8rn10kh' target=\"_blank\">https://wandb.ai/fishysoup/STPNet_bayes_sweep/runs/x8rn10kh</a>"
      ],
      "text/plain": [
       "<IPython.core.display.HTML object>"
      ]
     },
     "metadata": {},
     "output_type": "display_data"
    },
    {
     "name": "stdout",
     "output_type": "stream",
     "text": [
      "Epoch: 100  loss: 0.3587  dprime: 0.54\n",
      "Epoch: 200  loss: 0.3297  dprime: 1.24\n"
     ]
    },
    {
     "data": {
      "text/html": [
       "Waiting for W&B process to finish... <strong style=\"color:green\">(success).</strong>"
      ],
      "text/plain": [
       "<IPython.core.display.HTML object>"
      ]
     },
     "metadata": {},
     "output_type": "display_data"
    },
    {
     "name": "stderr",
     "output_type": "stream",
     "text": [
      "wandb: WARNING Source type is set to 'repo' but some required information is missing from the environment. A job will not be created from this run. See https://docs.wandb.ai/guides/launch/create-job\n"
     ]
    },
    {
     "data": {
      "text/html": [
       "<style>\n",
       "    table.wandb td:nth-child(1) { padding: 0 10px; text-align: left ; width: auto;} td:nth-child(2) {text-align: left ; width: 100%}\n",
       "    .wandb-row { display: flex; flex-direction: row; flex-wrap: wrap; justify-content: flex-start; width: 100% }\n",
       "    .wandb-col { display: flex; flex-direction: column; flex-basis: 100%; flex: 1; padding: 10px; }\n",
       "    </style>\n",
       "<div class=\"wandb-row\"><div class=\"wandb-col\"><h3>Run history:</h3><br/><table class=\"wandb\"><tr><td>adapt_slope</td><td>▁</td></tr><tr><td>dprime_true</td><td>▁</td></tr><tr><td>loss</td><td>▁</td></tr></table><br/></div><div class=\"wandb-col\"><h3>Run summary:</h3><br/><table class=\"wandb\"><tr><td>adapt_slope</td><td>-0.01871</td></tr><tr><td>dprime_true</td><td>1.26997</td></tr><tr><td>loss</td><td>0.33036</td></tr></table><br/></div></div>"
      ],
      "text/plain": [
       "<IPython.core.display.HTML object>"
      ]
     },
     "metadata": {},
     "output_type": "display_data"
    },
    {
     "data": {
      "text/html": [
       " View run <strong style=\"color:#cdcd00\">dark-sweep-5</strong> at: <a href='https://wandb.ai/fishysoup/STPNet_bayes_sweep/runs/x8rn10kh' target=\"_blank\">https://wandb.ai/fishysoup/STPNet_bayes_sweep/runs/x8rn10kh</a><br/>Synced 6 W&B file(s), 0 media file(s), 0 artifact file(s) and 0 other file(s)"
      ],
      "text/plain": [
       "<IPython.core.display.HTML object>"
      ]
     },
     "metadata": {},
     "output_type": "display_data"
    },
    {
     "data": {
      "text/html": [
       "Find logs at: <code>./wandb/run-20230803_091814-x8rn10kh/logs</code>"
      ],
      "text/plain": [
       "<IPython.core.display.HTML object>"
      ]
     },
     "metadata": {},
     "output_type": "display_data"
    },
    {
     "name": "stderr",
     "output_type": "stream",
     "text": [
      "\u001b[34m\u001b[1mwandb\u001b[0m: Agent Starting Run: rqxfoafq with config:\n",
      "\u001b[34m\u001b[1mwandb\u001b[0m: \tdprime_targ: 1.0580389778322443\n",
      "\u001b[34m\u001b[1mwandb\u001b[0m: \tpatience: 5\n",
      "\u001b[34m\u001b[1mwandb\u001b[0m: \tsyn_tau: 9.293398135137029\n",
      "Failed to detect the name of this notebook, you can set it manually with the WANDB_NOTEBOOK_NAME environment variable to enable code saving.\n"
     ]
    },
    {
     "data": {
      "text/html": [
       "Tracking run with wandb version 0.15.8"
      ],
      "text/plain": [
       "<IPython.core.display.HTML object>"
      ]
     },
     "metadata": {},
     "output_type": "display_data"
    },
    {
     "data": {
      "text/html": [
       "Run data is saved locally in <code>/mmfs1/gscratch/rao/aresf/Code/STSPNet/wandb/run-20230803_091900-rqxfoafq</code>"
      ],
      "text/plain": [
       "<IPython.core.display.HTML object>"
      ]
     },
     "metadata": {},
     "output_type": "display_data"
    },
    {
     "data": {
      "text/html": [
       "Syncing run <strong><a href='https://wandb.ai/fishysoup/STPNet_bayes_sweep/runs/rqxfoafq' target=\"_blank\">jumping-sweep-6</a></strong> to <a href='https://wandb.ai/fishysoup/STPNet_bayes_sweep' target=\"_blank\">Weights & Biases</a> (<a href='https://wandb.me/run' target=\"_blank\">docs</a>)<br/>Sweep page: <a href='https://wandb.ai/fishysoup/STPNet_bayes_sweep/sweeps/uq4nb1mu' target=\"_blank\">https://wandb.ai/fishysoup/STPNet_bayes_sweep/sweeps/uq4nb1mu</a>"
      ],
      "text/plain": [
       "<IPython.core.display.HTML object>"
      ]
     },
     "metadata": {},
     "output_type": "display_data"
    },
    {
     "data": {
      "text/html": [
       " View project at <a href='https://wandb.ai/fishysoup/STPNet_bayes_sweep' target=\"_blank\">https://wandb.ai/fishysoup/STPNet_bayes_sweep</a>"
      ],
      "text/plain": [
       "<IPython.core.display.HTML object>"
      ]
     },
     "metadata": {},
     "output_type": "display_data"
    },
    {
     "data": {
      "text/html": [
       " View sweep at <a href='https://wandb.ai/fishysoup/STPNet_bayes_sweep/sweeps/uq4nb1mu' target=\"_blank\">https://wandb.ai/fishysoup/STPNet_bayes_sweep/sweeps/uq4nb1mu</a>"
      ],
      "text/plain": [
       "<IPython.core.display.HTML object>"
      ]
     },
     "metadata": {},
     "output_type": "display_data"
    },
    {
     "data": {
      "text/html": [
       " View run at <a href='https://wandb.ai/fishysoup/STPNet_bayes_sweep/runs/rqxfoafq' target=\"_blank\">https://wandb.ai/fishysoup/STPNet_bayes_sweep/runs/rqxfoafq</a>"
      ],
      "text/plain": [
       "<IPython.core.display.HTML object>"
      ]
     },
     "metadata": {},
     "output_type": "display_data"
    },
    {
     "name": "stdout",
     "output_type": "stream",
     "text": [
      "Epoch: 100  loss: 0.3558  dprime: 0.29\n"
     ]
    },
    {
     "data": {
      "text/html": [
       "Waiting for W&B process to finish... <strong style=\"color:green\">(success).</strong>"
      ],
      "text/plain": [
       "<IPython.core.display.HTML object>"
      ]
     },
     "metadata": {},
     "output_type": "display_data"
    },
    {
     "name": "stderr",
     "output_type": "stream",
     "text": [
      "wandb: WARNING Source type is set to 'repo' but some required information is missing from the environment. A job will not be created from this run. See https://docs.wandb.ai/guides/launch/create-job\n"
     ]
    },
    {
     "data": {
      "application/vnd.jupyter.widget-view+json": {
       "model_id": "3a98e0628ee74e0e84a63ffcda603861",
       "version_major": 2,
       "version_minor": 0
      },
      "text/plain": [
       "VBox(children=(Label(value='0.005 MB of 0.005 MB uploaded (0.000 MB deduped)\\r'), FloatProgress(value=1.0, max…"
      ]
     },
     "metadata": {},
     "output_type": "display_data"
    },
    {
     "data": {
      "text/html": [
       "<style>\n",
       "    table.wandb td:nth-child(1) { padding: 0 10px; text-align: left ; width: auto;} td:nth-child(2) {text-align: left ; width: 100%}\n",
       "    .wandb-row { display: flex; flex-direction: row; flex-wrap: wrap; justify-content: flex-start; width: 100% }\n",
       "    .wandb-col { display: flex; flex-direction: column; flex-basis: 100%; flex: 1; padding: 10px; }\n",
       "    </style>\n",
       "<div class=\"wandb-row\"><div class=\"wandb-col\"><h3>Run history:</h3><br/><table class=\"wandb\"><tr><td>adapt_slope</td><td>▁</td></tr><tr><td>dprime_true</td><td>▁</td></tr><tr><td>loss</td><td>▁</td></tr></table><br/></div><div class=\"wandb-col\"><h3>Run summary:</h3><br/><table class=\"wandb\"><tr><td>adapt_slope</td><td>-0.01634</td></tr><tr><td>dprime_true</td><td>1.21117</td></tr><tr><td>loss</td><td>0.3359</td></tr></table><br/></div></div>"
      ],
      "text/plain": [
       "<IPython.core.display.HTML object>"
      ]
     },
     "metadata": {},
     "output_type": "display_data"
    },
    {
     "data": {
      "text/html": [
       " View run <strong style=\"color:#cdcd00\">jumping-sweep-6</strong> at: <a href='https://wandb.ai/fishysoup/STPNet_bayes_sweep/runs/rqxfoafq' target=\"_blank\">https://wandb.ai/fishysoup/STPNet_bayes_sweep/runs/rqxfoafq</a><br/>Synced 6 W&B file(s), 0 media file(s), 0 artifact file(s) and 0 other file(s)"
      ],
      "text/plain": [
       "<IPython.core.display.HTML object>"
      ]
     },
     "metadata": {},
     "output_type": "display_data"
    },
    {
     "data": {
      "text/html": [
       "Find logs at: <code>./wandb/run-20230803_091900-rqxfoafq/logs</code>"
      ],
      "text/plain": [
       "<IPython.core.display.HTML object>"
      ]
     },
     "metadata": {},
     "output_type": "display_data"
    },
    {
     "name": "stderr",
     "output_type": "stream",
     "text": [
      "\u001b[34m\u001b[1mwandb\u001b[0m: Agent Starting Run: asfoeguq with config:\n",
      "\u001b[34m\u001b[1mwandb\u001b[0m: \tdprime_targ: 1.1480424991541691\n",
      "\u001b[34m\u001b[1mwandb\u001b[0m: \tpatience: 10\n",
      "\u001b[34m\u001b[1mwandb\u001b[0m: \tsyn_tau: 6.3510705719105855\n",
      "Failed to detect the name of this notebook, you can set it manually with the WANDB_NOTEBOOK_NAME environment variable to enable code saving.\n"
     ]
    },
    {
     "data": {
      "text/html": [
       "Tracking run with wandb version 0.15.8"
      ],
      "text/plain": [
       "<IPython.core.display.HTML object>"
      ]
     },
     "metadata": {},
     "output_type": "display_data"
    },
    {
     "data": {
      "text/html": [
       "Run data is saved locally in <code>/mmfs1/gscratch/rao/aresf/Code/STSPNet/wandb/run-20230803_091941-asfoeguq</code>"
      ],
      "text/plain": [
       "<IPython.core.display.HTML object>"
      ]
     },
     "metadata": {},
     "output_type": "display_data"
    },
    {
     "data": {
      "text/html": [
       "Syncing run <strong><a href='https://wandb.ai/fishysoup/STPNet_bayes_sweep/runs/asfoeguq' target=\"_blank\">floral-sweep-7</a></strong> to <a href='https://wandb.ai/fishysoup/STPNet_bayes_sweep' target=\"_blank\">Weights & Biases</a> (<a href='https://wandb.me/run' target=\"_blank\">docs</a>)<br/>Sweep page: <a href='https://wandb.ai/fishysoup/STPNet_bayes_sweep/sweeps/uq4nb1mu' target=\"_blank\">https://wandb.ai/fishysoup/STPNet_bayes_sweep/sweeps/uq4nb1mu</a>"
      ],
      "text/plain": [
       "<IPython.core.display.HTML object>"
      ]
     },
     "metadata": {},
     "output_type": "display_data"
    },
    {
     "data": {
      "text/html": [
       " View project at <a href='https://wandb.ai/fishysoup/STPNet_bayes_sweep' target=\"_blank\">https://wandb.ai/fishysoup/STPNet_bayes_sweep</a>"
      ],
      "text/plain": [
       "<IPython.core.display.HTML object>"
      ]
     },
     "metadata": {},
     "output_type": "display_data"
    },
    {
     "data": {
      "text/html": [
       " View sweep at <a href='https://wandb.ai/fishysoup/STPNet_bayes_sweep/sweeps/uq4nb1mu' target=\"_blank\">https://wandb.ai/fishysoup/STPNet_bayes_sweep/sweeps/uq4nb1mu</a>"
      ],
      "text/plain": [
       "<IPython.core.display.HTML object>"
      ]
     },
     "metadata": {},
     "output_type": "display_data"
    },
    {
     "data": {
      "text/html": [
       " View run at <a href='https://wandb.ai/fishysoup/STPNet_bayes_sweep/runs/asfoeguq' target=\"_blank\">https://wandb.ai/fishysoup/STPNet_bayes_sweep/runs/asfoeguq</a>"
      ],
      "text/plain": [
       "<IPython.core.display.HTML object>"
      ]
     },
     "metadata": {},
     "output_type": "display_data"
    },
    {
     "name": "stdout",
     "output_type": "stream",
     "text": [
      "Epoch: 100  loss: 0.3647  dprime: 0.15\n",
      "Epoch: 200  loss: 0.3437  dprime: 0.98\n",
      "Epoch: 300  loss: 0.3456  dprime: 1.17\n"
     ]
    },
    {
     "data": {
      "text/html": [
       "Waiting for W&B process to finish... <strong style=\"color:green\">(success).</strong>"
      ],
      "text/plain": [
       "<IPython.core.display.HTML object>"
      ]
     },
     "metadata": {},
     "output_type": "display_data"
    },
    {
     "name": "stderr",
     "output_type": "stream",
     "text": [
      "wandb: WARNING Source type is set to 'repo' but some required information is missing from the environment. A job will not be created from this run. See https://docs.wandb.ai/guides/launch/create-job\n"
     ]
    },
    {
     "data": {
      "application/vnd.jupyter.widget-view+json": {
       "model_id": "a5f81cb8ed0e4259a5828278a724cd1f",
       "version_major": 2,
       "version_minor": 0
      },
      "text/plain": [
       "VBox(children=(Label(value='0.005 MB of 0.005 MB uploaded (0.000 MB deduped)\\r'), FloatProgress(value=1.0, max…"
      ]
     },
     "metadata": {},
     "output_type": "display_data"
    },
    {
     "data": {
      "text/html": [
       "<style>\n",
       "    table.wandb td:nth-child(1) { padding: 0 10px; text-align: left ; width: auto;} td:nth-child(2) {text-align: left ; width: 100%}\n",
       "    .wandb-row { display: flex; flex-direction: row; flex-wrap: wrap; justify-content: flex-start; width: 100% }\n",
       "    .wandb-col { display: flex; flex-direction: column; flex-basis: 100%; flex: 1; padding: 10px; }\n",
       "    </style>\n",
       "<div class=\"wandb-row\"><div class=\"wandb-col\"><h3>Run history:</h3><br/><table class=\"wandb\"><tr><td>adapt_slope</td><td>▁</td></tr><tr><td>dprime_true</td><td>▁</td></tr><tr><td>loss</td><td>▁</td></tr></table><br/></div><div class=\"wandb-col\"><h3>Run summary:</h3><br/><table class=\"wandb\"><tr><td>adapt_slope</td><td>-0.01008</td></tr><tr><td>dprime_true</td><td>1.07832</td></tr><tr><td>loss</td><td>0.34221</td></tr></table><br/></div></div>"
      ],
      "text/plain": [
       "<IPython.core.display.HTML object>"
      ]
     },
     "metadata": {},
     "output_type": "display_data"
    },
    {
     "data": {
      "text/html": [
       " View run <strong style=\"color:#cdcd00\">floral-sweep-7</strong> at: <a href='https://wandb.ai/fishysoup/STPNet_bayes_sweep/runs/asfoeguq' target=\"_blank\">https://wandb.ai/fishysoup/STPNet_bayes_sweep/runs/asfoeguq</a><br/>Synced 6 W&B file(s), 0 media file(s), 0 artifact file(s) and 0 other file(s)"
      ],
      "text/plain": [
       "<IPython.core.display.HTML object>"
      ]
     },
     "metadata": {},
     "output_type": "display_data"
    },
    {
     "data": {
      "text/html": [
       "Find logs at: <code>./wandb/run-20230803_091941-asfoeguq/logs</code>"
      ],
      "text/plain": [
       "<IPython.core.display.HTML object>"
      ]
     },
     "metadata": {},
     "output_type": "display_data"
    },
    {
     "name": "stderr",
     "output_type": "stream",
     "text": [
      "\u001b[34m\u001b[1mwandb\u001b[0m: Sweep Agent: Waiting for job.\n",
      "\u001b[34m\u001b[1mwandb\u001b[0m: Job received.\n",
      "\u001b[34m\u001b[1mwandb\u001b[0m: Agent Starting Run: l8qlbzhy with config:\n",
      "\u001b[34m\u001b[1mwandb\u001b[0m: \tdprime_targ: 1.8796922228177897\n",
      "\u001b[34m\u001b[1mwandb\u001b[0m: \tpatience: 10\n",
      "\u001b[34m\u001b[1mwandb\u001b[0m: \tsyn_tau: 12.93406474373937\n",
      "Failed to detect the name of this notebook, you can set it manually with the WANDB_NOTEBOOK_NAME environment variable to enable code saving.\n"
     ]
    },
    {
     "data": {
      "text/html": [
       "Tracking run with wandb version 0.15.8"
      ],
      "text/plain": [
       "<IPython.core.display.HTML object>"
      ]
     },
     "metadata": {},
     "output_type": "display_data"
    },
    {
     "data": {
      "text/html": [
       "Run data is saved locally in <code>/mmfs1/gscratch/rao/aresf/Code/STSPNet/wandb/run-20230803_092104-l8qlbzhy</code>"
      ],
      "text/plain": [
       "<IPython.core.display.HTML object>"
      ]
     },
     "metadata": {},
     "output_type": "display_data"
    },
    {
     "data": {
      "text/html": [
       "Syncing run <strong><a href='https://wandb.ai/fishysoup/STPNet_bayes_sweep/runs/l8qlbzhy' target=\"_blank\">glad-sweep-8</a></strong> to <a href='https://wandb.ai/fishysoup/STPNet_bayes_sweep' target=\"_blank\">Weights & Biases</a> (<a href='https://wandb.me/run' target=\"_blank\">docs</a>)<br/>Sweep page: <a href='https://wandb.ai/fishysoup/STPNet_bayes_sweep/sweeps/uq4nb1mu' target=\"_blank\">https://wandb.ai/fishysoup/STPNet_bayes_sweep/sweeps/uq4nb1mu</a>"
      ],
      "text/plain": [
       "<IPython.core.display.HTML object>"
      ]
     },
     "metadata": {},
     "output_type": "display_data"
    },
    {
     "data": {
      "text/html": [
       " View project at <a href='https://wandb.ai/fishysoup/STPNet_bayes_sweep' target=\"_blank\">https://wandb.ai/fishysoup/STPNet_bayes_sweep</a>"
      ],
      "text/plain": [
       "<IPython.core.display.HTML object>"
      ]
     },
     "metadata": {},
     "output_type": "display_data"
    },
    {
     "data": {
      "text/html": [
       " View sweep at <a href='https://wandb.ai/fishysoup/STPNet_bayes_sweep/sweeps/uq4nb1mu' target=\"_blank\">https://wandb.ai/fishysoup/STPNet_bayes_sweep/sweeps/uq4nb1mu</a>"
      ],
      "text/plain": [
       "<IPython.core.display.HTML object>"
      ]
     },
     "metadata": {},
     "output_type": "display_data"
    },
    {
     "data": {
      "text/html": [
       " View run at <a href='https://wandb.ai/fishysoup/STPNet_bayes_sweep/runs/l8qlbzhy' target=\"_blank\">https://wandb.ai/fishysoup/STPNet_bayes_sweep/runs/l8qlbzhy</a>"
      ],
      "text/plain": [
       "<IPython.core.display.HTML object>"
      ]
     },
     "metadata": {},
     "output_type": "display_data"
    },
    {
     "name": "stdout",
     "output_type": "stream",
     "text": [
      "Epoch: 100  loss: 0.3548  dprime: 0.48\n",
      "Epoch: 200  loss: 0.3293  dprime: 1.31\n",
      "Epoch: 300  loss: 0.3208  dprime: 1.75\n"
     ]
    },
    {
     "data": {
      "text/html": [
       "Waiting for W&B process to finish... <strong style=\"color:green\">(success).</strong>"
      ],
      "text/plain": [
       "<IPython.core.display.HTML object>"
      ]
     },
     "metadata": {},
     "output_type": "display_data"
    },
    {
     "name": "stderr",
     "output_type": "stream",
     "text": [
      "wandb: WARNING Source type is set to 'repo' but some required information is missing from the environment. A job will not be created from this run. See https://docs.wandb.ai/guides/launch/create-job\n"
     ]
    },
    {
     "data": {
      "application/vnd.jupyter.widget-view+json": {
       "model_id": "f66ec2f5dbf743a1bfe3d41ab6f4d068",
       "version_major": 2,
       "version_minor": 0
      },
      "text/plain": [
       "VBox(children=(Label(value='0.005 MB of 0.005 MB uploaded (0.000 MB deduped)\\r'), FloatProgress(value=1.0, max…"
      ]
     },
     "metadata": {},
     "output_type": "display_data"
    },
    {
     "data": {
      "text/html": [
       "<style>\n",
       "    table.wandb td:nth-child(1) { padding: 0 10px; text-align: left ; width: auto;} td:nth-child(2) {text-align: left ; width: 100%}\n",
       "    .wandb-row { display: flex; flex-direction: row; flex-wrap: wrap; justify-content: flex-start; width: 100% }\n",
       "    .wandb-col { display: flex; flex-direction: column; flex-basis: 100%; flex: 1; padding: 10px; }\n",
       "    </style>\n",
       "<div class=\"wandb-row\"><div class=\"wandb-col\"><h3>Run history:</h3><br/><table class=\"wandb\"><tr><td>adapt_slope</td><td>▁</td></tr><tr><td>dprime_true</td><td>▁</td></tr><tr><td>loss</td><td>▁</td></tr></table><br/></div><div class=\"wandb-col\"><h3>Run summary:</h3><br/><table class=\"wandb\"><tr><td>adapt_slope</td><td>-0.01542</td></tr><tr><td>dprime_true</td><td>1.71681</td></tr><tr><td>loss</td><td>0.31796</td></tr></table><br/></div></div>"
      ],
      "text/plain": [
       "<IPython.core.display.HTML object>"
      ]
     },
     "metadata": {},
     "output_type": "display_data"
    },
    {
     "data": {
      "text/html": [
       " View run <strong style=\"color:#cdcd00\">glad-sweep-8</strong> at: <a href='https://wandb.ai/fishysoup/STPNet_bayes_sweep/runs/l8qlbzhy' target=\"_blank\">https://wandb.ai/fishysoup/STPNet_bayes_sweep/runs/l8qlbzhy</a><br/>Synced 6 W&B file(s), 0 media file(s), 0 artifact file(s) and 0 other file(s)"
      ],
      "text/plain": [
       "<IPython.core.display.HTML object>"
      ]
     },
     "metadata": {},
     "output_type": "display_data"
    },
    {
     "data": {
      "text/html": [
       "Find logs at: <code>./wandb/run-20230803_092104-l8qlbzhy/logs</code>"
      ],
      "text/plain": [
       "<IPython.core.display.HTML object>"
      ]
     },
     "metadata": {},
     "output_type": "display_data"
    },
    {
     "name": "stderr",
     "output_type": "stream",
     "text": [
      "\u001b[34m\u001b[1mwandb\u001b[0m: Agent Starting Run: ghxe7t1p with config:\n",
      "\u001b[34m\u001b[1mwandb\u001b[0m: \tdprime_targ: 1.4287244433929311\n",
      "\u001b[34m\u001b[1mwandb\u001b[0m: \tpatience: 10\n",
      "\u001b[34m\u001b[1mwandb\u001b[0m: \tsyn_tau: 18.280501130382543\n",
      "Failed to detect the name of this notebook, you can set it manually with the WANDB_NOTEBOOK_NAME environment variable to enable code saving.\n"
     ]
    },
    {
     "data": {
      "text/html": [
       "Tracking run with wandb version 0.15.8"
      ],
      "text/plain": [
       "<IPython.core.display.HTML object>"
      ]
     },
     "metadata": {},
     "output_type": "display_data"
    },
    {
     "data": {
      "text/html": [
       "Run data is saved locally in <code>/mmfs1/gscratch/rao/aresf/Code/STSPNet/wandb/run-20230803_092210-ghxe7t1p</code>"
      ],
      "text/plain": [
       "<IPython.core.display.HTML object>"
      ]
     },
     "metadata": {},
     "output_type": "display_data"
    },
    {
     "data": {
      "text/html": [
       "Syncing run <strong><a href='https://wandb.ai/fishysoup/STPNet_bayes_sweep/runs/ghxe7t1p' target=\"_blank\">glad-sweep-9</a></strong> to <a href='https://wandb.ai/fishysoup/STPNet_bayes_sweep' target=\"_blank\">Weights & Biases</a> (<a href='https://wandb.me/run' target=\"_blank\">docs</a>)<br/>Sweep page: <a href='https://wandb.ai/fishysoup/STPNet_bayes_sweep/sweeps/uq4nb1mu' target=\"_blank\">https://wandb.ai/fishysoup/STPNet_bayes_sweep/sweeps/uq4nb1mu</a>"
      ],
      "text/plain": [
       "<IPython.core.display.HTML object>"
      ]
     },
     "metadata": {},
     "output_type": "display_data"
    },
    {
     "data": {
      "text/html": [
       " View project at <a href='https://wandb.ai/fishysoup/STPNet_bayes_sweep' target=\"_blank\">https://wandb.ai/fishysoup/STPNet_bayes_sweep</a>"
      ],
      "text/plain": [
       "<IPython.core.display.HTML object>"
      ]
     },
     "metadata": {},
     "output_type": "display_data"
    },
    {
     "data": {
      "text/html": [
       " View sweep at <a href='https://wandb.ai/fishysoup/STPNet_bayes_sweep/sweeps/uq4nb1mu' target=\"_blank\">https://wandb.ai/fishysoup/STPNet_bayes_sweep/sweeps/uq4nb1mu</a>"
      ],
      "text/plain": [
       "<IPython.core.display.HTML object>"
      ]
     },
     "metadata": {},
     "output_type": "display_data"
    },
    {
     "data": {
      "text/html": [
       " View run at <a href='https://wandb.ai/fishysoup/STPNet_bayes_sweep/runs/ghxe7t1p' target=\"_blank\">https://wandb.ai/fishysoup/STPNet_bayes_sweep/runs/ghxe7t1p</a>"
      ],
      "text/plain": [
       "<IPython.core.display.HTML object>"
      ]
     },
     "metadata": {},
     "output_type": "display_data"
    },
    {
     "name": "stdout",
     "output_type": "stream",
     "text": [
      "Epoch: 100  loss: 0.3619  dprime: 0.29\n",
      "Epoch: 200  loss: 0.3329  dprime: 1.26\n"
     ]
    },
    {
     "data": {
      "text/html": [
       "Waiting for W&B process to finish... <strong style=\"color:green\">(success).</strong>"
      ],
      "text/plain": [
       "<IPython.core.display.HTML object>"
      ]
     },
     "metadata": {},
     "output_type": "display_data"
    },
    {
     "name": "stderr",
     "output_type": "stream",
     "text": [
      "wandb: WARNING Source type is set to 'repo' but some required information is missing from the environment. A job will not be created from this run. See https://docs.wandb.ai/guides/launch/create-job\n"
     ]
    },
    {
     "data": {
      "application/vnd.jupyter.widget-view+json": {
       "model_id": "f3a2d3694f30489daf75861eb0fba340",
       "version_major": 2,
       "version_minor": 0
      },
      "text/plain": [
       "VBox(children=(Label(value='0.005 MB of 0.005 MB uploaded (0.000 MB deduped)\\r'), FloatProgress(value=1.0, max…"
      ]
     },
     "metadata": {},
     "output_type": "display_data"
    },
    {
     "data": {
      "text/html": [
       "<style>\n",
       "    table.wandb td:nth-child(1) { padding: 0 10px; text-align: left ; width: auto;} td:nth-child(2) {text-align: left ; width: 100%}\n",
       "    .wandb-row { display: flex; flex-direction: row; flex-wrap: wrap; justify-content: flex-start; width: 100% }\n",
       "    .wandb-col { display: flex; flex-direction: column; flex-basis: 100%; flex: 1; padding: 10px; }\n",
       "    </style>\n",
       "<div class=\"wandb-row\"><div class=\"wandb-col\"><h3>Run history:</h3><br/><table class=\"wandb\"><tr><td>adapt_slope</td><td>▁</td></tr><tr><td>dprime_true</td><td>▁</td></tr><tr><td>loss</td><td>▁</td></tr></table><br/></div><div class=\"wandb-col\"><h3>Run summary:</h3><br/><table class=\"wandb\"><tr><td>adapt_slope</td><td>-0.02125</td></tr><tr><td>dprime_true</td><td>1.57775</td></tr><tr><td>loss</td><td>0.32282</td></tr></table><br/></div></div>"
      ],
      "text/plain": [
       "<IPython.core.display.HTML object>"
      ]
     },
     "metadata": {},
     "output_type": "display_data"
    },
    {
     "data": {
      "text/html": [
       " View run <strong style=\"color:#cdcd00\">glad-sweep-9</strong> at: <a href='https://wandb.ai/fishysoup/STPNet_bayes_sweep/runs/ghxe7t1p' target=\"_blank\">https://wandb.ai/fishysoup/STPNet_bayes_sweep/runs/ghxe7t1p</a><br/>Synced 6 W&B file(s), 0 media file(s), 0 artifact file(s) and 0 other file(s)"
      ],
      "text/plain": [
       "<IPython.core.display.HTML object>"
      ]
     },
     "metadata": {},
     "output_type": "display_data"
    },
    {
     "data": {
      "text/html": [
       "Find logs at: <code>./wandb/run-20230803_092210-ghxe7t1p/logs</code>"
      ],
      "text/plain": [
       "<IPython.core.display.HTML object>"
      ]
     },
     "metadata": {},
     "output_type": "display_data"
    },
    {
     "name": "stderr",
     "output_type": "stream",
     "text": [
      "\u001b[34m\u001b[1mwandb\u001b[0m: Sweep Agent: Waiting for job.\n",
      "\u001b[34m\u001b[1mwandb\u001b[0m: Job received.\n",
      "\u001b[34m\u001b[1mwandb\u001b[0m: Agent Starting Run: l5ynvss5 with config:\n",
      "\u001b[34m\u001b[1mwandb\u001b[0m: \tdprime_targ: 1.563599186544722\n",
      "\u001b[34m\u001b[1mwandb\u001b[0m: \tpatience: 10\n",
      "\u001b[34m\u001b[1mwandb\u001b[0m: \tsyn_tau: 19.307381922422685\n",
      "Failed to detect the name of this notebook, you can set it manually with the WANDB_NOTEBOOK_NAME environment variable to enable code saving.\n"
     ]
    },
    {
     "data": {
      "text/html": [
       "Tracking run with wandb version 0.15.8"
      ],
      "text/plain": [
       "<IPython.core.display.HTML object>"
      ]
     },
     "metadata": {},
     "output_type": "display_data"
    },
    {
     "data": {
      "text/html": [
       "Run data is saved locally in <code>/mmfs1/gscratch/rao/aresf/Code/STSPNet/wandb/run-20230803_092310-l5ynvss5</code>"
      ],
      "text/plain": [
       "<IPython.core.display.HTML object>"
      ]
     },
     "metadata": {},
     "output_type": "display_data"
    },
    {
     "data": {
      "text/html": [
       "Syncing run <strong><a href='https://wandb.ai/fishysoup/STPNet_bayes_sweep/runs/l5ynvss5' target=\"_blank\">silver-sweep-10</a></strong> to <a href='https://wandb.ai/fishysoup/STPNet_bayes_sweep' target=\"_blank\">Weights & Biases</a> (<a href='https://wandb.me/run' target=\"_blank\">docs</a>)<br/>Sweep page: <a href='https://wandb.ai/fishysoup/STPNet_bayes_sweep/sweeps/uq4nb1mu' target=\"_blank\">https://wandb.ai/fishysoup/STPNet_bayes_sweep/sweeps/uq4nb1mu</a>"
      ],
      "text/plain": [
       "<IPython.core.display.HTML object>"
      ]
     },
     "metadata": {},
     "output_type": "display_data"
    },
    {
     "data": {
      "text/html": [
       " View project at <a href='https://wandb.ai/fishysoup/STPNet_bayes_sweep' target=\"_blank\">https://wandb.ai/fishysoup/STPNet_bayes_sweep</a>"
      ],
      "text/plain": [
       "<IPython.core.display.HTML object>"
      ]
     },
     "metadata": {},
     "output_type": "display_data"
    },
    {
     "data": {
      "text/html": [
       " View sweep at <a href='https://wandb.ai/fishysoup/STPNet_bayes_sweep/sweeps/uq4nb1mu' target=\"_blank\">https://wandb.ai/fishysoup/STPNet_bayes_sweep/sweeps/uq4nb1mu</a>"
      ],
      "text/plain": [
       "<IPython.core.display.HTML object>"
      ]
     },
     "metadata": {},
     "output_type": "display_data"
    },
    {
     "data": {
      "text/html": [
       " View run at <a href='https://wandb.ai/fishysoup/STPNet_bayes_sweep/runs/l5ynvss5' target=\"_blank\">https://wandb.ai/fishysoup/STPNet_bayes_sweep/runs/l5ynvss5</a>"
      ],
      "text/plain": [
       "<IPython.core.display.HTML object>"
      ]
     },
     "metadata": {},
     "output_type": "display_data"
    },
    {
     "name": "stdout",
     "output_type": "stream",
     "text": [
      "Epoch: 100  loss: 0.3541  dprime: 0.59\n",
      "Epoch: 200  loss: 0.3225  dprime: 1.61\n"
     ]
    },
    {
     "data": {
      "text/html": [
       "Waiting for W&B process to finish... <strong style=\"color:green\">(success).</strong>"
      ],
      "text/plain": [
       "<IPython.core.display.HTML object>"
      ]
     },
     "metadata": {},
     "output_type": "display_data"
    },
    {
     "name": "stderr",
     "output_type": "stream",
     "text": [
      "wandb: WARNING Source type is set to 'repo' but some required information is missing from the environment. A job will not be created from this run. See https://docs.wandb.ai/guides/launch/create-job\n"
     ]
    },
    {
     "data": {
      "application/vnd.jupyter.widget-view+json": {
       "model_id": "e835800dc64d443db12c8a898e49b2a3",
       "version_major": 2,
       "version_minor": 0
      },
      "text/plain": [
       "VBox(children=(Label(value='0.005 MB of 0.005 MB uploaded (0.000 MB deduped)\\r'), FloatProgress(value=1.0, max…"
      ]
     },
     "metadata": {},
     "output_type": "display_data"
    },
    {
     "data": {
      "text/html": [
       "<style>\n",
       "    table.wandb td:nth-child(1) { padding: 0 10px; text-align: left ; width: auto;} td:nth-child(2) {text-align: left ; width: 100%}\n",
       "    .wandb-row { display: flex; flex-direction: row; flex-wrap: wrap; justify-content: flex-start; width: 100% }\n",
       "    .wandb-col { display: flex; flex-direction: column; flex-basis: 100%; flex: 1; padding: 10px; }\n",
       "    </style>\n",
       "<div class=\"wandb-row\"><div class=\"wandb-col\"><h3>Run history:</h3><br/><table class=\"wandb\"><tr><td>adapt_slope</td><td>▁</td></tr><tr><td>dprime_true</td><td>▁</td></tr><tr><td>loss</td><td>▁</td></tr></table><br/></div><div class=\"wandb-col\"><h3>Run summary:</h3><br/><table class=\"wandb\"><tr><td>adapt_slope</td><td>-0.0064</td></tr><tr><td>dprime_true</td><td>1.6547</td></tr><tr><td>loss</td><td>0.32105</td></tr></table><br/></div></div>"
      ],
      "text/plain": [
       "<IPython.core.display.HTML object>"
      ]
     },
     "metadata": {},
     "output_type": "display_data"
    },
    {
     "data": {
      "text/html": [
       " View run <strong style=\"color:#cdcd00\">silver-sweep-10</strong> at: <a href='https://wandb.ai/fishysoup/STPNet_bayes_sweep/runs/l5ynvss5' target=\"_blank\">https://wandb.ai/fishysoup/STPNet_bayes_sweep/runs/l5ynvss5</a><br/>Synced 6 W&B file(s), 0 media file(s), 0 artifact file(s) and 0 other file(s)"
      ],
      "text/plain": [
       "<IPython.core.display.HTML object>"
      ]
     },
     "metadata": {},
     "output_type": "display_data"
    },
    {
     "data": {
      "text/html": [
       "Find logs at: <code>./wandb/run-20230803_092310-l5ynvss5/logs</code>"
      ],
      "text/plain": [
       "<IPython.core.display.HTML object>"
      ]
     },
     "metadata": {},
     "output_type": "display_data"
    },
    {
     "name": "stderr",
     "output_type": "stream",
     "text": [
      "\u001b[34m\u001b[1mwandb\u001b[0m: Agent Starting Run: mvtfwatg with config:\n",
      "\u001b[34m\u001b[1mwandb\u001b[0m: \tdprime_targ: 1.8223509541756535\n",
      "\u001b[34m\u001b[1mwandb\u001b[0m: \tpatience: 10\n",
      "\u001b[34m\u001b[1mwandb\u001b[0m: \tsyn_tau: 10.980488842135244\n",
      "Failed to detect the name of this notebook, you can set it manually with the WANDB_NOTEBOOK_NAME environment variable to enable code saving.\n"
     ]
    },
    {
     "data": {
      "text/html": [
       "Tracking run with wandb version 0.15.8"
      ],
      "text/plain": [
       "<IPython.core.display.HTML object>"
      ]
     },
     "metadata": {},
     "output_type": "display_data"
    },
    {
     "data": {
      "text/html": [
       "Run data is saved locally in <code>/mmfs1/gscratch/rao/aresf/Code/STSPNet/wandb/run-20230803_092403-mvtfwatg</code>"
      ],
      "text/plain": [
       "<IPython.core.display.HTML object>"
      ]
     },
     "metadata": {},
     "output_type": "display_data"
    },
    {
     "data": {
      "text/html": [
       "Syncing run <strong><a href='https://wandb.ai/fishysoup/STPNet_bayes_sweep/runs/mvtfwatg' target=\"_blank\">jolly-sweep-11</a></strong> to <a href='https://wandb.ai/fishysoup/STPNet_bayes_sweep' target=\"_blank\">Weights & Biases</a> (<a href='https://wandb.me/run' target=\"_blank\">docs</a>)<br/>Sweep page: <a href='https://wandb.ai/fishysoup/STPNet_bayes_sweep/sweeps/uq4nb1mu' target=\"_blank\">https://wandb.ai/fishysoup/STPNet_bayes_sweep/sweeps/uq4nb1mu</a>"
      ],
      "text/plain": [
       "<IPython.core.display.HTML object>"
      ]
     },
     "metadata": {},
     "output_type": "display_data"
    },
    {
     "data": {
      "text/html": [
       " View project at <a href='https://wandb.ai/fishysoup/STPNet_bayes_sweep' target=\"_blank\">https://wandb.ai/fishysoup/STPNet_bayes_sweep</a>"
      ],
      "text/plain": [
       "<IPython.core.display.HTML object>"
      ]
     },
     "metadata": {},
     "output_type": "display_data"
    },
    {
     "data": {
      "text/html": [
       " View sweep at <a href='https://wandb.ai/fishysoup/STPNet_bayes_sweep/sweeps/uq4nb1mu' target=\"_blank\">https://wandb.ai/fishysoup/STPNet_bayes_sweep/sweeps/uq4nb1mu</a>"
      ],
      "text/plain": [
       "<IPython.core.display.HTML object>"
      ]
     },
     "metadata": {},
     "output_type": "display_data"
    },
    {
     "data": {
      "text/html": [
       " View run at <a href='https://wandb.ai/fishysoup/STPNet_bayes_sweep/runs/mvtfwatg' target=\"_blank\">https://wandb.ai/fishysoup/STPNet_bayes_sweep/runs/mvtfwatg</a>"
      ],
      "text/plain": [
       "<IPython.core.display.HTML object>"
      ]
     },
     "metadata": {},
     "output_type": "display_data"
    },
    {
     "name": "stdout",
     "output_type": "stream",
     "text": [
      "Epoch: 100  loss: 0.3486  dprime: 0.63\n",
      "Epoch: 200  loss: 0.3270  dprime: 1.20\n",
      "Epoch: 300  loss: 0.3235  dprime: 1.77\n"
     ]
    },
    {
     "data": {
      "text/html": [
       "Waiting for W&B process to finish... <strong style=\"color:green\">(success).</strong>"
      ],
      "text/plain": [
       "<IPython.core.display.HTML object>"
      ]
     },
     "metadata": {},
     "output_type": "display_data"
    },
    {
     "name": "stderr",
     "output_type": "stream",
     "text": [
      "wandb: WARNING Source type is set to 'repo' but some required information is missing from the environment. A job will not be created from this run. See https://docs.wandb.ai/guides/launch/create-job\n"
     ]
    },
    {
     "data": {
      "application/vnd.jupyter.widget-view+json": {
       "model_id": "70dfba7d88d9424991b407230c5a2f8d",
       "version_major": 2,
       "version_minor": 0
      },
      "text/plain": [
       "VBox(children=(Label(value='0.005 MB of 0.017 MB uploaded (0.000 MB deduped)\\r'), FloatProgress(value=0.301881…"
      ]
     },
     "metadata": {},
     "output_type": "display_data"
    },
    {
     "data": {
      "text/html": [
       "<style>\n",
       "    table.wandb td:nth-child(1) { padding: 0 10px; text-align: left ; width: auto;} td:nth-child(2) {text-align: left ; width: 100%}\n",
       "    .wandb-row { display: flex; flex-direction: row; flex-wrap: wrap; justify-content: flex-start; width: 100% }\n",
       "    .wandb-col { display: flex; flex-direction: column; flex-basis: 100%; flex: 1; padding: 10px; }\n",
       "    </style>\n",
       "<div class=\"wandb-row\"><div class=\"wandb-col\"><h3>Run history:</h3><br/><table class=\"wandb\"><tr><td>adapt_slope</td><td>▁</td></tr><tr><td>dprime_true</td><td>▁</td></tr><tr><td>loss</td><td>▁</td></tr></table><br/></div><div class=\"wandb-col\"><h3>Run summary:</h3><br/><table class=\"wandb\"><tr><td>adapt_slope</td><td>-0.01868</td></tr><tr><td>dprime_true</td><td>2.0419</td></tr><tr><td>loss</td><td>0.32069</td></tr></table><br/></div></div>"
      ],
      "text/plain": [
       "<IPython.core.display.HTML object>"
      ]
     },
     "metadata": {},
     "output_type": "display_data"
    },
    {
     "data": {
      "text/html": [
       " View run <strong style=\"color:#cdcd00\">jolly-sweep-11</strong> at: <a href='https://wandb.ai/fishysoup/STPNet_bayes_sweep/runs/mvtfwatg' target=\"_blank\">https://wandb.ai/fishysoup/STPNet_bayes_sweep/runs/mvtfwatg</a><br/>Synced 6 W&B file(s), 0 media file(s), 0 artifact file(s) and 0 other file(s)"
      ],
      "text/plain": [
       "<IPython.core.display.HTML object>"
      ]
     },
     "metadata": {},
     "output_type": "display_data"
    },
    {
     "data": {
      "text/html": [
       "Find logs at: <code>./wandb/run-20230803_092403-mvtfwatg/logs</code>"
      ],
      "text/plain": [
       "<IPython.core.display.HTML object>"
      ]
     },
     "metadata": {},
     "output_type": "display_data"
    },
    {
     "name": "stderr",
     "output_type": "stream",
     "text": [
      "\u001b[34m\u001b[1mwandb\u001b[0m: Agent Starting Run: atj75fri with config:\n",
      "\u001b[34m\u001b[1mwandb\u001b[0m: \tdprime_targ: 1.910074650532582\n",
      "\u001b[34m\u001b[1mwandb\u001b[0m: \tpatience: 5\n",
      "\u001b[34m\u001b[1mwandb\u001b[0m: \tsyn_tau: 10.133528947570252\n",
      "Failed to detect the name of this notebook, you can set it manually with the WANDB_NOTEBOOK_NAME environment variable to enable code saving.\n"
     ]
    },
    {
     "data": {
      "text/html": [
       "Tracking run with wandb version 0.15.8"
      ],
      "text/plain": [
       "<IPython.core.display.HTML object>"
      ]
     },
     "metadata": {},
     "output_type": "display_data"
    },
    {
     "data": {
      "text/html": [
       "Run data is saved locally in <code>/mmfs1/gscratch/rao/aresf/Code/STSPNet/wandb/run-20230803_092515-atj75fri</code>"
      ],
      "text/plain": [
       "<IPython.core.display.HTML object>"
      ]
     },
     "metadata": {},
     "output_type": "display_data"
    },
    {
     "data": {
      "text/html": [
       "Syncing run <strong><a href='https://wandb.ai/fishysoup/STPNet_bayes_sweep/runs/atj75fri' target=\"_blank\">bumbling-sweep-12</a></strong> to <a href='https://wandb.ai/fishysoup/STPNet_bayes_sweep' target=\"_blank\">Weights & Biases</a> (<a href='https://wandb.me/run' target=\"_blank\">docs</a>)<br/>Sweep page: <a href='https://wandb.ai/fishysoup/STPNet_bayes_sweep/sweeps/uq4nb1mu' target=\"_blank\">https://wandb.ai/fishysoup/STPNet_bayes_sweep/sweeps/uq4nb1mu</a>"
      ],
      "text/plain": [
       "<IPython.core.display.HTML object>"
      ]
     },
     "metadata": {},
     "output_type": "display_data"
    },
    {
     "data": {
      "text/html": [
       " View project at <a href='https://wandb.ai/fishysoup/STPNet_bayes_sweep' target=\"_blank\">https://wandb.ai/fishysoup/STPNet_bayes_sweep</a>"
      ],
      "text/plain": [
       "<IPython.core.display.HTML object>"
      ]
     },
     "metadata": {},
     "output_type": "display_data"
    },
    {
     "data": {
      "text/html": [
       " View sweep at <a href='https://wandb.ai/fishysoup/STPNet_bayes_sweep/sweeps/uq4nb1mu' target=\"_blank\">https://wandb.ai/fishysoup/STPNet_bayes_sweep/sweeps/uq4nb1mu</a>"
      ],
      "text/plain": [
       "<IPython.core.display.HTML object>"
      ]
     },
     "metadata": {},
     "output_type": "display_data"
    },
    {
     "data": {
      "text/html": [
       " View run at <a href='https://wandb.ai/fishysoup/STPNet_bayes_sweep/runs/atj75fri' target=\"_blank\">https://wandb.ai/fishysoup/STPNet_bayes_sweep/runs/atj75fri</a>"
      ],
      "text/plain": [
       "<IPython.core.display.HTML object>"
      ]
     },
     "metadata": {},
     "output_type": "display_data"
    },
    {
     "name": "stdout",
     "output_type": "stream",
     "text": [
      "Epoch: 100  loss: 0.3566  dprime: 0.26\n",
      "Epoch: 200  loss: 0.3318  dprime: 1.22\n",
      "Epoch: 300  loss: 0.3243  dprime: 1.85\n",
      "Epoch: 400  loss: 0.3198  dprime: 1.90\n"
     ]
    },
    {
     "data": {
      "text/html": [
       "Waiting for W&B process to finish... <strong style=\"color:green\">(success).</strong>"
      ],
      "text/plain": [
       "<IPython.core.display.HTML object>"
      ]
     },
     "metadata": {},
     "output_type": "display_data"
    },
    {
     "name": "stderr",
     "output_type": "stream",
     "text": [
      "wandb: WARNING Source type is set to 'repo' but some required information is missing from the environment. A job will not be created from this run. See https://docs.wandb.ai/guides/launch/create-job\n"
     ]
    },
    {
     "data": {
      "application/vnd.jupyter.widget-view+json": {
       "model_id": "ab0a24d962df4313875b90326846ba7f",
       "version_major": 2,
       "version_minor": 0
      },
      "text/plain": [
       "VBox(children=(Label(value='0.005 MB of 0.017 MB uploaded (0.000 MB deduped)\\r'), FloatProgress(value=0.303967…"
      ]
     },
     "metadata": {},
     "output_type": "display_data"
    },
    {
     "data": {
      "text/html": [
       "<style>\n",
       "    table.wandb td:nth-child(1) { padding: 0 10px; text-align: left ; width: auto;} td:nth-child(2) {text-align: left ; width: 100%}\n",
       "    .wandb-row { display: flex; flex-direction: row; flex-wrap: wrap; justify-content: flex-start; width: 100% }\n",
       "    .wandb-col { display: flex; flex-direction: column; flex-basis: 100%; flex: 1; padding: 10px; }\n",
       "    </style>\n",
       "<div class=\"wandb-row\"><div class=\"wandb-col\"><h3>Run history:</h3><br/><table class=\"wandb\"><tr><td>adapt_slope</td><td>▁</td></tr><tr><td>dprime_true</td><td>▁</td></tr><tr><td>loss</td><td>▁</td></tr></table><br/></div><div class=\"wandb-col\"><h3>Run summary:</h3><br/><table class=\"wandb\"><tr><td>adapt_slope</td><td>-0.01548</td></tr><tr><td>dprime_true</td><td>1.79182</td></tr><tr><td>loss</td><td>0.32404</td></tr></table><br/></div></div>"
      ],
      "text/plain": [
       "<IPython.core.display.HTML object>"
      ]
     },
     "metadata": {},
     "output_type": "display_data"
    },
    {
     "data": {
      "text/html": [
       " View run <strong style=\"color:#cdcd00\">bumbling-sweep-12</strong> at: <a href='https://wandb.ai/fishysoup/STPNet_bayes_sweep/runs/atj75fri' target=\"_blank\">https://wandb.ai/fishysoup/STPNet_bayes_sweep/runs/atj75fri</a><br/>Synced 6 W&B file(s), 0 media file(s), 0 artifact file(s) and 0 other file(s)"
      ],
      "text/plain": [
       "<IPython.core.display.HTML object>"
      ]
     },
     "metadata": {},
     "output_type": "display_data"
    },
    {
     "data": {
      "text/html": [
       "Find logs at: <code>./wandb/run-20230803_092515-atj75fri/logs</code>"
      ],
      "text/plain": [
       "<IPython.core.display.HTML object>"
      ]
     },
     "metadata": {},
     "output_type": "display_data"
    },
    {
     "name": "stderr",
     "output_type": "stream",
     "text": [
      "\u001b[34m\u001b[1mwandb\u001b[0m: Agent Starting Run: ifsgijxj with config:\n",
      "\u001b[34m\u001b[1mwandb\u001b[0m: \tdprime_targ: 1.214255419072401\n",
      "\u001b[34m\u001b[1mwandb\u001b[0m: \tpatience: 20\n",
      "\u001b[34m\u001b[1mwandb\u001b[0m: \tsyn_tau: 6.819003956072268\n",
      "Failed to detect the name of this notebook, you can set it manually with the WANDB_NOTEBOOK_NAME environment variable to enable code saving.\n"
     ]
    },
    {
     "data": {
      "text/html": [
       "Tracking run with wandb version 0.15.8"
      ],
      "text/plain": [
       "<IPython.core.display.HTML object>"
      ]
     },
     "metadata": {},
     "output_type": "display_data"
    },
    {
     "data": {
      "text/html": [
       "Run data is saved locally in <code>/mmfs1/gscratch/rao/aresf/Code/STSPNet/wandb/run-20230803_092637-ifsgijxj</code>"
      ],
      "text/plain": [
       "<IPython.core.display.HTML object>"
      ]
     },
     "metadata": {},
     "output_type": "display_data"
    },
    {
     "data": {
      "text/html": [
       "Syncing run <strong><a href='https://wandb.ai/fishysoup/STPNet_bayes_sweep/runs/ifsgijxj' target=\"_blank\">silver-sweep-13</a></strong> to <a href='https://wandb.ai/fishysoup/STPNet_bayes_sweep' target=\"_blank\">Weights & Biases</a> (<a href='https://wandb.me/run' target=\"_blank\">docs</a>)<br/>Sweep page: <a href='https://wandb.ai/fishysoup/STPNet_bayes_sweep/sweeps/uq4nb1mu' target=\"_blank\">https://wandb.ai/fishysoup/STPNet_bayes_sweep/sweeps/uq4nb1mu</a>"
      ],
      "text/plain": [
       "<IPython.core.display.HTML object>"
      ]
     },
     "metadata": {},
     "output_type": "display_data"
    },
    {
     "data": {
      "text/html": [
       " View project at <a href='https://wandb.ai/fishysoup/STPNet_bayes_sweep' target=\"_blank\">https://wandb.ai/fishysoup/STPNet_bayes_sweep</a>"
      ],
      "text/plain": [
       "<IPython.core.display.HTML object>"
      ]
     },
     "metadata": {},
     "output_type": "display_data"
    },
    {
     "data": {
      "text/html": [
       " View sweep at <a href='https://wandb.ai/fishysoup/STPNet_bayes_sweep/sweeps/uq4nb1mu' target=\"_blank\">https://wandb.ai/fishysoup/STPNet_bayes_sweep/sweeps/uq4nb1mu</a>"
      ],
      "text/plain": [
       "<IPython.core.display.HTML object>"
      ]
     },
     "metadata": {},
     "output_type": "display_data"
    },
    {
     "data": {
      "text/html": [
       " View run at <a href='https://wandb.ai/fishysoup/STPNet_bayes_sweep/runs/ifsgijxj' target=\"_blank\">https://wandb.ai/fishysoup/STPNet_bayes_sweep/runs/ifsgijxj</a>"
      ],
      "text/plain": [
       "<IPython.core.display.HTML object>"
      ]
     },
     "metadata": {},
     "output_type": "display_data"
    },
    {
     "name": "stdout",
     "output_type": "stream",
     "text": [
      "Epoch: 100  loss: 0.3598  dprime: 0.24\n",
      "Epoch: 200  loss: 0.3395  dprime: 0.94\n",
      "Epoch: 300  loss: 0.3328  dprime: 1.43\n"
     ]
    },
    {
     "data": {
      "text/html": [
       "Waiting for W&B process to finish... <strong style=\"color:green\">(success).</strong>"
      ],
      "text/plain": [
       "<IPython.core.display.HTML object>"
      ]
     },
     "metadata": {},
     "output_type": "display_data"
    },
    {
     "name": "stderr",
     "output_type": "stream",
     "text": [
      "wandb: WARNING Source type is set to 'repo' but some required information is missing from the environment. A job will not be created from this run. See https://docs.wandb.ai/guides/launch/create-job\n"
     ]
    },
    {
     "data": {
      "application/vnd.jupyter.widget-view+json": {
       "model_id": "7bfdcf31d67e4bbc83e505dd0f2e5366",
       "version_major": 2,
       "version_minor": 0
      },
      "text/plain": [
       "VBox(children=(Label(value='0.005 MB of 0.017 MB uploaded (0.000 MB deduped)\\r'), FloatProgress(value=0.303927…"
      ]
     },
     "metadata": {},
     "output_type": "display_data"
    },
    {
     "data": {
      "text/html": [
       "<style>\n",
       "    table.wandb td:nth-child(1) { padding: 0 10px; text-align: left ; width: auto;} td:nth-child(2) {text-align: left ; width: 100%}\n",
       "    .wandb-row { display: flex; flex-direction: row; flex-wrap: wrap; justify-content: flex-start; width: 100% }\n",
       "    .wandb-col { display: flex; flex-direction: column; flex-basis: 100%; flex: 1; padding: 10px; }\n",
       "    </style>\n",
       "<div class=\"wandb-row\"><div class=\"wandb-col\"><h3>Run history:</h3><br/><table class=\"wandb\"><tr><td>adapt_slope</td><td>▁</td></tr><tr><td>dprime_true</td><td>▁</td></tr><tr><td>loss</td><td>▁</td></tr></table><br/></div><div class=\"wandb-col\"><h3>Run summary:</h3><br/><table class=\"wandb\"><tr><td>adapt_slope</td><td>-0.01394</td></tr><tr><td>dprime_true</td><td>1.59139</td></tr><tr><td>loss</td><td>0.3331</td></tr></table><br/></div></div>"
      ],
      "text/plain": [
       "<IPython.core.display.HTML object>"
      ]
     },
     "metadata": {},
     "output_type": "display_data"
    },
    {
     "data": {
      "text/html": [
       " View run <strong style=\"color:#cdcd00\">silver-sweep-13</strong> at: <a href='https://wandb.ai/fishysoup/STPNet_bayes_sweep/runs/ifsgijxj' target=\"_blank\">https://wandb.ai/fishysoup/STPNet_bayes_sweep/runs/ifsgijxj</a><br/>Synced 6 W&B file(s), 0 media file(s), 0 artifact file(s) and 0 other file(s)"
      ],
      "text/plain": [
       "<IPython.core.display.HTML object>"
      ]
     },
     "metadata": {},
     "output_type": "display_data"
    },
    {
     "data": {
      "text/html": [
       "Find logs at: <code>./wandb/run-20230803_092637-ifsgijxj/logs</code>"
      ],
      "text/plain": [
       "<IPython.core.display.HTML object>"
      ]
     },
     "metadata": {},
     "output_type": "display_data"
    },
    {
     "name": "stderr",
     "output_type": "stream",
     "text": [
      "\u001b[34m\u001b[1mwandb\u001b[0m: Agent Starting Run: sxu0n6bq with config:\n",
      "\u001b[34m\u001b[1mwandb\u001b[0m: \tdprime_targ: 1.2793377733951314\n",
      "\u001b[34m\u001b[1mwandb\u001b[0m: \tpatience: 15\n",
      "\u001b[34m\u001b[1mwandb\u001b[0m: \tsyn_tau: 19.17758862211255\n",
      "Failed to detect the name of this notebook, you can set it manually with the WANDB_NOTEBOOK_NAME environment variable to enable code saving.\n"
     ]
    },
    {
     "data": {
      "text/html": [
       "Tracking run with wandb version 0.15.8"
      ],
      "text/plain": [
       "<IPython.core.display.HTML object>"
      ]
     },
     "metadata": {},
     "output_type": "display_data"
    },
    {
     "data": {
      "text/html": [
       "Run data is saved locally in <code>/mmfs1/gscratch/rao/aresf/Code/STSPNet/wandb/run-20230803_092743-sxu0n6bq</code>"
      ],
      "text/plain": [
       "<IPython.core.display.HTML object>"
      ]
     },
     "metadata": {},
     "output_type": "display_data"
    },
    {
     "data": {
      "text/html": [
       "Syncing run <strong><a href='https://wandb.ai/fishysoup/STPNet_bayes_sweep/runs/sxu0n6bq' target=\"_blank\">summer-sweep-14</a></strong> to <a href='https://wandb.ai/fishysoup/STPNet_bayes_sweep' target=\"_blank\">Weights & Biases</a> (<a href='https://wandb.me/run' target=\"_blank\">docs</a>)<br/>Sweep page: <a href='https://wandb.ai/fishysoup/STPNet_bayes_sweep/sweeps/uq4nb1mu' target=\"_blank\">https://wandb.ai/fishysoup/STPNet_bayes_sweep/sweeps/uq4nb1mu</a>"
      ],
      "text/plain": [
       "<IPython.core.display.HTML object>"
      ]
     },
     "metadata": {},
     "output_type": "display_data"
    },
    {
     "data": {
      "text/html": [
       " View project at <a href='https://wandb.ai/fishysoup/STPNet_bayes_sweep' target=\"_blank\">https://wandb.ai/fishysoup/STPNet_bayes_sweep</a>"
      ],
      "text/plain": [
       "<IPython.core.display.HTML object>"
      ]
     },
     "metadata": {},
     "output_type": "display_data"
    },
    {
     "data": {
      "text/html": [
       " View sweep at <a href='https://wandb.ai/fishysoup/STPNet_bayes_sweep/sweeps/uq4nb1mu' target=\"_blank\">https://wandb.ai/fishysoup/STPNet_bayes_sweep/sweeps/uq4nb1mu</a>"
      ],
      "text/plain": [
       "<IPython.core.display.HTML object>"
      ]
     },
     "metadata": {},
     "output_type": "display_data"
    },
    {
     "data": {
      "text/html": [
       " View run at <a href='https://wandb.ai/fishysoup/STPNet_bayes_sweep/runs/sxu0n6bq' target=\"_blank\">https://wandb.ai/fishysoup/STPNet_bayes_sweep/runs/sxu0n6bq</a>"
      ],
      "text/plain": [
       "<IPython.core.display.HTML object>"
      ]
     },
     "metadata": {},
     "output_type": "display_data"
    },
    {
     "name": "stdout",
     "output_type": "stream",
     "text": [
      "Epoch: 100  loss: 0.3506  dprime: 0.67\n"
     ]
    },
    {
     "data": {
      "text/html": [
       "Waiting for W&B process to finish... <strong style=\"color:green\">(success).</strong>"
      ],
      "text/plain": [
       "<IPython.core.display.HTML object>"
      ]
     },
     "metadata": {},
     "output_type": "display_data"
    },
    {
     "name": "stderr",
     "output_type": "stream",
     "text": [
      "wandb: WARNING Source type is set to 'repo' but some required information is missing from the environment. A job will not be created from this run. See https://docs.wandb.ai/guides/launch/create-job\n"
     ]
    },
    {
     "data": {
      "application/vnd.jupyter.widget-view+json": {
       "model_id": "f34299d06a2646b686846c752a7d6fe5",
       "version_major": 2,
       "version_minor": 0
      },
      "text/plain": [
       "VBox(children=(Label(value='0.005 MB of 0.017 MB uploaded (0.000 MB deduped)\\r'), FloatProgress(value=0.303073…"
      ]
     },
     "metadata": {},
     "output_type": "display_data"
    },
    {
     "data": {
      "text/html": [
       "<style>\n",
       "    table.wandb td:nth-child(1) { padding: 0 10px; text-align: left ; width: auto;} td:nth-child(2) {text-align: left ; width: 100%}\n",
       "    .wandb-row { display: flex; flex-direction: row; flex-wrap: wrap; justify-content: flex-start; width: 100% }\n",
       "    .wandb-col { display: flex; flex-direction: column; flex-basis: 100%; flex: 1; padding: 10px; }\n",
       "    </style>\n",
       "<div class=\"wandb-row\"><div class=\"wandb-col\"><h3>Run history:</h3><br/><table class=\"wandb\"><tr><td>adapt_slope</td><td>▁</td></tr><tr><td>dprime_true</td><td>▁</td></tr><tr><td>loss</td><td>▁</td></tr></table><br/></div><div class=\"wandb-col\"><h3>Run summary:</h3><br/><table class=\"wandb\"><tr><td>adapt_slope</td><td>-0.00818</td></tr><tr><td>dprime_true</td><td>1.59464</td></tr><tr><td>loss</td><td>0.32359</td></tr></table><br/></div></div>"
      ],
      "text/plain": [
       "<IPython.core.display.HTML object>"
      ]
     },
     "metadata": {},
     "output_type": "display_data"
    },
    {
     "data": {
      "text/html": [
       " View run <strong style=\"color:#cdcd00\">summer-sweep-14</strong> at: <a href='https://wandb.ai/fishysoup/STPNet_bayes_sweep/runs/sxu0n6bq' target=\"_blank\">https://wandb.ai/fishysoup/STPNet_bayes_sweep/runs/sxu0n6bq</a><br/>Synced 6 W&B file(s), 0 media file(s), 0 artifact file(s) and 0 other file(s)"
      ],
      "text/plain": [
       "<IPython.core.display.HTML object>"
      ]
     },
     "metadata": {},
     "output_type": "display_data"
    },
    {
     "data": {
      "text/html": [
       "Find logs at: <code>./wandb/run-20230803_092743-sxu0n6bq/logs</code>"
      ],
      "text/plain": [
       "<IPython.core.display.HTML object>"
      ]
     },
     "metadata": {},
     "output_type": "display_data"
    },
    {
     "name": "stderr",
     "output_type": "stream",
     "text": [
      "\u001b[34m\u001b[1mwandb\u001b[0m: Sweep Agent: Waiting for job.\n",
      "\u001b[34m\u001b[1mwandb\u001b[0m: Job received.\n",
      "\u001b[34m\u001b[1mwandb\u001b[0m: Agent Starting Run: d2fe9k67 with config:\n",
      "\u001b[34m\u001b[1mwandb\u001b[0m: \tdprime_targ: 1.0606250376023652\n",
      "\u001b[34m\u001b[1mwandb\u001b[0m: \tpatience: 10\n",
      "\u001b[34m\u001b[1mwandb\u001b[0m: \tsyn_tau: 9.360080609960852\n",
      "Failed to detect the name of this notebook, you can set it manually with the WANDB_NOTEBOOK_NAME environment variable to enable code saving.\n"
     ]
    },
    {
     "data": {
      "application/vnd.jupyter.widget-view+json": {
       "model_id": "c1a4742a752c4479adb193e3d6d80576",
       "version_major": 2,
       "version_minor": 0
      },
      "text/plain": [
       "VBox(children=(Label(value='Waiting for wandb.init()...\\r'), FloatProgress(value=0.016669472500992318, max=1.0…"
      ]
     },
     "metadata": {},
     "output_type": "display_data"
    },
    {
     "data": {
      "text/html": [
       "Tracking run with wandb version 0.15.8"
      ],
      "text/plain": [
       "<IPython.core.display.HTML object>"
      ]
     },
     "metadata": {},
     "output_type": "display_data"
    },
    {
     "data": {
      "text/html": [
       "Run data is saved locally in <code>/mmfs1/gscratch/rao/aresf/Code/STSPNet/wandb/run-20230803_092835-d2fe9k67</code>"
      ],
      "text/plain": [
       "<IPython.core.display.HTML object>"
      ]
     },
     "metadata": {},
     "output_type": "display_data"
    },
    {
     "data": {
      "text/html": [
       "Syncing run <strong><a href='https://wandb.ai/fishysoup/STPNet_bayes_sweep/runs/d2fe9k67' target=\"_blank\">peach-sweep-15</a></strong> to <a href='https://wandb.ai/fishysoup/STPNet_bayes_sweep' target=\"_blank\">Weights & Biases</a> (<a href='https://wandb.me/run' target=\"_blank\">docs</a>)<br/>Sweep page: <a href='https://wandb.ai/fishysoup/STPNet_bayes_sweep/sweeps/uq4nb1mu' target=\"_blank\">https://wandb.ai/fishysoup/STPNet_bayes_sweep/sweeps/uq4nb1mu</a>"
      ],
      "text/plain": [
       "<IPython.core.display.HTML object>"
      ]
     },
     "metadata": {},
     "output_type": "display_data"
    },
    {
     "data": {
      "text/html": [
       " View project at <a href='https://wandb.ai/fishysoup/STPNet_bayes_sweep' target=\"_blank\">https://wandb.ai/fishysoup/STPNet_bayes_sweep</a>"
      ],
      "text/plain": [
       "<IPython.core.display.HTML object>"
      ]
     },
     "metadata": {},
     "output_type": "display_data"
    },
    {
     "data": {
      "text/html": [
       " View sweep at <a href='https://wandb.ai/fishysoup/STPNet_bayes_sweep/sweeps/uq4nb1mu' target=\"_blank\">https://wandb.ai/fishysoup/STPNet_bayes_sweep/sweeps/uq4nb1mu</a>"
      ],
      "text/plain": [
       "<IPython.core.display.HTML object>"
      ]
     },
     "metadata": {},
     "output_type": "display_data"
    },
    {
     "data": {
      "text/html": [
       " View run at <a href='https://wandb.ai/fishysoup/STPNet_bayes_sweep/runs/d2fe9k67' target=\"_blank\">https://wandb.ai/fishysoup/STPNet_bayes_sweep/runs/d2fe9k67</a>"
      ],
      "text/plain": [
       "<IPython.core.display.HTML object>"
      ]
     },
     "metadata": {},
     "output_type": "display_data"
    },
    {
     "name": "stdout",
     "output_type": "stream",
     "text": [
      "Epoch: 100  loss: 0.3527  dprime: 0.41\n"
     ]
    },
    {
     "data": {
      "text/html": [
       "Waiting for W&B process to finish... <strong style=\"color:green\">(success).</strong>"
      ],
      "text/plain": [
       "<IPython.core.display.HTML object>"
      ]
     },
     "metadata": {},
     "output_type": "display_data"
    },
    {
     "name": "stderr",
     "output_type": "stream",
     "text": [
      "wandb: WARNING Source type is set to 'repo' but some required information is missing from the environment. A job will not be created from this run. See https://docs.wandb.ai/guides/launch/create-job\n"
     ]
    },
    {
     "data": {
      "text/html": [
       "<style>\n",
       "    table.wandb td:nth-child(1) { padding: 0 10px; text-align: left ; width: auto;} td:nth-child(2) {text-align: left ; width: 100%}\n",
       "    .wandb-row { display: flex; flex-direction: row; flex-wrap: wrap; justify-content: flex-start; width: 100% }\n",
       "    .wandb-col { display: flex; flex-direction: column; flex-basis: 100%; flex: 1; padding: 10px; }\n",
       "    </style>\n",
       "<div class=\"wandb-row\"><div class=\"wandb-col\"><h3>Run history:</h3><br/><table class=\"wandb\"><tr><td>adapt_slope</td><td>▁</td></tr><tr><td>dprime_true</td><td>▁</td></tr><tr><td>loss</td><td>▁</td></tr></table><br/></div><div class=\"wandb-col\"><h3>Run summary:</h3><br/><table class=\"wandb\"><tr><td>adapt_slope</td><td>-0.01538</td></tr><tr><td>dprime_true</td><td>1.37922</td></tr><tr><td>loss</td><td>0.33292</td></tr></table><br/></div></div>"
      ],
      "text/plain": [
       "<IPython.core.display.HTML object>"
      ]
     },
     "metadata": {},
     "output_type": "display_data"
    },
    {
     "data": {
      "text/html": [
       " View run <strong style=\"color:#cdcd00\">peach-sweep-15</strong> at: <a href='https://wandb.ai/fishysoup/STPNet_bayes_sweep/runs/d2fe9k67' target=\"_blank\">https://wandb.ai/fishysoup/STPNet_bayes_sweep/runs/d2fe9k67</a><br/>Synced 6 W&B file(s), 0 media file(s), 0 artifact file(s) and 0 other file(s)"
      ],
      "text/plain": [
       "<IPython.core.display.HTML object>"
      ]
     },
     "metadata": {},
     "output_type": "display_data"
    },
    {
     "data": {
      "text/html": [
       "Find logs at: <code>./wandb/run-20230803_092835-d2fe9k67/logs</code>"
      ],
      "text/plain": [
       "<IPython.core.display.HTML object>"
      ]
     },
     "metadata": {},
     "output_type": "display_data"
    },
    {
     "name": "stderr",
     "output_type": "stream",
     "text": [
      "\u001b[34m\u001b[1mwandb\u001b[0m: Agent Starting Run: s3erqb11 with config:\n",
      "\u001b[34m\u001b[1mwandb\u001b[0m: \tdprime_targ: 1.3441093660711296\n",
      "\u001b[34m\u001b[1mwandb\u001b[0m: \tpatience: 5\n",
      "\u001b[34m\u001b[1mwandb\u001b[0m: \tsyn_tau: 10.855362539081362\n",
      "Failed to detect the name of this notebook, you can set it manually with the WANDB_NOTEBOOK_NAME environment variable to enable code saving.\n"
     ]
    },
    {
     "data": {
      "text/html": [
       "Tracking run with wandb version 0.15.8"
      ],
      "text/plain": [
       "<IPython.core.display.HTML object>"
      ]
     },
     "metadata": {},
     "output_type": "display_data"
    },
    {
     "data": {
      "text/html": [
       "Run data is saved locally in <code>/mmfs1/gscratch/rao/aresf/Code/STSPNet/wandb/run-20230803_092922-s3erqb11</code>"
      ],
      "text/plain": [
       "<IPython.core.display.HTML object>"
      ]
     },
     "metadata": {},
     "output_type": "display_data"
    },
    {
     "data": {
      "text/html": [
       "Syncing run <strong><a href='https://wandb.ai/fishysoup/STPNet_bayes_sweep/runs/s3erqb11' target=\"_blank\">comfy-sweep-16</a></strong> to <a href='https://wandb.ai/fishysoup/STPNet_bayes_sweep' target=\"_blank\">Weights & Biases</a> (<a href='https://wandb.me/run' target=\"_blank\">docs</a>)<br/>Sweep page: <a href='https://wandb.ai/fishysoup/STPNet_bayes_sweep/sweeps/uq4nb1mu' target=\"_blank\">https://wandb.ai/fishysoup/STPNet_bayes_sweep/sweeps/uq4nb1mu</a>"
      ],
      "text/plain": [
       "<IPython.core.display.HTML object>"
      ]
     },
     "metadata": {},
     "output_type": "display_data"
    },
    {
     "data": {
      "text/html": [
       " View project at <a href='https://wandb.ai/fishysoup/STPNet_bayes_sweep' target=\"_blank\">https://wandb.ai/fishysoup/STPNet_bayes_sweep</a>"
      ],
      "text/plain": [
       "<IPython.core.display.HTML object>"
      ]
     },
     "metadata": {},
     "output_type": "display_data"
    },
    {
     "data": {
      "text/html": [
       " View sweep at <a href='https://wandb.ai/fishysoup/STPNet_bayes_sweep/sweeps/uq4nb1mu' target=\"_blank\">https://wandb.ai/fishysoup/STPNet_bayes_sweep/sweeps/uq4nb1mu</a>"
      ],
      "text/plain": [
       "<IPython.core.display.HTML object>"
      ]
     },
     "metadata": {},
     "output_type": "display_data"
    },
    {
     "data": {
      "text/html": [
       " View run at <a href='https://wandb.ai/fishysoup/STPNet_bayes_sweep/runs/s3erqb11' target=\"_blank\">https://wandb.ai/fishysoup/STPNet_bayes_sweep/runs/s3erqb11</a>"
      ],
      "text/plain": [
       "<IPython.core.display.HTML object>"
      ]
     },
     "metadata": {},
     "output_type": "display_data"
    },
    {
     "name": "stdout",
     "output_type": "stream",
     "text": [
      "Epoch: 100  loss: 0.3525  dprime: 0.61\n",
      "Epoch: 200  loss: 0.3301  dprime: 1.27\n"
     ]
    },
    {
     "data": {
      "text/html": [
       "Waiting for W&B process to finish... <strong style=\"color:green\">(success).</strong>"
      ],
      "text/plain": [
       "<IPython.core.display.HTML object>"
      ]
     },
     "metadata": {},
     "output_type": "display_data"
    },
    {
     "name": "stderr",
     "output_type": "stream",
     "text": [
      "wandb: WARNING Source type is set to 'repo' but some required information is missing from the environment. A job will not be created from this run. See https://docs.wandb.ai/guides/launch/create-job\n"
     ]
    },
    {
     "data": {
      "text/html": [
       "<style>\n",
       "    table.wandb td:nth-child(1) { padding: 0 10px; text-align: left ; width: auto;} td:nth-child(2) {text-align: left ; width: 100%}\n",
       "    .wandb-row { display: flex; flex-direction: row; flex-wrap: wrap; justify-content: flex-start; width: 100% }\n",
       "    .wandb-col { display: flex; flex-direction: column; flex-basis: 100%; flex: 1; padding: 10px; }\n",
       "    </style>\n",
       "<div class=\"wandb-row\"><div class=\"wandb-col\"><h3>Run history:</h3><br/><table class=\"wandb\"><tr><td>adapt_slope</td><td>▁</td></tr><tr><td>dprime_true</td><td>▁</td></tr><tr><td>loss</td><td>▁</td></tr></table><br/></div><div class=\"wandb-col\"><h3>Run summary:</h3><br/><table class=\"wandb\"><tr><td>adapt_slope</td><td>-0.02524</td></tr><tr><td>dprime_true</td><td>1.44888</td></tr><tr><td>loss</td><td>0.32675</td></tr></table><br/></div></div>"
      ],
      "text/plain": [
       "<IPython.core.display.HTML object>"
      ]
     },
     "metadata": {},
     "output_type": "display_data"
    },
    {
     "data": {
      "text/html": [
       " View run <strong style=\"color:#cdcd00\">comfy-sweep-16</strong> at: <a href='https://wandb.ai/fishysoup/STPNet_bayes_sweep/runs/s3erqb11' target=\"_blank\">https://wandb.ai/fishysoup/STPNet_bayes_sweep/runs/s3erqb11</a><br/>Synced 6 W&B file(s), 0 media file(s), 0 artifact file(s) and 0 other file(s)"
      ],
      "text/plain": [
       "<IPython.core.display.HTML object>"
      ]
     },
     "metadata": {},
     "output_type": "display_data"
    },
    {
     "data": {
      "text/html": [
       "Find logs at: <code>./wandb/run-20230803_092922-s3erqb11/logs</code>"
      ],
      "text/plain": [
       "<IPython.core.display.HTML object>"
      ]
     },
     "metadata": {},
     "output_type": "display_data"
    },
    {
     "name": "stderr",
     "output_type": "stream",
     "text": [
      "\u001b[34m\u001b[1mwandb\u001b[0m: Sweep Agent: Waiting for job.\n",
      "\u001b[34m\u001b[1mwandb\u001b[0m: Job received.\n",
      "\u001b[34m\u001b[1mwandb\u001b[0m: Agent Starting Run: 1e0owt9y with config:\n",
      "\u001b[34m\u001b[1mwandb\u001b[0m: \tdprime_targ: 1.5237850412373328\n",
      "\u001b[34m\u001b[1mwandb\u001b[0m: \tpatience: 10\n",
      "\u001b[34m\u001b[1mwandb\u001b[0m: \tsyn_tau: 14.271247885920715\n",
      "Failed to detect the name of this notebook, you can set it manually with the WANDB_NOTEBOOK_NAME environment variable to enable code saving.\n"
     ]
    },
    {
     "data": {
      "text/html": [
       "Tracking run with wandb version 0.15.8"
      ],
      "text/plain": [
       "<IPython.core.display.HTML object>"
      ]
     },
     "metadata": {},
     "output_type": "display_data"
    },
    {
     "data": {
      "text/html": [
       "Run data is saved locally in <code>/mmfs1/gscratch/rao/aresf/Code/STSPNet/wandb/run-20230803_093014-1e0owt9y</code>"
      ],
      "text/plain": [
       "<IPython.core.display.HTML object>"
      ]
     },
     "metadata": {},
     "output_type": "display_data"
    },
    {
     "data": {
      "text/html": [
       "Syncing run <strong><a href='https://wandb.ai/fishysoup/STPNet_bayes_sweep/runs/1e0owt9y' target=\"_blank\">vibrant-sweep-17</a></strong> to <a href='https://wandb.ai/fishysoup/STPNet_bayes_sweep' target=\"_blank\">Weights & Biases</a> (<a href='https://wandb.me/run' target=\"_blank\">docs</a>)<br/>Sweep page: <a href='https://wandb.ai/fishysoup/STPNet_bayes_sweep/sweeps/uq4nb1mu' target=\"_blank\">https://wandb.ai/fishysoup/STPNet_bayes_sweep/sweeps/uq4nb1mu</a>"
      ],
      "text/plain": [
       "<IPython.core.display.HTML object>"
      ]
     },
     "metadata": {},
     "output_type": "display_data"
    },
    {
     "data": {
      "text/html": [
       " View project at <a href='https://wandb.ai/fishysoup/STPNet_bayes_sweep' target=\"_blank\">https://wandb.ai/fishysoup/STPNet_bayes_sweep</a>"
      ],
      "text/plain": [
       "<IPython.core.display.HTML object>"
      ]
     },
     "metadata": {},
     "output_type": "display_data"
    },
    {
     "data": {
      "text/html": [
       " View sweep at <a href='https://wandb.ai/fishysoup/STPNet_bayes_sweep/sweeps/uq4nb1mu' target=\"_blank\">https://wandb.ai/fishysoup/STPNet_bayes_sweep/sweeps/uq4nb1mu</a>"
      ],
      "text/plain": [
       "<IPython.core.display.HTML object>"
      ]
     },
     "metadata": {},
     "output_type": "display_data"
    },
    {
     "data": {
      "text/html": [
       " View run at <a href='https://wandb.ai/fishysoup/STPNet_bayes_sweep/runs/1e0owt9y' target=\"_blank\">https://wandb.ai/fishysoup/STPNet_bayes_sweep/runs/1e0owt9y</a>"
      ],
      "text/plain": [
       "<IPython.core.display.HTML object>"
      ]
     },
     "metadata": {},
     "output_type": "display_data"
    },
    {
     "name": "stdout",
     "output_type": "stream",
     "text": [
      "Epoch: 100  loss: 0.3597  dprime: 0.38\n",
      "Epoch: 200  loss: 0.3309  dprime: 1.13\n"
     ]
    },
    {
     "data": {
      "text/html": [
       "Waiting for W&B process to finish... <strong style=\"color:green\">(success).</strong>"
      ],
      "text/plain": [
       "<IPython.core.display.HTML object>"
      ]
     },
     "metadata": {},
     "output_type": "display_data"
    },
    {
     "name": "stderr",
     "output_type": "stream",
     "text": [
      "wandb: WARNING Source type is set to 'repo' but some required information is missing from the environment. A job will not be created from this run. See https://docs.wandb.ai/guides/launch/create-job\n"
     ]
    },
    {
     "data": {
      "application/vnd.jupyter.widget-view+json": {
       "model_id": "f7efb53c23ec487cb3df937f26791a42",
       "version_major": 2,
       "version_minor": 0
      },
      "text/plain": [
       "VBox(children=(Label(value='0.005 MB of 0.005 MB uploaded (0.000 MB deduped)\\r'), FloatProgress(value=1.0, max…"
      ]
     },
     "metadata": {},
     "output_type": "display_data"
    },
    {
     "data": {
      "text/html": [
       "<style>\n",
       "    table.wandb td:nth-child(1) { padding: 0 10px; text-align: left ; width: auto;} td:nth-child(2) {text-align: left ; width: 100%}\n",
       "    .wandb-row { display: flex; flex-direction: row; flex-wrap: wrap; justify-content: flex-start; width: 100% }\n",
       "    .wandb-col { display: flex; flex-direction: column; flex-basis: 100%; flex: 1; padding: 10px; }\n",
       "    </style>\n",
       "<div class=\"wandb-row\"><div class=\"wandb-col\"><h3>Run history:</h3><br/><table class=\"wandb\"><tr><td>adapt_slope</td><td>▁</td></tr><tr><td>dprime_true</td><td>▁</td></tr><tr><td>loss</td><td>▁</td></tr></table><br/></div><div class=\"wandb-col\"><h3>Run summary:</h3><br/><table class=\"wandb\"><tr><td>adapt_slope</td><td>-0.01235</td></tr><tr><td>dprime_true</td><td>1.75376</td></tr><tr><td>loss</td><td>0.32258</td></tr></table><br/></div></div>"
      ],
      "text/plain": [
       "<IPython.core.display.HTML object>"
      ]
     },
     "metadata": {},
     "output_type": "display_data"
    },
    {
     "data": {
      "text/html": [
       " View run <strong style=\"color:#cdcd00\">vibrant-sweep-17</strong> at: <a href='https://wandb.ai/fishysoup/STPNet_bayes_sweep/runs/1e0owt9y' target=\"_blank\">https://wandb.ai/fishysoup/STPNet_bayes_sweep/runs/1e0owt9y</a><br/>Synced 6 W&B file(s), 0 media file(s), 0 artifact file(s) and 0 other file(s)"
      ],
      "text/plain": [
       "<IPython.core.display.HTML object>"
      ]
     },
     "metadata": {},
     "output_type": "display_data"
    },
    {
     "data": {
      "text/html": [
       "Find logs at: <code>./wandb/run-20230803_093014-1e0owt9y/logs</code>"
      ],
      "text/plain": [
       "<IPython.core.display.HTML object>"
      ]
     },
     "metadata": {},
     "output_type": "display_data"
    },
    {
     "name": "stderr",
     "output_type": "stream",
     "text": [
      "\u001b[34m\u001b[1mwandb\u001b[0m: Agent Starting Run: nh7c6n49 with config:\n",
      "\u001b[34m\u001b[1mwandb\u001b[0m: \tdprime_targ: 1.0487150681493191\n",
      "\u001b[34m\u001b[1mwandb\u001b[0m: \tpatience: 5\n",
      "\u001b[34m\u001b[1mwandb\u001b[0m: \tsyn_tau: 14.125345239022527\n",
      "Failed to detect the name of this notebook, you can set it manually with the WANDB_NOTEBOOK_NAME environment variable to enable code saving.\n"
     ]
    },
    {
     "data": {
      "text/html": [
       "Tracking run with wandb version 0.15.8"
      ],
      "text/plain": [
       "<IPython.core.display.HTML object>"
      ]
     },
     "metadata": {},
     "output_type": "display_data"
    },
    {
     "data": {
      "text/html": [
       "Run data is saved locally in <code>/mmfs1/gscratch/rao/aresf/Code/STSPNet/wandb/run-20230803_093115-nh7c6n49</code>"
      ],
      "text/plain": [
       "<IPython.core.display.HTML object>"
      ]
     },
     "metadata": {},
     "output_type": "display_data"
    },
    {
     "data": {
      "text/html": [
       "Syncing run <strong><a href='https://wandb.ai/fishysoup/STPNet_bayes_sweep/runs/nh7c6n49' target=\"_blank\">ruby-sweep-18</a></strong> to <a href='https://wandb.ai/fishysoup/STPNet_bayes_sweep' target=\"_blank\">Weights & Biases</a> (<a href='https://wandb.me/run' target=\"_blank\">docs</a>)<br/>Sweep page: <a href='https://wandb.ai/fishysoup/STPNet_bayes_sweep/sweeps/uq4nb1mu' target=\"_blank\">https://wandb.ai/fishysoup/STPNet_bayes_sweep/sweeps/uq4nb1mu</a>"
      ],
      "text/plain": [
       "<IPython.core.display.HTML object>"
      ]
     },
     "metadata": {},
     "output_type": "display_data"
    },
    {
     "data": {
      "text/html": [
       " View project at <a href='https://wandb.ai/fishysoup/STPNet_bayes_sweep' target=\"_blank\">https://wandb.ai/fishysoup/STPNet_bayes_sweep</a>"
      ],
      "text/plain": [
       "<IPython.core.display.HTML object>"
      ]
     },
     "metadata": {},
     "output_type": "display_data"
    },
    {
     "data": {
      "text/html": [
       " View sweep at <a href='https://wandb.ai/fishysoup/STPNet_bayes_sweep/sweeps/uq4nb1mu' target=\"_blank\">https://wandb.ai/fishysoup/STPNet_bayes_sweep/sweeps/uq4nb1mu</a>"
      ],
      "text/plain": [
       "<IPython.core.display.HTML object>"
      ]
     },
     "metadata": {},
     "output_type": "display_data"
    },
    {
     "data": {
      "text/html": [
       " View run at <a href='https://wandb.ai/fishysoup/STPNet_bayes_sweep/runs/nh7c6n49' target=\"_blank\">https://wandb.ai/fishysoup/STPNet_bayes_sweep/runs/nh7c6n49</a>"
      ],
      "text/plain": [
       "<IPython.core.display.HTML object>"
      ]
     },
     "metadata": {},
     "output_type": "display_data"
    },
    {
     "name": "stdout",
     "output_type": "stream",
     "text": [
      "Epoch: 100  loss: 0.3552  dprime: 0.53\n"
     ]
    },
    {
     "data": {
      "text/html": [
       "Waiting for W&B process to finish... <strong style=\"color:green\">(success).</strong>"
      ],
      "text/plain": [
       "<IPython.core.display.HTML object>"
      ]
     },
     "metadata": {},
     "output_type": "display_data"
    },
    {
     "name": "stderr",
     "output_type": "stream",
     "text": [
      "wandb: WARNING Source type is set to 'repo' but some required information is missing from the environment. A job will not be created from this run. See https://docs.wandb.ai/guides/launch/create-job\n"
     ]
    },
    {
     "data": {
      "application/vnd.jupyter.widget-view+json": {
       "model_id": "1897aa715f5648f5aec1980e9be33e9d",
       "version_major": 2,
       "version_minor": 0
      },
      "text/plain": [
       "VBox(children=(Label(value='0.005 MB of 0.017 MB uploaded (0.000 MB deduped)\\r'), FloatProgress(value=0.303869…"
      ]
     },
     "metadata": {},
     "output_type": "display_data"
    },
    {
     "data": {
      "text/html": [
       "<style>\n",
       "    table.wandb td:nth-child(1) { padding: 0 10px; text-align: left ; width: auto;} td:nth-child(2) {text-align: left ; width: 100%}\n",
       "    .wandb-row { display: flex; flex-direction: row; flex-wrap: wrap; justify-content: flex-start; width: 100% }\n",
       "    .wandb-col { display: flex; flex-direction: column; flex-basis: 100%; flex: 1; padding: 10px; }\n",
       "    </style>\n",
       "<div class=\"wandb-row\"><div class=\"wandb-col\"><h3>Run history:</h3><br/><table class=\"wandb\"><tr><td>adapt_slope</td><td>▁</td></tr><tr><td>dprime_true</td><td>▁</td></tr><tr><td>loss</td><td>▁</td></tr></table><br/></div><div class=\"wandb-col\"><h3>Run summary:</h3><br/><table class=\"wandb\"><tr><td>adapt_slope</td><td>-0.01167</td></tr><tr><td>dprime_true</td><td>1.27076</td></tr><tr><td>loss</td><td>0.33515</td></tr></table><br/></div></div>"
      ],
      "text/plain": [
       "<IPython.core.display.HTML object>"
      ]
     },
     "metadata": {},
     "output_type": "display_data"
    },
    {
     "data": {
      "text/html": [
       " View run <strong style=\"color:#cdcd00\">ruby-sweep-18</strong> at: <a href='https://wandb.ai/fishysoup/STPNet_bayes_sweep/runs/nh7c6n49' target=\"_blank\">https://wandb.ai/fishysoup/STPNet_bayes_sweep/runs/nh7c6n49</a><br/>Synced 6 W&B file(s), 0 media file(s), 0 artifact file(s) and 0 other file(s)"
      ],
      "text/plain": [
       "<IPython.core.display.HTML object>"
      ]
     },
     "metadata": {},
     "output_type": "display_data"
    },
    {
     "data": {
      "text/html": [
       "Find logs at: <code>./wandb/run-20230803_093115-nh7c6n49/logs</code>"
      ],
      "text/plain": [
       "<IPython.core.display.HTML object>"
      ]
     },
     "metadata": {},
     "output_type": "display_data"
    },
    {
     "name": "stderr",
     "output_type": "stream",
     "text": [
      "\u001b[34m\u001b[1mwandb\u001b[0m: Agent Starting Run: xigobf95 with config:\n",
      "\u001b[34m\u001b[1mwandb\u001b[0m: \tdprime_targ: 1.3446151591623718\n",
      "\u001b[34m\u001b[1mwandb\u001b[0m: \tpatience: 15\n",
      "\u001b[34m\u001b[1mwandb\u001b[0m: \tsyn_tau: 14.278222312934904\n",
      "Failed to detect the name of this notebook, you can set it manually with the WANDB_NOTEBOOK_NAME environment variable to enable code saving.\n"
     ]
    },
    {
     "data": {
      "text/html": [
       "Tracking run with wandb version 0.15.8"
      ],
      "text/plain": [
       "<IPython.core.display.HTML object>"
      ]
     },
     "metadata": {},
     "output_type": "display_data"
    },
    {
     "data": {
      "text/html": [
       "Run data is saved locally in <code>/mmfs1/gscratch/rao/aresf/Code/STSPNet/wandb/run-20230803_093156-xigobf95</code>"
      ],
      "text/plain": [
       "<IPython.core.display.HTML object>"
      ]
     },
     "metadata": {},
     "output_type": "display_data"
    },
    {
     "data": {
      "text/html": [
       "Syncing run <strong><a href='https://wandb.ai/fishysoup/STPNet_bayes_sweep/runs/xigobf95' target=\"_blank\">vocal-sweep-19</a></strong> to <a href='https://wandb.ai/fishysoup/STPNet_bayes_sweep' target=\"_blank\">Weights & Biases</a> (<a href='https://wandb.me/run' target=\"_blank\">docs</a>)<br/>Sweep page: <a href='https://wandb.ai/fishysoup/STPNet_bayes_sweep/sweeps/uq4nb1mu' target=\"_blank\">https://wandb.ai/fishysoup/STPNet_bayes_sweep/sweeps/uq4nb1mu</a>"
      ],
      "text/plain": [
       "<IPython.core.display.HTML object>"
      ]
     },
     "metadata": {},
     "output_type": "display_data"
    },
    {
     "data": {
      "text/html": [
       " View project at <a href='https://wandb.ai/fishysoup/STPNet_bayes_sweep' target=\"_blank\">https://wandb.ai/fishysoup/STPNet_bayes_sweep</a>"
      ],
      "text/plain": [
       "<IPython.core.display.HTML object>"
      ]
     },
     "metadata": {},
     "output_type": "display_data"
    },
    {
     "data": {
      "text/html": [
       " View sweep at <a href='https://wandb.ai/fishysoup/STPNet_bayes_sweep/sweeps/uq4nb1mu' target=\"_blank\">https://wandb.ai/fishysoup/STPNet_bayes_sweep/sweeps/uq4nb1mu</a>"
      ],
      "text/plain": [
       "<IPython.core.display.HTML object>"
      ]
     },
     "metadata": {},
     "output_type": "display_data"
    },
    {
     "data": {
      "text/html": [
       " View run at <a href='https://wandb.ai/fishysoup/STPNet_bayes_sweep/runs/xigobf95' target=\"_blank\">https://wandb.ai/fishysoup/STPNet_bayes_sweep/runs/xigobf95</a>"
      ],
      "text/plain": [
       "<IPython.core.display.HTML object>"
      ]
     },
     "metadata": {},
     "output_type": "display_data"
    },
    {
     "name": "stdout",
     "output_type": "stream",
     "text": [
      "Epoch: 100  loss: 0.3587  dprime: 0.42\n",
      "Epoch: 200  loss: 0.3287  dprime: 1.58\n"
     ]
    },
    {
     "data": {
      "text/html": [
       "Waiting for W&B process to finish... <strong style=\"color:green\">(success).</strong>"
      ],
      "text/plain": [
       "<IPython.core.display.HTML object>"
      ]
     },
     "metadata": {},
     "output_type": "display_data"
    },
    {
     "name": "stderr",
     "output_type": "stream",
     "text": [
      "wandb: WARNING Source type is set to 'repo' but some required information is missing from the environment. A job will not be created from this run. See https://docs.wandb.ai/guides/launch/create-job\n"
     ]
    },
    {
     "data": {
      "application/vnd.jupyter.widget-view+json": {
       "model_id": "6ca5d02aa1a34768adfdb80517c11bda",
       "version_major": 2,
       "version_minor": 0
      },
      "text/plain": [
       "VBox(children=(Label(value='0.005 MB of 0.017 MB uploaded (0.000 MB deduped)\\r'), FloatProgress(value=0.302453…"
      ]
     },
     "metadata": {},
     "output_type": "display_data"
    },
    {
     "data": {
      "text/html": [
       "<style>\n",
       "    table.wandb td:nth-child(1) { padding: 0 10px; text-align: left ; width: auto;} td:nth-child(2) {text-align: left ; width: 100%}\n",
       "    .wandb-row { display: flex; flex-direction: row; flex-wrap: wrap; justify-content: flex-start; width: 100% }\n",
       "    .wandb-col { display: flex; flex-direction: column; flex-basis: 100%; flex: 1; padding: 10px; }\n",
       "    </style>\n",
       "<div class=\"wandb-row\"><div class=\"wandb-col\"><h3>Run history:</h3><br/><table class=\"wandb\"><tr><td>adapt_slope</td><td>▁</td></tr><tr><td>dprime_true</td><td>▁</td></tr><tr><td>loss</td><td>▁</td></tr></table><br/></div><div class=\"wandb-col\"><h3>Run summary:</h3><br/><table class=\"wandb\"><tr><td>adapt_slope</td><td>-0.01262</td></tr><tr><td>dprime_true</td><td>1.49655</td></tr><tr><td>loss</td><td>0.32812</td></tr></table><br/></div></div>"
      ],
      "text/plain": [
       "<IPython.core.display.HTML object>"
      ]
     },
     "metadata": {},
     "output_type": "display_data"
    },
    {
     "data": {
      "text/html": [
       " View run <strong style=\"color:#cdcd00\">vocal-sweep-19</strong> at: <a href='https://wandb.ai/fishysoup/STPNet_bayes_sweep/runs/xigobf95' target=\"_blank\">https://wandb.ai/fishysoup/STPNet_bayes_sweep/runs/xigobf95</a><br/>Synced 6 W&B file(s), 0 media file(s), 0 artifact file(s) and 0 other file(s)"
      ],
      "text/plain": [
       "<IPython.core.display.HTML object>"
      ]
     },
     "metadata": {},
     "output_type": "display_data"
    },
    {
     "data": {
      "text/html": [
       "Find logs at: <code>./wandb/run-20230803_093156-xigobf95/logs</code>"
      ],
      "text/plain": [
       "<IPython.core.display.HTML object>"
      ]
     },
     "metadata": {},
     "output_type": "display_data"
    },
    {
     "name": "stderr",
     "output_type": "stream",
     "text": [
      "\u001b[34m\u001b[1mwandb\u001b[0m: Agent Starting Run: axs17ghw with config:\n",
      "\u001b[34m\u001b[1mwandb\u001b[0m: \tdprime_targ: 1.454238457663199\n",
      "\u001b[34m\u001b[1mwandb\u001b[0m: \tpatience: 20\n",
      "\u001b[34m\u001b[1mwandb\u001b[0m: \tsyn_tau: 12.951126855317558\n",
      "Failed to detect the name of this notebook, you can set it manually with the WANDB_NOTEBOOK_NAME environment variable to enable code saving.\n"
     ]
    },
    {
     "data": {
      "text/html": [
       "Tracking run with wandb version 0.15.8"
      ],
      "text/plain": [
       "<IPython.core.display.HTML object>"
      ]
     },
     "metadata": {},
     "output_type": "display_data"
    },
    {
     "data": {
      "text/html": [
       "Run data is saved locally in <code>/mmfs1/gscratch/rao/aresf/Code/STSPNet/wandb/run-20230803_093244-axs17ghw</code>"
      ],
      "text/plain": [
       "<IPython.core.display.HTML object>"
      ]
     },
     "metadata": {},
     "output_type": "display_data"
    },
    {
     "data": {
      "text/html": [
       "Syncing run <strong><a href='https://wandb.ai/fishysoup/STPNet_bayes_sweep/runs/axs17ghw' target=\"_blank\">divine-sweep-20</a></strong> to <a href='https://wandb.ai/fishysoup/STPNet_bayes_sweep' target=\"_blank\">Weights & Biases</a> (<a href='https://wandb.me/run' target=\"_blank\">docs</a>)<br/>Sweep page: <a href='https://wandb.ai/fishysoup/STPNet_bayes_sweep/sweeps/uq4nb1mu' target=\"_blank\">https://wandb.ai/fishysoup/STPNet_bayes_sweep/sweeps/uq4nb1mu</a>"
      ],
      "text/plain": [
       "<IPython.core.display.HTML object>"
      ]
     },
     "metadata": {},
     "output_type": "display_data"
    },
    {
     "data": {
      "text/html": [
       " View project at <a href='https://wandb.ai/fishysoup/STPNet_bayes_sweep' target=\"_blank\">https://wandb.ai/fishysoup/STPNet_bayes_sweep</a>"
      ],
      "text/plain": [
       "<IPython.core.display.HTML object>"
      ]
     },
     "metadata": {},
     "output_type": "display_data"
    },
    {
     "data": {
      "text/html": [
       " View sweep at <a href='https://wandb.ai/fishysoup/STPNet_bayes_sweep/sweeps/uq4nb1mu' target=\"_blank\">https://wandb.ai/fishysoup/STPNet_bayes_sweep/sweeps/uq4nb1mu</a>"
      ],
      "text/plain": [
       "<IPython.core.display.HTML object>"
      ]
     },
     "metadata": {},
     "output_type": "display_data"
    },
    {
     "data": {
      "text/html": [
       " View run at <a href='https://wandb.ai/fishysoup/STPNet_bayes_sweep/runs/axs17ghw' target=\"_blank\">https://wandb.ai/fishysoup/STPNet_bayes_sweep/runs/axs17ghw</a>"
      ],
      "text/plain": [
       "<IPython.core.display.HTML object>"
      ]
     },
     "metadata": {},
     "output_type": "display_data"
    },
    {
     "name": "stdout",
     "output_type": "stream",
     "text": [
      "Epoch: 100  loss: 0.3528  dprime: 0.37\n",
      "Epoch: 200  loss: 0.3272  dprime: 1.52\n"
     ]
    },
    {
     "data": {
      "text/html": [
       "Waiting for W&B process to finish... <strong style=\"color:green\">(success).</strong>"
      ],
      "text/plain": [
       "<IPython.core.display.HTML object>"
      ]
     },
     "metadata": {},
     "output_type": "display_data"
    },
    {
     "name": "stderr",
     "output_type": "stream",
     "text": [
      "wandb: WARNING Source type is set to 'repo' but some required information is missing from the environment. A job will not be created from this run. See https://docs.wandb.ai/guides/launch/create-job\n"
     ]
    },
    {
     "data": {
      "application/vnd.jupyter.widget-view+json": {
       "model_id": "bd433dfc2e2b49b69661fdf30c7ea006",
       "version_major": 2,
       "version_minor": 0
      },
      "text/plain": [
       "VBox(children=(Label(value='0.005 MB of 0.005 MB uploaded (0.000 MB deduped)\\r'), FloatProgress(value=1.0, max…"
      ]
     },
     "metadata": {},
     "output_type": "display_data"
    },
    {
     "data": {
      "text/html": [
       "<style>\n",
       "    table.wandb td:nth-child(1) { padding: 0 10px; text-align: left ; width: auto;} td:nth-child(2) {text-align: left ; width: 100%}\n",
       "    .wandb-row { display: flex; flex-direction: row; flex-wrap: wrap; justify-content: flex-start; width: 100% }\n",
       "    .wandb-col { display: flex; flex-direction: column; flex-basis: 100%; flex: 1; padding: 10px; }\n",
       "    </style>\n",
       "<div class=\"wandb-row\"><div class=\"wandb-col\"><h3>Run history:</h3><br/><table class=\"wandb\"><tr><td>adapt_slope</td><td>▁</td></tr><tr><td>dprime_true</td><td>▁</td></tr><tr><td>loss</td><td>▁</td></tr></table><br/></div><div class=\"wandb-col\"><h3>Run summary:</h3><br/><table class=\"wandb\"><tr><td>adapt_slope</td><td>-0.02162</td></tr><tr><td>dprime_true</td><td>1.65264</td></tr><tr><td>loss</td><td>0.32179</td></tr></table><br/></div></div>"
      ],
      "text/plain": [
       "<IPython.core.display.HTML object>"
      ]
     },
     "metadata": {},
     "output_type": "display_data"
    },
    {
     "data": {
      "text/html": [
       " View run <strong style=\"color:#cdcd00\">divine-sweep-20</strong> at: <a href='https://wandb.ai/fishysoup/STPNet_bayes_sweep/runs/axs17ghw' target=\"_blank\">https://wandb.ai/fishysoup/STPNet_bayes_sweep/runs/axs17ghw</a><br/>Synced 6 W&B file(s), 0 media file(s), 0 artifact file(s) and 0 other file(s)"
      ],
      "text/plain": [
       "<IPython.core.display.HTML object>"
      ]
     },
     "metadata": {},
     "output_type": "display_data"
    },
    {
     "data": {
      "text/html": [
       "Find logs at: <code>./wandb/run-20230803_093244-axs17ghw/logs</code>"
      ],
      "text/plain": [
       "<IPython.core.display.HTML object>"
      ]
     },
     "metadata": {},
     "output_type": "display_data"
    },
    {
     "name": "stderr",
     "output_type": "stream",
     "text": [
      "\u001b[34m\u001b[1mwandb\u001b[0m: Agent Starting Run: 069tzi5m with config:\n",
      "\u001b[34m\u001b[1mwandb\u001b[0m: \tdprime_targ: 1.4940866886872626\n",
      "\u001b[34m\u001b[1mwandb\u001b[0m: \tpatience: 20\n",
      "\u001b[34m\u001b[1mwandb\u001b[0m: \tsyn_tau: 15.046041148950453\n",
      "Failed to detect the name of this notebook, you can set it manually with the WANDB_NOTEBOOK_NAME environment variable to enable code saving.\n"
     ]
    },
    {
     "data": {
      "text/html": [
       "Tracking run with wandb version 0.15.8"
      ],
      "text/plain": [
       "<IPython.core.display.HTML object>"
      ]
     },
     "metadata": {},
     "output_type": "display_data"
    },
    {
     "data": {
      "text/html": [
       "Run data is saved locally in <code>/mmfs1/gscratch/rao/aresf/Code/STSPNet/wandb/run-20230803_093340-069tzi5m</code>"
      ],
      "text/plain": [
       "<IPython.core.display.HTML object>"
      ]
     },
     "metadata": {},
     "output_type": "display_data"
    },
    {
     "data": {
      "text/html": [
       "Syncing run <strong><a href='https://wandb.ai/fishysoup/STPNet_bayes_sweep/runs/069tzi5m' target=\"_blank\">bright-sweep-21</a></strong> to <a href='https://wandb.ai/fishysoup/STPNet_bayes_sweep' target=\"_blank\">Weights & Biases</a> (<a href='https://wandb.me/run' target=\"_blank\">docs</a>)<br/>Sweep page: <a href='https://wandb.ai/fishysoup/STPNet_bayes_sweep/sweeps/uq4nb1mu' target=\"_blank\">https://wandb.ai/fishysoup/STPNet_bayes_sweep/sweeps/uq4nb1mu</a>"
      ],
      "text/plain": [
       "<IPython.core.display.HTML object>"
      ]
     },
     "metadata": {},
     "output_type": "display_data"
    },
    {
     "data": {
      "text/html": [
       " View project at <a href='https://wandb.ai/fishysoup/STPNet_bayes_sweep' target=\"_blank\">https://wandb.ai/fishysoup/STPNet_bayes_sweep</a>"
      ],
      "text/plain": [
       "<IPython.core.display.HTML object>"
      ]
     },
     "metadata": {},
     "output_type": "display_data"
    },
    {
     "data": {
      "text/html": [
       " View sweep at <a href='https://wandb.ai/fishysoup/STPNet_bayes_sweep/sweeps/uq4nb1mu' target=\"_blank\">https://wandb.ai/fishysoup/STPNet_bayes_sweep/sweeps/uq4nb1mu</a>"
      ],
      "text/plain": [
       "<IPython.core.display.HTML object>"
      ]
     },
     "metadata": {},
     "output_type": "display_data"
    },
    {
     "data": {
      "text/html": [
       " View run at <a href='https://wandb.ai/fishysoup/STPNet_bayes_sweep/runs/069tzi5m' target=\"_blank\">https://wandb.ai/fishysoup/STPNet_bayes_sweep/runs/069tzi5m</a>"
      ],
      "text/plain": [
       "<IPython.core.display.HTML object>"
      ]
     },
     "metadata": {},
     "output_type": "display_data"
    },
    {
     "name": "stdout",
     "output_type": "stream",
     "text": [
      "Epoch: 100  loss: 0.3594  dprime: 0.54\n",
      "Epoch: 200  loss: 0.3331  dprime: 1.04\n",
      "Epoch: 300  loss: 0.3216  dprime: 1.84\n"
     ]
    },
    {
     "data": {
      "text/html": [
       "Waiting for W&B process to finish... <strong style=\"color:green\">(success).</strong>"
      ],
      "text/plain": [
       "<IPython.core.display.HTML object>"
      ]
     },
     "metadata": {},
     "output_type": "display_data"
    },
    {
     "name": "stderr",
     "output_type": "stream",
     "text": [
      "wandb: WARNING Source type is set to 'repo' but some required information is missing from the environment. A job will not be created from this run. See https://docs.wandb.ai/guides/launch/create-job\n"
     ]
    },
    {
     "data": {
      "application/vnd.jupyter.widget-view+json": {
       "model_id": "93631a02902d48d9b79ab0e6690e9daf",
       "version_major": 2,
       "version_minor": 0
      },
      "text/plain": [
       "VBox(children=(Label(value='0.005 MB of 0.005 MB uploaded (0.000 MB deduped)\\r'), FloatProgress(value=1.0, max…"
      ]
     },
     "metadata": {},
     "output_type": "display_data"
    },
    {
     "data": {
      "text/html": [
       "<style>\n",
       "    table.wandb td:nth-child(1) { padding: 0 10px; text-align: left ; width: auto;} td:nth-child(2) {text-align: left ; width: 100%}\n",
       "    .wandb-row { display: flex; flex-direction: row; flex-wrap: wrap; justify-content: flex-start; width: 100% }\n",
       "    .wandb-col { display: flex; flex-direction: column; flex-basis: 100%; flex: 1; padding: 10px; }\n",
       "    </style>\n",
       "<div class=\"wandb-row\"><div class=\"wandb-col\"><h3>Run history:</h3><br/><table class=\"wandb\"><tr><td>adapt_slope</td><td>▁</td></tr><tr><td>dprime_true</td><td>▁</td></tr><tr><td>loss</td><td>▁</td></tr></table><br/></div><div class=\"wandb-col\"><h3>Run summary:</h3><br/><table class=\"wandb\"><tr><td>adapt_slope</td><td>-0.0136</td></tr><tr><td>dprime_true</td><td>1.86269</td></tr><tr><td>loss</td><td>0.32092</td></tr></table><br/></div></div>"
      ],
      "text/plain": [
       "<IPython.core.display.HTML object>"
      ]
     },
     "metadata": {},
     "output_type": "display_data"
    },
    {
     "data": {
      "text/html": [
       " View run <strong style=\"color:#cdcd00\">bright-sweep-21</strong> at: <a href='https://wandb.ai/fishysoup/STPNet_bayes_sweep/runs/069tzi5m' target=\"_blank\">https://wandb.ai/fishysoup/STPNet_bayes_sweep/runs/069tzi5m</a><br/>Synced 6 W&B file(s), 0 media file(s), 0 artifact file(s) and 0 other file(s)"
      ],
      "text/plain": [
       "<IPython.core.display.HTML object>"
      ]
     },
     "metadata": {},
     "output_type": "display_data"
    },
    {
     "data": {
      "text/html": [
       "Find logs at: <code>./wandb/run-20230803_093340-069tzi5m/logs</code>"
      ],
      "text/plain": [
       "<IPython.core.display.HTML object>"
      ]
     },
     "metadata": {},
     "output_type": "display_data"
    },
    {
     "name": "stderr",
     "output_type": "stream",
     "text": [
      "\u001b[34m\u001b[1mwandb\u001b[0m: Agent Starting Run: b5fnv2ef with config:\n",
      "\u001b[34m\u001b[1mwandb\u001b[0m: \tdprime_targ: 1.873430567435769\n",
      "\u001b[34m\u001b[1mwandb\u001b[0m: \tpatience: 15\n",
      "\u001b[34m\u001b[1mwandb\u001b[0m: \tsyn_tau: 16.90409651486314\n",
      "Failed to detect the name of this notebook, you can set it manually with the WANDB_NOTEBOOK_NAME environment variable to enable code saving.\n"
     ]
    },
    {
     "data": {
      "text/html": [
       "Tracking run with wandb version 0.15.8"
      ],
      "text/plain": [
       "<IPython.core.display.HTML object>"
      ]
     },
     "metadata": {},
     "output_type": "display_data"
    },
    {
     "data": {
      "text/html": [
       "Run data is saved locally in <code>/mmfs1/gscratch/rao/aresf/Code/STSPNet/wandb/run-20230803_093447-b5fnv2ef</code>"
      ],
      "text/plain": [
       "<IPython.core.display.HTML object>"
      ]
     },
     "metadata": {},
     "output_type": "display_data"
    },
    {
     "data": {
      "text/html": [
       "Syncing run <strong><a href='https://wandb.ai/fishysoup/STPNet_bayes_sweep/runs/b5fnv2ef' target=\"_blank\">young-sweep-22</a></strong> to <a href='https://wandb.ai/fishysoup/STPNet_bayes_sweep' target=\"_blank\">Weights & Biases</a> (<a href='https://wandb.me/run' target=\"_blank\">docs</a>)<br/>Sweep page: <a href='https://wandb.ai/fishysoup/STPNet_bayes_sweep/sweeps/uq4nb1mu' target=\"_blank\">https://wandb.ai/fishysoup/STPNet_bayes_sweep/sweeps/uq4nb1mu</a>"
      ],
      "text/plain": [
       "<IPython.core.display.HTML object>"
      ]
     },
     "metadata": {},
     "output_type": "display_data"
    },
    {
     "data": {
      "text/html": [
       " View project at <a href='https://wandb.ai/fishysoup/STPNet_bayes_sweep' target=\"_blank\">https://wandb.ai/fishysoup/STPNet_bayes_sweep</a>"
      ],
      "text/plain": [
       "<IPython.core.display.HTML object>"
      ]
     },
     "metadata": {},
     "output_type": "display_data"
    },
    {
     "data": {
      "text/html": [
       " View sweep at <a href='https://wandb.ai/fishysoup/STPNet_bayes_sweep/sweeps/uq4nb1mu' target=\"_blank\">https://wandb.ai/fishysoup/STPNet_bayes_sweep/sweeps/uq4nb1mu</a>"
      ],
      "text/plain": [
       "<IPython.core.display.HTML object>"
      ]
     },
     "metadata": {},
     "output_type": "display_data"
    },
    {
     "data": {
      "text/html": [
       " View run at <a href='https://wandb.ai/fishysoup/STPNet_bayes_sweep/runs/b5fnv2ef' target=\"_blank\">https://wandb.ai/fishysoup/STPNet_bayes_sweep/runs/b5fnv2ef</a>"
      ],
      "text/plain": [
       "<IPython.core.display.HTML object>"
      ]
     },
     "metadata": {},
     "output_type": "display_data"
    },
    {
     "name": "stdout",
     "output_type": "stream",
     "text": [
      "Epoch: 100  loss: 0.3509  dprime: 0.61\n",
      "Epoch: 200  loss: 0.3267  dprime: 1.68\n",
      "Epoch: 300  loss: 0.3201  dprime: 2.02\n"
     ]
    },
    {
     "data": {
      "text/html": [
       "Waiting for W&B process to finish... <strong style=\"color:green\">(success).</strong>"
      ],
      "text/plain": [
       "<IPython.core.display.HTML object>"
      ]
     },
     "metadata": {},
     "output_type": "display_data"
    },
    {
     "name": "stderr",
     "output_type": "stream",
     "text": [
      "wandb: WARNING Source type is set to 'repo' but some required information is missing from the environment. A job will not be created from this run. See https://docs.wandb.ai/guides/launch/create-job\n"
     ]
    },
    {
     "data": {
      "application/vnd.jupyter.widget-view+json": {
       "model_id": "2fc7bdb412d44712b35f4e328aeae418",
       "version_major": 2,
       "version_minor": 0
      },
      "text/plain": [
       "VBox(children=(Label(value='0.005 MB of 0.005 MB uploaded (0.000 MB deduped)\\r'), FloatProgress(value=1.0, max…"
      ]
     },
     "metadata": {},
     "output_type": "display_data"
    },
    {
     "data": {
      "text/html": [
       "<style>\n",
       "    table.wandb td:nth-child(1) { padding: 0 10px; text-align: left ; width: auto;} td:nth-child(2) {text-align: left ; width: 100%}\n",
       "    .wandb-row { display: flex; flex-direction: row; flex-wrap: wrap; justify-content: flex-start; width: 100% }\n",
       "    .wandb-col { display: flex; flex-direction: column; flex-basis: 100%; flex: 1; padding: 10px; }\n",
       "    </style>\n",
       "<div class=\"wandb-row\"><div class=\"wandb-col\"><h3>Run history:</h3><br/><table class=\"wandb\"><tr><td>adapt_slope</td><td>▁</td></tr><tr><td>dprime_true</td><td>▁</td></tr><tr><td>loss</td><td>▁</td></tr></table><br/></div><div class=\"wandb-col\"><h3>Run summary:</h3><br/><table class=\"wandb\"><tr><td>adapt_slope</td><td>-0.00626</td></tr><tr><td>dprime_true</td><td>2.10386</td></tr><tr><td>loss</td><td>0.31898</td></tr></table><br/></div></div>"
      ],
      "text/plain": [
       "<IPython.core.display.HTML object>"
      ]
     },
     "metadata": {},
     "output_type": "display_data"
    },
    {
     "data": {
      "text/html": [
       " View run <strong style=\"color:#cdcd00\">young-sweep-22</strong> at: <a href='https://wandb.ai/fishysoup/STPNet_bayes_sweep/runs/b5fnv2ef' target=\"_blank\">https://wandb.ai/fishysoup/STPNet_bayes_sweep/runs/b5fnv2ef</a><br/>Synced 6 W&B file(s), 0 media file(s), 0 artifact file(s) and 0 other file(s)"
      ],
      "text/plain": [
       "<IPython.core.display.HTML object>"
      ]
     },
     "metadata": {},
     "output_type": "display_data"
    },
    {
     "data": {
      "text/html": [
       "Find logs at: <code>./wandb/run-20230803_093447-b5fnv2ef/logs</code>"
      ],
      "text/plain": [
       "<IPython.core.display.HTML object>"
      ]
     },
     "metadata": {},
     "output_type": "display_data"
    },
    {
     "name": "stderr",
     "output_type": "stream",
     "text": [
      "\u001b[34m\u001b[1mwandb\u001b[0m: Agent Starting Run: s80hrg5f with config:\n",
      "\u001b[34m\u001b[1mwandb\u001b[0m: \tdprime_targ: 1.2203827353229617\n",
      "\u001b[34m\u001b[1mwandb\u001b[0m: \tpatience: 5\n",
      "\u001b[34m\u001b[1mwandb\u001b[0m: \tsyn_tau: 11.132742968868463\n",
      "Failed to detect the name of this notebook, you can set it manually with the WANDB_NOTEBOOK_NAME environment variable to enable code saving.\n"
     ]
    },
    {
     "data": {
      "text/html": [
       "Tracking run with wandb version 0.15.8"
      ],
      "text/plain": [
       "<IPython.core.display.HTML object>"
      ]
     },
     "metadata": {},
     "output_type": "display_data"
    },
    {
     "data": {
      "text/html": [
       "Run data is saved locally in <code>/mmfs1/gscratch/rao/aresf/Code/STSPNet/wandb/run-20230803_093554-s80hrg5f</code>"
      ],
      "text/plain": [
       "<IPython.core.display.HTML object>"
      ]
     },
     "metadata": {},
     "output_type": "display_data"
    },
    {
     "data": {
      "text/html": [
       "Syncing run <strong><a href='https://wandb.ai/fishysoup/STPNet_bayes_sweep/runs/s80hrg5f' target=\"_blank\">dainty-sweep-23</a></strong> to <a href='https://wandb.ai/fishysoup/STPNet_bayes_sweep' target=\"_blank\">Weights & Biases</a> (<a href='https://wandb.me/run' target=\"_blank\">docs</a>)<br/>Sweep page: <a href='https://wandb.ai/fishysoup/STPNet_bayes_sweep/sweeps/uq4nb1mu' target=\"_blank\">https://wandb.ai/fishysoup/STPNet_bayes_sweep/sweeps/uq4nb1mu</a>"
      ],
      "text/plain": [
       "<IPython.core.display.HTML object>"
      ]
     },
     "metadata": {},
     "output_type": "display_data"
    },
    {
     "data": {
      "text/html": [
       " View project at <a href='https://wandb.ai/fishysoup/STPNet_bayes_sweep' target=\"_blank\">https://wandb.ai/fishysoup/STPNet_bayes_sweep</a>"
      ],
      "text/plain": [
       "<IPython.core.display.HTML object>"
      ]
     },
     "metadata": {},
     "output_type": "display_data"
    },
    {
     "data": {
      "text/html": [
       " View sweep at <a href='https://wandb.ai/fishysoup/STPNet_bayes_sweep/sweeps/uq4nb1mu' target=\"_blank\">https://wandb.ai/fishysoup/STPNet_bayes_sweep/sweeps/uq4nb1mu</a>"
      ],
      "text/plain": [
       "<IPython.core.display.HTML object>"
      ]
     },
     "metadata": {},
     "output_type": "display_data"
    },
    {
     "data": {
      "text/html": [
       " View run at <a href='https://wandb.ai/fishysoup/STPNet_bayes_sweep/runs/s80hrg5f' target=\"_blank\">https://wandb.ai/fishysoup/STPNet_bayes_sweep/runs/s80hrg5f</a>"
      ],
      "text/plain": [
       "<IPython.core.display.HTML object>"
      ]
     },
     "metadata": {},
     "output_type": "display_data"
    },
    {
     "name": "stdout",
     "output_type": "stream",
     "text": [
      "Epoch: 100  loss: 0.3548  dprime: 0.41\n",
      "Epoch: 200  loss: 0.3317  dprime: 1.31\n"
     ]
    },
    {
     "data": {
      "text/html": [
       "Waiting for W&B process to finish... <strong style=\"color:green\">(success).</strong>"
      ],
      "text/plain": [
       "<IPython.core.display.HTML object>"
      ]
     },
     "metadata": {},
     "output_type": "display_data"
    },
    {
     "name": "stderr",
     "output_type": "stream",
     "text": [
      "wandb: WARNING Source type is set to 'repo' but some required information is missing from the environment. A job will not be created from this run. See https://docs.wandb.ai/guides/launch/create-job\n"
     ]
    },
    {
     "data": {
      "application/vnd.jupyter.widget-view+json": {
       "model_id": "6961fa74abd9423790251c890a8138b4",
       "version_major": 2,
       "version_minor": 0
      },
      "text/plain": [
       "VBox(children=(Label(value='0.013 MB of 0.017 MB uploaded (0.000 MB deduped)\\r'), FloatProgress(value=0.791308…"
      ]
     },
     "metadata": {},
     "output_type": "display_data"
    },
    {
     "data": {
      "text/html": [
       "<style>\n",
       "    table.wandb td:nth-child(1) { padding: 0 10px; text-align: left ; width: auto;} td:nth-child(2) {text-align: left ; width: 100%}\n",
       "    .wandb-row { display: flex; flex-direction: row; flex-wrap: wrap; justify-content: flex-start; width: 100% }\n",
       "    .wandb-col { display: flex; flex-direction: column; flex-basis: 100%; flex: 1; padding: 10px; }\n",
       "    </style>\n",
       "<div class=\"wandb-row\"><div class=\"wandb-col\"><h3>Run history:</h3><br/><table class=\"wandb\"><tr><td>adapt_slope</td><td>▁</td></tr><tr><td>dprime_true</td><td>▁</td></tr><tr><td>loss</td><td>▁</td></tr></table><br/></div><div class=\"wandb-col\"><h3>Run summary:</h3><br/><table class=\"wandb\"><tr><td>adapt_slope</td><td>-0.01684</td></tr><tr><td>dprime_true</td><td>1.3336</td></tr><tr><td>loss</td><td>0.32883</td></tr></table><br/></div></div>"
      ],
      "text/plain": [
       "<IPython.core.display.HTML object>"
      ]
     },
     "metadata": {},
     "output_type": "display_data"
    },
    {
     "data": {
      "text/html": [
       " View run <strong style=\"color:#cdcd00\">dainty-sweep-23</strong> at: <a href='https://wandb.ai/fishysoup/STPNet_bayes_sweep/runs/s80hrg5f' target=\"_blank\">https://wandb.ai/fishysoup/STPNet_bayes_sweep/runs/s80hrg5f</a><br/>Synced 6 W&B file(s), 0 media file(s), 0 artifact file(s) and 0 other file(s)"
      ],
      "text/plain": [
       "<IPython.core.display.HTML object>"
      ]
     },
     "metadata": {},
     "output_type": "display_data"
    },
    {
     "data": {
      "text/html": [
       "Find logs at: <code>./wandb/run-20230803_093554-s80hrg5f/logs</code>"
      ],
      "text/plain": [
       "<IPython.core.display.HTML object>"
      ]
     },
     "metadata": {},
     "output_type": "display_data"
    },
    {
     "name": "stderr",
     "output_type": "stream",
     "text": [
      "\u001b[34m\u001b[1mwandb\u001b[0m: Sweep Agent: Waiting for job.\n",
      "\u001b[34m\u001b[1mwandb\u001b[0m: Job received.\n",
      "\u001b[34m\u001b[1mwandb\u001b[0m: Agent Starting Run: 2lwzn2fc with config:\n",
      "\u001b[34m\u001b[1mwandb\u001b[0m: \tdprime_targ: 1.5558101071677173\n",
      "\u001b[34m\u001b[1mwandb\u001b[0m: \tpatience: 15\n",
      "\u001b[34m\u001b[1mwandb\u001b[0m: \tsyn_tau: 18.75583973644259\n",
      "Failed to detect the name of this notebook, you can set it manually with the WANDB_NOTEBOOK_NAME environment variable to enable code saving.\n"
     ]
    },
    {
     "data": {
      "text/html": [
       "Tracking run with wandb version 0.15.8"
      ],
      "text/plain": [
       "<IPython.core.display.HTML object>"
      ]
     },
     "metadata": {},
     "output_type": "display_data"
    },
    {
     "data": {
      "text/html": [
       "Run data is saved locally in <code>/mmfs1/gscratch/rao/aresf/Code/STSPNet/wandb/run-20230803_093650-2lwzn2fc</code>"
      ],
      "text/plain": [
       "<IPython.core.display.HTML object>"
      ]
     },
     "metadata": {},
     "output_type": "display_data"
    },
    {
     "data": {
      "text/html": [
       "Syncing run <strong><a href='https://wandb.ai/fishysoup/STPNet_bayes_sweep/runs/2lwzn2fc' target=\"_blank\">pious-sweep-24</a></strong> to <a href='https://wandb.ai/fishysoup/STPNet_bayes_sweep' target=\"_blank\">Weights & Biases</a> (<a href='https://wandb.me/run' target=\"_blank\">docs</a>)<br/>Sweep page: <a href='https://wandb.ai/fishysoup/STPNet_bayes_sweep/sweeps/uq4nb1mu' target=\"_blank\">https://wandb.ai/fishysoup/STPNet_bayes_sweep/sweeps/uq4nb1mu</a>"
      ],
      "text/plain": [
       "<IPython.core.display.HTML object>"
      ]
     },
     "metadata": {},
     "output_type": "display_data"
    },
    {
     "data": {
      "text/html": [
       " View project at <a href='https://wandb.ai/fishysoup/STPNet_bayes_sweep' target=\"_blank\">https://wandb.ai/fishysoup/STPNet_bayes_sweep</a>"
      ],
      "text/plain": [
       "<IPython.core.display.HTML object>"
      ]
     },
     "metadata": {},
     "output_type": "display_data"
    },
    {
     "data": {
      "text/html": [
       " View sweep at <a href='https://wandb.ai/fishysoup/STPNet_bayes_sweep/sweeps/uq4nb1mu' target=\"_blank\">https://wandb.ai/fishysoup/STPNet_bayes_sweep/sweeps/uq4nb1mu</a>"
      ],
      "text/plain": [
       "<IPython.core.display.HTML object>"
      ]
     },
     "metadata": {},
     "output_type": "display_data"
    },
    {
     "data": {
      "text/html": [
       " View run at <a href='https://wandb.ai/fishysoup/STPNet_bayes_sweep/runs/2lwzn2fc' target=\"_blank\">https://wandb.ai/fishysoup/STPNet_bayes_sweep/runs/2lwzn2fc</a>"
      ],
      "text/plain": [
       "<IPython.core.display.HTML object>"
      ]
     },
     "metadata": {},
     "output_type": "display_data"
    },
    {
     "name": "stdout",
     "output_type": "stream",
     "text": [
      "Epoch: 100  loss: 0.3540  dprime: 0.60\n",
      "Epoch: 200  loss: 0.3272  dprime: 1.37\n"
     ]
    },
    {
     "data": {
      "text/html": [
       "Waiting for W&B process to finish... <strong style=\"color:green\">(success).</strong>"
      ],
      "text/plain": [
       "<IPython.core.display.HTML object>"
      ]
     },
     "metadata": {},
     "output_type": "display_data"
    },
    {
     "name": "stderr",
     "output_type": "stream",
     "text": [
      "wandb: WARNING Source type is set to 'repo' but some required information is missing from the environment. A job will not be created from this run. See https://docs.wandb.ai/guides/launch/create-job\n"
     ]
    },
    {
     "data": {
      "application/vnd.jupyter.widget-view+json": {
       "model_id": "19dd4ebaf32a4a64acfbe289a17e0d18",
       "version_major": 2,
       "version_minor": 0
      },
      "text/plain": [
       "VBox(children=(Label(value='0.005 MB of 0.005 MB uploaded (0.000 MB deduped)\\r'), FloatProgress(value=1.0, max…"
      ]
     },
     "metadata": {},
     "output_type": "display_data"
    },
    {
     "data": {
      "text/html": [
       "<style>\n",
       "    table.wandb td:nth-child(1) { padding: 0 10px; text-align: left ; width: auto;} td:nth-child(2) {text-align: left ; width: 100%}\n",
       "    .wandb-row { display: flex; flex-direction: row; flex-wrap: wrap; justify-content: flex-start; width: 100% }\n",
       "    .wandb-col { display: flex; flex-direction: column; flex-basis: 100%; flex: 1; padding: 10px; }\n",
       "    </style>\n",
       "<div class=\"wandb-row\"><div class=\"wandb-col\"><h3>Run history:</h3><br/><table class=\"wandb\"><tr><td>adapt_slope</td><td>▁</td></tr><tr><td>dprime_true</td><td>▁</td></tr><tr><td>loss</td><td>▁</td></tr></table><br/></div><div class=\"wandb-col\"><h3>Run summary:</h3><br/><table class=\"wandb\"><tr><td>adapt_slope</td><td>-0.02431</td></tr><tr><td>dprime_true</td><td>1.9593</td></tr><tr><td>loss</td><td>0.31912</td></tr></table><br/></div></div>"
      ],
      "text/plain": [
       "<IPython.core.display.HTML object>"
      ]
     },
     "metadata": {},
     "output_type": "display_data"
    },
    {
     "data": {
      "text/html": [
       " View run <strong style=\"color:#cdcd00\">pious-sweep-24</strong> at: <a href='https://wandb.ai/fishysoup/STPNet_bayes_sweep/runs/2lwzn2fc' target=\"_blank\">https://wandb.ai/fishysoup/STPNet_bayes_sweep/runs/2lwzn2fc</a><br/>Synced 6 W&B file(s), 0 media file(s), 0 artifact file(s) and 0 other file(s)"
      ],
      "text/plain": [
       "<IPython.core.display.HTML object>"
      ]
     },
     "metadata": {},
     "output_type": "display_data"
    },
    {
     "data": {
      "text/html": [
       "Find logs at: <code>./wandb/run-20230803_093650-2lwzn2fc/logs</code>"
      ],
      "text/plain": [
       "<IPython.core.display.HTML object>"
      ]
     },
     "metadata": {},
     "output_type": "display_data"
    },
    {
     "name": "stderr",
     "output_type": "stream",
     "text": [
      "\u001b[34m\u001b[1mwandb\u001b[0m: Agent Starting Run: 84rcvdrr with config:\n",
      "\u001b[34m\u001b[1mwandb\u001b[0m: \tdprime_targ: 1.104769355566002\n",
      "\u001b[34m\u001b[1mwandb\u001b[0m: \tpatience: 5\n",
      "\u001b[34m\u001b[1mwandb\u001b[0m: \tsyn_tau: 18.83833846509546\n",
      "Failed to detect the name of this notebook, you can set it manually with the WANDB_NOTEBOOK_NAME environment variable to enable code saving.\n"
     ]
    },
    {
     "data": {
      "text/html": [
       "Tracking run with wandb version 0.15.8"
      ],
      "text/plain": [
       "<IPython.core.display.HTML object>"
      ]
     },
     "metadata": {},
     "output_type": "display_data"
    },
    {
     "data": {
      "text/html": [
       "Run data is saved locally in <code>/mmfs1/gscratch/rao/aresf/Code/STSPNet/wandb/run-20230803_093743-84rcvdrr</code>"
      ],
      "text/plain": [
       "<IPython.core.display.HTML object>"
      ]
     },
     "metadata": {},
     "output_type": "display_data"
    },
    {
     "data": {
      "text/html": [
       "Syncing run <strong><a href='https://wandb.ai/fishysoup/STPNet_bayes_sweep/runs/84rcvdrr' target=\"_blank\">driven-sweep-25</a></strong> to <a href='https://wandb.ai/fishysoup/STPNet_bayes_sweep' target=\"_blank\">Weights & Biases</a> (<a href='https://wandb.me/run' target=\"_blank\">docs</a>)<br/>Sweep page: <a href='https://wandb.ai/fishysoup/STPNet_bayes_sweep/sweeps/uq4nb1mu' target=\"_blank\">https://wandb.ai/fishysoup/STPNet_bayes_sweep/sweeps/uq4nb1mu</a>"
      ],
      "text/plain": [
       "<IPython.core.display.HTML object>"
      ]
     },
     "metadata": {},
     "output_type": "display_data"
    },
    {
     "data": {
      "text/html": [
       " View project at <a href='https://wandb.ai/fishysoup/STPNet_bayes_sweep' target=\"_blank\">https://wandb.ai/fishysoup/STPNet_bayes_sweep</a>"
      ],
      "text/plain": [
       "<IPython.core.display.HTML object>"
      ]
     },
     "metadata": {},
     "output_type": "display_data"
    },
    {
     "data": {
      "text/html": [
       " View sweep at <a href='https://wandb.ai/fishysoup/STPNet_bayes_sweep/sweeps/uq4nb1mu' target=\"_blank\">https://wandb.ai/fishysoup/STPNet_bayes_sweep/sweeps/uq4nb1mu</a>"
      ],
      "text/plain": [
       "<IPython.core.display.HTML object>"
      ]
     },
     "metadata": {},
     "output_type": "display_data"
    },
    {
     "data": {
      "text/html": [
       " View run at <a href='https://wandb.ai/fishysoup/STPNet_bayes_sweep/runs/84rcvdrr' target=\"_blank\">https://wandb.ai/fishysoup/STPNet_bayes_sweep/runs/84rcvdrr</a>"
      ],
      "text/plain": [
       "<IPython.core.display.HTML object>"
      ]
     },
     "metadata": {},
     "output_type": "display_data"
    },
    {
     "name": "stdout",
     "output_type": "stream",
     "text": [
      "Epoch: 100  loss: 0.3580  dprime: 0.48\n"
     ]
    },
    {
     "data": {
      "text/html": [
       "Waiting for W&B process to finish... <strong style=\"color:green\">(success).</strong>"
      ],
      "text/plain": [
       "<IPython.core.display.HTML object>"
      ]
     },
     "metadata": {},
     "output_type": "display_data"
    },
    {
     "name": "stderr",
     "output_type": "stream",
     "text": [
      "wandb: WARNING Source type is set to 'repo' but some required information is missing from the environment. A job will not be created from this run. See https://docs.wandb.ai/guides/launch/create-job\n"
     ]
    },
    {
     "data": {
      "text/html": [
       "<style>\n",
       "    table.wandb td:nth-child(1) { padding: 0 10px; text-align: left ; width: auto;} td:nth-child(2) {text-align: left ; width: 100%}\n",
       "    .wandb-row { display: flex; flex-direction: row; flex-wrap: wrap; justify-content: flex-start; width: 100% }\n",
       "    .wandb-col { display: flex; flex-direction: column; flex-basis: 100%; flex: 1; padding: 10px; }\n",
       "    </style>\n",
       "<div class=\"wandb-row\"><div class=\"wandb-col\"><h3>Run history:</h3><br/><table class=\"wandb\"><tr><td>adapt_slope</td><td>▁</td></tr><tr><td>dprime_true</td><td>▁</td></tr><tr><td>loss</td><td>▁</td></tr></table><br/></div><div class=\"wandb-col\"><h3>Run summary:</h3><br/><table class=\"wandb\"><tr><td>adapt_slope</td><td>-0.01295</td></tr><tr><td>dprime_true</td><td>1.32704</td></tr><tr><td>loss</td><td>0.3303</td></tr></table><br/></div></div>"
      ],
      "text/plain": [
       "<IPython.core.display.HTML object>"
      ]
     },
     "metadata": {},
     "output_type": "display_data"
    },
    {
     "data": {
      "text/html": [
       " View run <strong style=\"color:#cdcd00\">driven-sweep-25</strong> at: <a href='https://wandb.ai/fishysoup/STPNet_bayes_sweep/runs/84rcvdrr' target=\"_blank\">https://wandb.ai/fishysoup/STPNet_bayes_sweep/runs/84rcvdrr</a><br/>Synced 6 W&B file(s), 0 media file(s), 0 artifact file(s) and 0 other file(s)"
      ],
      "text/plain": [
       "<IPython.core.display.HTML object>"
      ]
     },
     "metadata": {},
     "output_type": "display_data"
    },
    {
     "data": {
      "text/html": [
       "Find logs at: <code>./wandb/run-20230803_093743-84rcvdrr/logs</code>"
      ],
      "text/plain": [
       "<IPython.core.display.HTML object>"
      ]
     },
     "metadata": {},
     "output_type": "display_data"
    },
    {
     "name": "stderr",
     "output_type": "stream",
     "text": [
      "\u001b[34m\u001b[1mwandb\u001b[0m: Agent Starting Run: p7t7hcbk with config:\n",
      "\u001b[34m\u001b[1mwandb\u001b[0m: \tdprime_targ: 1.452090786043577\n",
      "\u001b[34m\u001b[1mwandb\u001b[0m: \tpatience: 10\n",
      "\u001b[34m\u001b[1mwandb\u001b[0m: \tsyn_tau: 17.602167072473772\n",
      "Failed to detect the name of this notebook, you can set it manually with the WANDB_NOTEBOOK_NAME environment variable to enable code saving.\n"
     ]
    },
    {
     "data": {
      "text/html": [
       "Tracking run with wandb version 0.15.8"
      ],
      "text/plain": [
       "<IPython.core.display.HTML object>"
      ]
     },
     "metadata": {},
     "output_type": "display_data"
    },
    {
     "data": {
      "text/html": [
       "Run data is saved locally in <code>/mmfs1/gscratch/rao/aresf/Code/STSPNet/wandb/run-20230803_093823-p7t7hcbk</code>"
      ],
      "text/plain": [
       "<IPython.core.display.HTML object>"
      ]
     },
     "metadata": {},
     "output_type": "display_data"
    },
    {
     "data": {
      "text/html": [
       "Syncing run <strong><a href='https://wandb.ai/fishysoup/STPNet_bayes_sweep/runs/p7t7hcbk' target=\"_blank\">legendary-sweep-26</a></strong> to <a href='https://wandb.ai/fishysoup/STPNet_bayes_sweep' target=\"_blank\">Weights & Biases</a> (<a href='https://wandb.me/run' target=\"_blank\">docs</a>)<br/>Sweep page: <a href='https://wandb.ai/fishysoup/STPNet_bayes_sweep/sweeps/uq4nb1mu' target=\"_blank\">https://wandb.ai/fishysoup/STPNet_bayes_sweep/sweeps/uq4nb1mu</a>"
      ],
      "text/plain": [
       "<IPython.core.display.HTML object>"
      ]
     },
     "metadata": {},
     "output_type": "display_data"
    },
    {
     "data": {
      "text/html": [
       " View project at <a href='https://wandb.ai/fishysoup/STPNet_bayes_sweep' target=\"_blank\">https://wandb.ai/fishysoup/STPNet_bayes_sweep</a>"
      ],
      "text/plain": [
       "<IPython.core.display.HTML object>"
      ]
     },
     "metadata": {},
     "output_type": "display_data"
    },
    {
     "data": {
      "text/html": [
       " View sweep at <a href='https://wandb.ai/fishysoup/STPNet_bayes_sweep/sweeps/uq4nb1mu' target=\"_blank\">https://wandb.ai/fishysoup/STPNet_bayes_sweep/sweeps/uq4nb1mu</a>"
      ],
      "text/plain": [
       "<IPython.core.display.HTML object>"
      ]
     },
     "metadata": {},
     "output_type": "display_data"
    },
    {
     "data": {
      "text/html": [
       " View run at <a href='https://wandb.ai/fishysoup/STPNet_bayes_sweep/runs/p7t7hcbk' target=\"_blank\">https://wandb.ai/fishysoup/STPNet_bayes_sweep/runs/p7t7hcbk</a>"
      ],
      "text/plain": [
       "<IPython.core.display.HTML object>"
      ]
     },
     "metadata": {},
     "output_type": "display_data"
    },
    {
     "name": "stdout",
     "output_type": "stream",
     "text": [
      "Epoch: 100  loss: 0.3533  dprime: 0.59\n",
      "Epoch: 200  loss: 0.3259  dprime: 1.61\n"
     ]
    },
    {
     "data": {
      "text/html": [
       "Waiting for W&B process to finish... <strong style=\"color:green\">(success).</strong>"
      ],
      "text/plain": [
       "<IPython.core.display.HTML object>"
      ]
     },
     "metadata": {},
     "output_type": "display_data"
    },
    {
     "name": "stderr",
     "output_type": "stream",
     "text": [
      "wandb: WARNING Source type is set to 'repo' but some required information is missing from the environment. A job will not be created from this run. See https://docs.wandb.ai/guides/launch/create-job\n"
     ]
    },
    {
     "data": {
      "application/vnd.jupyter.widget-view+json": {
       "model_id": "4459ec891fb94fb18b0f013674627993",
       "version_major": 2,
       "version_minor": 0
      },
      "text/plain": [
       "VBox(children=(Label(value='0.005 MB of 0.005 MB uploaded (0.000 MB deduped)\\r'), FloatProgress(value=1.0, max…"
      ]
     },
     "metadata": {},
     "output_type": "display_data"
    },
    {
     "data": {
      "text/html": [
       "<style>\n",
       "    table.wandb td:nth-child(1) { padding: 0 10px; text-align: left ; width: auto;} td:nth-child(2) {text-align: left ; width: 100%}\n",
       "    .wandb-row { display: flex; flex-direction: row; flex-wrap: wrap; justify-content: flex-start; width: 100% }\n",
       "    .wandb-col { display: flex; flex-direction: column; flex-basis: 100%; flex: 1; padding: 10px; }\n",
       "    </style>\n",
       "<div class=\"wandb-row\"><div class=\"wandb-col\"><h3>Run history:</h3><br/><table class=\"wandb\"><tr><td>adapt_slope</td><td>▁</td></tr><tr><td>dprime_true</td><td>▁</td></tr><tr><td>loss</td><td>▁</td></tr></table><br/></div><div class=\"wandb-col\"><h3>Run summary:</h3><br/><table class=\"wandb\"><tr><td>adapt_slope</td><td>-0.00583</td></tr><tr><td>dprime_true</td><td>1.54057</td></tr><tr><td>loss</td><td>0.3229</td></tr></table><br/></div></div>"
      ],
      "text/plain": [
       "<IPython.core.display.HTML object>"
      ]
     },
     "metadata": {},
     "output_type": "display_data"
    },
    {
     "data": {
      "text/html": [
       " View run <strong style=\"color:#cdcd00\">legendary-sweep-26</strong> at: <a href='https://wandb.ai/fishysoup/STPNet_bayes_sweep/runs/p7t7hcbk' target=\"_blank\">https://wandb.ai/fishysoup/STPNet_bayes_sweep/runs/p7t7hcbk</a><br/>Synced 6 W&B file(s), 0 media file(s), 0 artifact file(s) and 0 other file(s)"
      ],
      "text/plain": [
       "<IPython.core.display.HTML object>"
      ]
     },
     "metadata": {},
     "output_type": "display_data"
    },
    {
     "data": {
      "text/html": [
       "Find logs at: <code>./wandb/run-20230803_093823-p7t7hcbk/logs</code>"
      ],
      "text/plain": [
       "<IPython.core.display.HTML object>"
      ]
     },
     "metadata": {},
     "output_type": "display_data"
    },
    {
     "name": "stderr",
     "output_type": "stream",
     "text": [
      "\u001b[34m\u001b[1mwandb\u001b[0m: Sweep Agent: Waiting for job.\n",
      "\u001b[34m\u001b[1mwandb\u001b[0m: Job received.\n",
      "\u001b[34m\u001b[1mwandb\u001b[0m: Agent Starting Run: dxf81ba6 with config:\n",
      "\u001b[34m\u001b[1mwandb\u001b[0m: \tdprime_targ: 1.794939590657092\n",
      "\u001b[34m\u001b[1mwandb\u001b[0m: \tpatience: 15\n",
      "\u001b[34m\u001b[1mwandb\u001b[0m: \tsyn_tau: 6.0933077692556825\n",
      "Failed to detect the name of this notebook, you can set it manually with the WANDB_NOTEBOOK_NAME environment variable to enable code saving.\n"
     ]
    },
    {
     "data": {
      "text/html": [
       "Tracking run with wandb version 0.15.8"
      ],
      "text/plain": [
       "<IPython.core.display.HTML object>"
      ]
     },
     "metadata": {},
     "output_type": "display_data"
    },
    {
     "data": {
      "text/html": [
       "Run data is saved locally in <code>/mmfs1/gscratch/rao/aresf/Code/STSPNet/wandb/run-20230803_093920-dxf81ba6</code>"
      ],
      "text/plain": [
       "<IPython.core.display.HTML object>"
      ]
     },
     "metadata": {},
     "output_type": "display_data"
    },
    {
     "data": {
      "text/html": [
       "Syncing run <strong><a href='https://wandb.ai/fishysoup/STPNet_bayes_sweep/runs/dxf81ba6' target=\"_blank\">magic-sweep-27</a></strong> to <a href='https://wandb.ai/fishysoup/STPNet_bayes_sweep' target=\"_blank\">Weights & Biases</a> (<a href='https://wandb.me/run' target=\"_blank\">docs</a>)<br/>Sweep page: <a href='https://wandb.ai/fishysoup/STPNet_bayes_sweep/sweeps/uq4nb1mu' target=\"_blank\">https://wandb.ai/fishysoup/STPNet_bayes_sweep/sweeps/uq4nb1mu</a>"
      ],
      "text/plain": [
       "<IPython.core.display.HTML object>"
      ]
     },
     "metadata": {},
     "output_type": "display_data"
    },
    {
     "data": {
      "text/html": [
       " View project at <a href='https://wandb.ai/fishysoup/STPNet_bayes_sweep' target=\"_blank\">https://wandb.ai/fishysoup/STPNet_bayes_sweep</a>"
      ],
      "text/plain": [
       "<IPython.core.display.HTML object>"
      ]
     },
     "metadata": {},
     "output_type": "display_data"
    },
    {
     "data": {
      "text/html": [
       " View sweep at <a href='https://wandb.ai/fishysoup/STPNet_bayes_sweep/sweeps/uq4nb1mu' target=\"_blank\">https://wandb.ai/fishysoup/STPNet_bayes_sweep/sweeps/uq4nb1mu</a>"
      ],
      "text/plain": [
       "<IPython.core.display.HTML object>"
      ]
     },
     "metadata": {},
     "output_type": "display_data"
    },
    {
     "data": {
      "text/html": [
       " View run at <a href='https://wandb.ai/fishysoup/STPNet_bayes_sweep/runs/dxf81ba6' target=\"_blank\">https://wandb.ai/fishysoup/STPNet_bayes_sweep/runs/dxf81ba6</a>"
      ],
      "text/plain": [
       "<IPython.core.display.HTML object>"
      ]
     },
     "metadata": {},
     "output_type": "display_data"
    },
    {
     "name": "stdout",
     "output_type": "stream",
     "text": [
      "Epoch: 100  loss: 0.3546  dprime: 0.15\n",
      "Epoch: 200  loss: 0.3371  dprime: 1.29\n",
      "Epoch: 300  loss: 0.3352  dprime: 1.25\n",
      "Epoch: 400  loss: 0.3301  dprime: 1.37\n",
      "Epoch: 500  loss: 0.3314  dprime: 1.49\n",
      "Epoch: 600  loss: 0.3266  dprime: 1.57\n",
      "Epoch: 700  loss: 0.3279  dprime: 1.65\n",
      "Epoch: 800  loss: 0.3305  dprime: 1.68\n",
      "Epoch: 900  loss: 0.3319  dprime: 1.36\n",
      "Epoch: 1000  loss: 0.3258  dprime: 1.97\n",
      "Epoch: 1100  loss: 0.3291  dprime: 1.36\n",
      "Epoch: 1200  loss: 0.3272  dprime: 1.55\n",
      "Epoch: 1300  loss: 0.3263  dprime: 1.69\n",
      "Epoch: 1400  loss: 0.3191  dprime: 1.65\n",
      "Epoch: 1500  loss: 0.3261  dprime: 1.77\n",
      "Epoch: 1600  loss: 0.3212  dprime: 1.53\n",
      "Epoch: 1700  loss: 0.3280  dprime: 1.32\n",
      "Epoch: 1800  loss: 0.3250  dprime: 1.78\n",
      "Epoch: 1900  loss: 0.3234  dprime: 1.60\n",
      "Epoch: 2000  loss: 0.3252  dprime: 1.51\n"
     ]
    },
    {
     "data": {
      "text/html": [
       "Waiting for W&B process to finish... <strong style=\"color:green\">(success).</strong>"
      ],
      "text/plain": [
       "<IPython.core.display.HTML object>"
      ]
     },
     "metadata": {},
     "output_type": "display_data"
    },
    {
     "name": "stderr",
     "output_type": "stream",
     "text": [
      "wandb: WARNING Source type is set to 'repo' but some required information is missing from the environment. A job will not be created from this run. See https://docs.wandb.ai/guides/launch/create-job\n"
     ]
    },
    {
     "data": {
      "application/vnd.jupyter.widget-view+json": {
       "model_id": "88006279cff04734bc137a2f2f140190",
       "version_major": 2,
       "version_minor": 0
      },
      "text/plain": [
       "VBox(children=(Label(value='0.005 MB of 0.005 MB uploaded (0.000 MB deduped)\\r'), FloatProgress(value=1.0, max…"
      ]
     },
     "metadata": {},
     "output_type": "display_data"
    },
    {
     "data": {
      "text/html": [
       "<style>\n",
       "    table.wandb td:nth-child(1) { padding: 0 10px; text-align: left ; width: auto;} td:nth-child(2) {text-align: left ; width: 100%}\n",
       "    .wandb-row { display: flex; flex-direction: row; flex-wrap: wrap; justify-content: flex-start; width: 100% }\n",
       "    .wandb-col { display: flex; flex-direction: column; flex-basis: 100%; flex: 1; padding: 10px; }\n",
       "    </style>\n",
       "<div class=\"wandb-row\"><div class=\"wandb-col\"><h3>Run history:</h3><br/><table class=\"wandb\"><tr><td>adapt_slope</td><td>▁</td></tr><tr><td>dprime_true</td><td>▁</td></tr><tr><td>loss</td><td>▁</td></tr></table><br/></div><div class=\"wandb-col\"><h3>Run summary:</h3><br/><table class=\"wandb\"><tr><td>adapt_slope</td><td>-0.01496</td></tr><tr><td>dprime_true</td><td>1.5891</td></tr><tr><td>loss</td><td>0.32524</td></tr></table><br/></div></div>"
      ],
      "text/plain": [
       "<IPython.core.display.HTML object>"
      ]
     },
     "metadata": {},
     "output_type": "display_data"
    },
    {
     "data": {
      "text/html": [
       " View run <strong style=\"color:#cdcd00\">magic-sweep-27</strong> at: <a href='https://wandb.ai/fishysoup/STPNet_bayes_sweep/runs/dxf81ba6' target=\"_blank\">https://wandb.ai/fishysoup/STPNet_bayes_sweep/runs/dxf81ba6</a><br/>Synced 6 W&B file(s), 0 media file(s), 0 artifact file(s) and 0 other file(s)"
      ],
      "text/plain": [
       "<IPython.core.display.HTML object>"
      ]
     },
     "metadata": {},
     "output_type": "display_data"
    },
    {
     "data": {
      "text/html": [
       "Find logs at: <code>./wandb/run-20230803_093920-dxf81ba6/logs</code>"
      ],
      "text/plain": [
       "<IPython.core.display.HTML object>"
      ]
     },
     "metadata": {},
     "output_type": "display_data"
    },
    {
     "name": "stderr",
     "output_type": "stream",
     "text": [
      "\u001b[34m\u001b[1mwandb\u001b[0m: Agent Starting Run: hobjmt2u with config:\n",
      "\u001b[34m\u001b[1mwandb\u001b[0m: \tdprime_targ: 1.4134232216833935\n",
      "\u001b[34m\u001b[1mwandb\u001b[0m: \tpatience: 15\n",
      "\u001b[34m\u001b[1mwandb\u001b[0m: \tsyn_tau: 7.540544199681456\n",
      "Failed to detect the name of this notebook, you can set it manually with the WANDB_NOTEBOOK_NAME environment variable to enable code saving.\n"
     ]
    },
    {
     "data": {
      "text/html": [
       "Tracking run with wandb version 0.15.8"
      ],
      "text/plain": [
       "<IPython.core.display.HTML object>"
      ]
     },
     "metadata": {},
     "output_type": "display_data"
    },
    {
     "data": {
      "text/html": [
       "Run data is saved locally in <code>/mmfs1/gscratch/rao/aresf/Code/STSPNet/wandb/run-20230803_094503-hobjmt2u</code>"
      ],
      "text/plain": [
       "<IPython.core.display.HTML object>"
      ]
     },
     "metadata": {},
     "output_type": "display_data"
    },
    {
     "data": {
      "text/html": [
       "Syncing run <strong><a href='https://wandb.ai/fishysoup/STPNet_bayes_sweep/runs/hobjmt2u' target=\"_blank\">resilient-sweep-28</a></strong> to <a href='https://wandb.ai/fishysoup/STPNet_bayes_sweep' target=\"_blank\">Weights & Biases</a> (<a href='https://wandb.me/run' target=\"_blank\">docs</a>)<br/>Sweep page: <a href='https://wandb.ai/fishysoup/STPNet_bayes_sweep/sweeps/uq4nb1mu' target=\"_blank\">https://wandb.ai/fishysoup/STPNet_bayes_sweep/sweeps/uq4nb1mu</a>"
      ],
      "text/plain": [
       "<IPython.core.display.HTML object>"
      ]
     },
     "metadata": {},
     "output_type": "display_data"
    },
    {
     "data": {
      "text/html": [
       " View project at <a href='https://wandb.ai/fishysoup/STPNet_bayes_sweep' target=\"_blank\">https://wandb.ai/fishysoup/STPNet_bayes_sweep</a>"
      ],
      "text/plain": [
       "<IPython.core.display.HTML object>"
      ]
     },
     "metadata": {},
     "output_type": "display_data"
    },
    {
     "data": {
      "text/html": [
       " View sweep at <a href='https://wandb.ai/fishysoup/STPNet_bayes_sweep/sweeps/uq4nb1mu' target=\"_blank\">https://wandb.ai/fishysoup/STPNet_bayes_sweep/sweeps/uq4nb1mu</a>"
      ],
      "text/plain": [
       "<IPython.core.display.HTML object>"
      ]
     },
     "metadata": {},
     "output_type": "display_data"
    },
    {
     "data": {
      "text/html": [
       " View run at <a href='https://wandb.ai/fishysoup/STPNet_bayes_sweep/runs/hobjmt2u' target=\"_blank\">https://wandb.ai/fishysoup/STPNet_bayes_sweep/runs/hobjmt2u</a>"
      ],
      "text/plain": [
       "<IPython.core.display.HTML object>"
      ]
     },
     "metadata": {},
     "output_type": "display_data"
    },
    {
     "name": "stdout",
     "output_type": "stream",
     "text": [
      "Epoch: 100  loss: 0.3553  dprime: 0.57\n",
      "Epoch: 200  loss: 0.3341  dprime: 1.47\n",
      "Epoch: 300  loss: 0.3301  dprime: 1.65\n"
     ]
    },
    {
     "data": {
      "text/html": [
       "Waiting for W&B process to finish... <strong style=\"color:green\">(success).</strong>"
      ],
      "text/plain": [
       "<IPython.core.display.HTML object>"
      ]
     },
     "metadata": {},
     "output_type": "display_data"
    },
    {
     "name": "stderr",
     "output_type": "stream",
     "text": [
      "wandb: WARNING Source type is set to 'repo' but some required information is missing from the environment. A job will not be created from this run. See https://docs.wandb.ai/guides/launch/create-job\n"
     ]
    },
    {
     "data": {
      "application/vnd.jupyter.widget-view+json": {
       "model_id": "8479fe69de6c43f48c674d5fefb2901e",
       "version_major": 2,
       "version_minor": 0
      },
      "text/plain": [
       "VBox(children=(Label(value='0.005 MB of 0.005 MB uploaded (0.000 MB deduped)\\r'), FloatProgress(value=1.0, max…"
      ]
     },
     "metadata": {},
     "output_type": "display_data"
    },
    {
     "data": {
      "text/html": [
       "<style>\n",
       "    table.wandb td:nth-child(1) { padding: 0 10px; text-align: left ; width: auto;} td:nth-child(2) {text-align: left ; width: 100%}\n",
       "    .wandb-row { display: flex; flex-direction: row; flex-wrap: wrap; justify-content: flex-start; width: 100% }\n",
       "    .wandb-col { display: flex; flex-direction: column; flex-basis: 100%; flex: 1; padding: 10px; }\n",
       "    </style>\n",
       "<div class=\"wandb-row\"><div class=\"wandb-col\"><h3>Run history:</h3><br/><table class=\"wandb\"><tr><td>adapt_slope</td><td>▁</td></tr><tr><td>dprime_true</td><td>▁</td></tr><tr><td>loss</td><td>▁</td></tr></table><br/></div><div class=\"wandb-col\"><h3>Run summary:</h3><br/><table class=\"wandb\"><tr><td>adapt_slope</td><td>-0.01213</td></tr><tr><td>dprime_true</td><td>1.65564</td></tr><tr><td>loss</td><td>0.32956</td></tr></table><br/></div></div>"
      ],
      "text/plain": [
       "<IPython.core.display.HTML object>"
      ]
     },
     "metadata": {},
     "output_type": "display_data"
    },
    {
     "data": {
      "text/html": [
       " View run <strong style=\"color:#cdcd00\">resilient-sweep-28</strong> at: <a href='https://wandb.ai/fishysoup/STPNet_bayes_sweep/runs/hobjmt2u' target=\"_blank\">https://wandb.ai/fishysoup/STPNet_bayes_sweep/runs/hobjmt2u</a><br/>Synced 6 W&B file(s), 0 media file(s), 0 artifact file(s) and 0 other file(s)"
      ],
      "text/plain": [
       "<IPython.core.display.HTML object>"
      ]
     },
     "metadata": {},
     "output_type": "display_data"
    },
    {
     "data": {
      "text/html": [
       "Find logs at: <code>./wandb/run-20230803_094503-hobjmt2u/logs</code>"
      ],
      "text/plain": [
       "<IPython.core.display.HTML object>"
      ]
     },
     "metadata": {},
     "output_type": "display_data"
    },
    {
     "name": "stderr",
     "output_type": "stream",
     "text": [
      "\u001b[34m\u001b[1mwandb\u001b[0m: Agent Starting Run: bcsddszo with config:\n",
      "\u001b[34m\u001b[1mwandb\u001b[0m: \tdprime_targ: 1.7620732459431356\n",
      "\u001b[34m\u001b[1mwandb\u001b[0m: \tpatience: 20\n",
      "\u001b[34m\u001b[1mwandb\u001b[0m: \tsyn_tau: 17.651926892376125\n",
      "Failed to detect the name of this notebook, you can set it manually with the WANDB_NOTEBOOK_NAME environment variable to enable code saving.\n"
     ]
    },
    {
     "data": {
      "text/html": [
       "Tracking run with wandb version 0.15.8"
      ],
      "text/plain": [
       "<IPython.core.display.HTML object>"
      ]
     },
     "metadata": {},
     "output_type": "display_data"
    },
    {
     "data": {
      "text/html": [
       "Run data is saved locally in <code>/mmfs1/gscratch/rao/aresf/Code/STSPNet/wandb/run-20230803_094620-bcsddszo</code>"
      ],
      "text/plain": [
       "<IPython.core.display.HTML object>"
      ]
     },
     "metadata": {},
     "output_type": "display_data"
    },
    {
     "data": {
      "text/html": [
       "Syncing run <strong><a href='https://wandb.ai/fishysoup/STPNet_bayes_sweep/runs/bcsddszo' target=\"_blank\">expert-sweep-29</a></strong> to <a href='https://wandb.ai/fishysoup/STPNet_bayes_sweep' target=\"_blank\">Weights & Biases</a> (<a href='https://wandb.me/run' target=\"_blank\">docs</a>)<br/>Sweep page: <a href='https://wandb.ai/fishysoup/STPNet_bayes_sweep/sweeps/uq4nb1mu' target=\"_blank\">https://wandb.ai/fishysoup/STPNet_bayes_sweep/sweeps/uq4nb1mu</a>"
      ],
      "text/plain": [
       "<IPython.core.display.HTML object>"
      ]
     },
     "metadata": {},
     "output_type": "display_data"
    },
    {
     "data": {
      "text/html": [
       " View project at <a href='https://wandb.ai/fishysoup/STPNet_bayes_sweep' target=\"_blank\">https://wandb.ai/fishysoup/STPNet_bayes_sweep</a>"
      ],
      "text/plain": [
       "<IPython.core.display.HTML object>"
      ]
     },
     "metadata": {},
     "output_type": "display_data"
    },
    {
     "data": {
      "text/html": [
       " View sweep at <a href='https://wandb.ai/fishysoup/STPNet_bayes_sweep/sweeps/uq4nb1mu' target=\"_blank\">https://wandb.ai/fishysoup/STPNet_bayes_sweep/sweeps/uq4nb1mu</a>"
      ],
      "text/plain": [
       "<IPython.core.display.HTML object>"
      ]
     },
     "metadata": {},
     "output_type": "display_data"
    },
    {
     "data": {
      "text/html": [
       " View run at <a href='https://wandb.ai/fishysoup/STPNet_bayes_sweep/runs/bcsddszo' target=\"_blank\">https://wandb.ai/fishysoup/STPNet_bayes_sweep/runs/bcsddszo</a>"
      ],
      "text/plain": [
       "<IPython.core.display.HTML object>"
      ]
     },
     "metadata": {},
     "output_type": "display_data"
    },
    {
     "name": "stdout",
     "output_type": "stream",
     "text": [
      "Epoch: 100  loss: 0.3487  dprime: 0.61\n",
      "Epoch: 200  loss: 0.3227  dprime: 1.82\n"
     ]
    },
    {
     "data": {
      "text/html": [
       "Waiting for W&B process to finish... <strong style=\"color:green\">(success).</strong>"
      ],
      "text/plain": [
       "<IPython.core.display.HTML object>"
      ]
     },
     "metadata": {},
     "output_type": "display_data"
    },
    {
     "name": "stderr",
     "output_type": "stream",
     "text": [
      "wandb: WARNING Source type is set to 'repo' but some required information is missing from the environment. A job will not be created from this run. See https://docs.wandb.ai/guides/launch/create-job\n"
     ]
    },
    {
     "data": {
      "application/vnd.jupyter.widget-view+json": {
       "model_id": "7f45f69bd1d440cdb4e2a054c4396ad8",
       "version_major": 2,
       "version_minor": 0
      },
      "text/plain": [
       "VBox(children=(Label(value='0.005 MB of 0.005 MB uploaded (0.000 MB deduped)\\r'), FloatProgress(value=1.0, max…"
      ]
     },
     "metadata": {},
     "output_type": "display_data"
    },
    {
     "data": {
      "text/html": [
       "<style>\n",
       "    table.wandb td:nth-child(1) { padding: 0 10px; text-align: left ; width: auto;} td:nth-child(2) {text-align: left ; width: 100%}\n",
       "    .wandb-row { display: flex; flex-direction: row; flex-wrap: wrap; justify-content: flex-start; width: 100% }\n",
       "    .wandb-col { display: flex; flex-direction: column; flex-basis: 100%; flex: 1; padding: 10px; }\n",
       "    </style>\n",
       "<div class=\"wandb-row\"><div class=\"wandb-col\"><h3>Run history:</h3><br/><table class=\"wandb\"><tr><td>adapt_slope</td><td>▁</td></tr><tr><td>dprime_true</td><td>▁</td></tr><tr><td>loss</td><td>▁</td></tr></table><br/></div><div class=\"wandb-col\"><h3>Run summary:</h3><br/><table class=\"wandb\"><tr><td>adapt_slope</td><td>-0.0061</td></tr><tr><td>dprime_true</td><td>2.30187</td></tr><tr><td>loss</td><td>0.31675</td></tr></table><br/></div></div>"
      ],
      "text/plain": [
       "<IPython.core.display.HTML object>"
      ]
     },
     "metadata": {},
     "output_type": "display_data"
    },
    {
     "data": {
      "text/html": [
       " View run <strong style=\"color:#cdcd00\">expert-sweep-29</strong> at: <a href='https://wandb.ai/fishysoup/STPNet_bayes_sweep/runs/bcsddszo' target=\"_blank\">https://wandb.ai/fishysoup/STPNet_bayes_sweep/runs/bcsddszo</a><br/>Synced 6 W&B file(s), 0 media file(s), 0 artifact file(s) and 0 other file(s)"
      ],
      "text/plain": [
       "<IPython.core.display.HTML object>"
      ]
     },
     "metadata": {},
     "output_type": "display_data"
    },
    {
     "data": {
      "text/html": [
       "Find logs at: <code>./wandb/run-20230803_094620-bcsddszo/logs</code>"
      ],
      "text/plain": [
       "<IPython.core.display.HTML object>"
      ]
     },
     "metadata": {},
     "output_type": "display_data"
    },
    {
     "name": "stderr",
     "output_type": "stream",
     "text": [
      "\u001b[34m\u001b[1mwandb\u001b[0m: Agent Starting Run: 77f3kgb4 with config:\n",
      "\u001b[34m\u001b[1mwandb\u001b[0m: \tdprime_targ: 1.2757405980120111\n",
      "\u001b[34m\u001b[1mwandb\u001b[0m: \tpatience: 15\n",
      "\u001b[34m\u001b[1mwandb\u001b[0m: \tsyn_tau: 9.803469253853724\n",
      "Failed to detect the name of this notebook, you can set it manually with the WANDB_NOTEBOOK_NAME environment variable to enable code saving.\n"
     ]
    },
    {
     "data": {
      "text/html": [
       "Tracking run with wandb version 0.15.8"
      ],
      "text/plain": [
       "<IPython.core.display.HTML object>"
      ]
     },
     "metadata": {},
     "output_type": "display_data"
    },
    {
     "data": {
      "text/html": [
       "Run data is saved locally in <code>/mmfs1/gscratch/rao/aresf/Code/STSPNet/wandb/run-20230803_094718-77f3kgb4</code>"
      ],
      "text/plain": [
       "<IPython.core.display.HTML object>"
      ]
     },
     "metadata": {},
     "output_type": "display_data"
    },
    {
     "data": {
      "text/html": [
       "Syncing run <strong><a href='https://wandb.ai/fishysoup/STPNet_bayes_sweep/runs/77f3kgb4' target=\"_blank\">ruby-sweep-30</a></strong> to <a href='https://wandb.ai/fishysoup/STPNet_bayes_sweep' target=\"_blank\">Weights & Biases</a> (<a href='https://wandb.me/run' target=\"_blank\">docs</a>)<br/>Sweep page: <a href='https://wandb.ai/fishysoup/STPNet_bayes_sweep/sweeps/uq4nb1mu' target=\"_blank\">https://wandb.ai/fishysoup/STPNet_bayes_sweep/sweeps/uq4nb1mu</a>"
      ],
      "text/plain": [
       "<IPython.core.display.HTML object>"
      ]
     },
     "metadata": {},
     "output_type": "display_data"
    },
    {
     "data": {
      "text/html": [
       " View project at <a href='https://wandb.ai/fishysoup/STPNet_bayes_sweep' target=\"_blank\">https://wandb.ai/fishysoup/STPNet_bayes_sweep</a>"
      ],
      "text/plain": [
       "<IPython.core.display.HTML object>"
      ]
     },
     "metadata": {},
     "output_type": "display_data"
    },
    {
     "data": {
      "text/html": [
       " View sweep at <a href='https://wandb.ai/fishysoup/STPNet_bayes_sweep/sweeps/uq4nb1mu' target=\"_blank\">https://wandb.ai/fishysoup/STPNet_bayes_sweep/sweeps/uq4nb1mu</a>"
      ],
      "text/plain": [
       "<IPython.core.display.HTML object>"
      ]
     },
     "metadata": {},
     "output_type": "display_data"
    },
    {
     "data": {
      "text/html": [
       " View run at <a href='https://wandb.ai/fishysoup/STPNet_bayes_sweep/runs/77f3kgb4' target=\"_blank\">https://wandb.ai/fishysoup/STPNet_bayes_sweep/runs/77f3kgb4</a>"
      ],
      "text/plain": [
       "<IPython.core.display.HTML object>"
      ]
     },
     "metadata": {},
     "output_type": "display_data"
    },
    {
     "name": "stdout",
     "output_type": "stream",
     "text": [
      "Epoch: 100  loss: 0.3587  dprime: 0.33\n",
      "Epoch: 200  loss: 0.3345  dprime: 1.31\n"
     ]
    },
    {
     "data": {
      "text/html": [
       "Waiting for W&B process to finish... <strong style=\"color:green\">(success).</strong>"
      ],
      "text/plain": [
       "<IPython.core.display.HTML object>"
      ]
     },
     "metadata": {},
     "output_type": "display_data"
    },
    {
     "name": "stderr",
     "output_type": "stream",
     "text": [
      "wandb: WARNING Source type is set to 'repo' but some required information is missing from the environment. A job will not be created from this run. See https://docs.wandb.ai/guides/launch/create-job\n"
     ]
    },
    {
     "data": {
      "application/vnd.jupyter.widget-view+json": {
       "model_id": "73f713c9a52f4962b85d6ed49b812cb7",
       "version_major": 2,
       "version_minor": 0
      },
      "text/plain": [
       "VBox(children=(Label(value='0.005 MB of 0.005 MB uploaded (0.000 MB deduped)\\r'), FloatProgress(value=1.0, max…"
      ]
     },
     "metadata": {},
     "output_type": "display_data"
    },
    {
     "data": {
      "text/html": [
       "<style>\n",
       "    table.wandb td:nth-child(1) { padding: 0 10px; text-align: left ; width: auto;} td:nth-child(2) {text-align: left ; width: 100%}\n",
       "    .wandb-row { display: flex; flex-direction: row; flex-wrap: wrap; justify-content: flex-start; width: 100% }\n",
       "    .wandb-col { display: flex; flex-direction: column; flex-basis: 100%; flex: 1; padding: 10px; }\n",
       "    </style>\n",
       "<div class=\"wandb-row\"><div class=\"wandb-col\"><h3>Run history:</h3><br/><table class=\"wandb\"><tr><td>adapt_slope</td><td>▁</td></tr><tr><td>dprime_true</td><td>▁</td></tr><tr><td>loss</td><td>▁</td></tr></table><br/></div><div class=\"wandb-col\"><h3>Run summary:</h3><br/><table class=\"wandb\"><tr><td>adapt_slope</td><td>-0.00688</td></tr><tr><td>dprime_true</td><td>1.61256</td></tr><tr><td>loss</td><td>0.32983</td></tr></table><br/></div></div>"
      ],
      "text/plain": [
       "<IPython.core.display.HTML object>"
      ]
     },
     "metadata": {},
     "output_type": "display_data"
    },
    {
     "data": {
      "text/html": [
       " View run <strong style=\"color:#cdcd00\">ruby-sweep-30</strong> at: <a href='https://wandb.ai/fishysoup/STPNet_bayes_sweep/runs/77f3kgb4' target=\"_blank\">https://wandb.ai/fishysoup/STPNet_bayes_sweep/runs/77f3kgb4</a><br/>Synced 6 W&B file(s), 0 media file(s), 0 artifact file(s) and 0 other file(s)"
      ],
      "text/plain": [
       "<IPython.core.display.HTML object>"
      ]
     },
     "metadata": {},
     "output_type": "display_data"
    },
    {
     "data": {
      "text/html": [
       "Find logs at: <code>./wandb/run-20230803_094718-77f3kgb4/logs</code>"
      ],
      "text/plain": [
       "<IPython.core.display.HTML object>"
      ]
     },
     "metadata": {},
     "output_type": "display_data"
    }
   ],
   "source": [
    "wandb.agent(sweep_id, run_model, count=30)"
   ]
  },
  {
   "cell_type": "code",
   "execution_count": null,
   "metadata": {},
   "outputs": [],
   "source": []
  },
  {
   "cell_type": "code",
   "execution_count": null,
   "metadata": {},
   "outputs": [],
   "source": []
  },
  {
   "cell_type": "code",
   "execution_count": null,
   "metadata": {},
   "outputs": [],
   "source": []
  },
  {
   "cell_type": "code",
   "execution_count": null,
   "metadata": {},
   "outputs": [
    {
     "name": "stdout",
     "output_type": "stream",
     "text": [
      "Epoch: 100  loss: 0.3672  dprime: 0.03\n",
      "Epoch: 200  loss: 0.3548  dprime: 0.60\n",
      "Epoch: 300  loss: 0.3424  dprime: 0.74\n",
      "Epoch: 400  loss: 0.3393  dprime: 0.87\n",
      "Epoch: 500  loss: 0.3384  dprime: 1.06\n",
      "Epoch: 600  loss: 0.3336  dprime: 1.26\n",
      "Epoch: 700  loss: 0.3361  dprime: 1.20\n",
      "Epoch: 800  loss: 0.3297  dprime: 1.43\n",
      "Epoch: 900  loss: 0.3283  dprime: 1.23\n",
      "Epoch: 1000  loss: 0.3274  dprime: 1.45\n",
      "Epoch: 1100  loss: 0.3238  dprime: 1.62\n",
      "Epoch: 1200  loss: 0.3245  dprime: 1.42\n",
      "Epoch: 1300  loss: 0.3201  dprime: 1.56\n",
      "Epoch: 1400  loss: 0.3202  dprime: 1.60\n",
      "Epoch: 100  loss: 0.3643  dprime: 0.12\n",
      "Epoch: 200  loss: 0.3493  dprime: 0.54\n",
      "Epoch: 300  loss: 0.3388  dprime: 0.80\n",
      "Epoch: 400  loss: 0.3305  dprime: 1.32\n",
      "Epoch: 500  loss: 0.3271  dprime: 1.32\n",
      "Epoch: 600  loss: 0.3239  dprime: 2.01\n",
      "Epoch: 100  loss: 0.3620  dprime: 0.21\n",
      "Epoch: 200  loss: 0.3359  dprime: 0.93\n",
      "Epoch: 300  loss: 0.3225  dprime: 1.36\n",
      "Epoch: 400  loss: 0.3181  dprime: 1.66\n",
      "Epoch: 100  loss: 0.3623  dprime: 0.45\n",
      "Epoch: 200  loss: 0.3378  dprime: 0.82\n",
      "Epoch: 300  loss: 0.3241  dprime: 1.23\n"
     ]
    }
   ],
   "source": [
    "for i, syn_tau in enumerate(np.arange(4, 20, 4)):\n",
    "    !python main.py --model STPNet --noise-std 0.5 --l2-penalty 0.001 --pos-weight 5 --dprime 1.5 --patience 5 --syn-tau {syn_tau} --seed {i + 1}"
   ]
  },
  {
   "cell_type": "code",
   "execution_count": null,
   "metadata": {},
   "outputs": [],
   "source": [
    "for i, syn_tau in enumerate(np.arange(4, 20, 4)):\n",
    "    !python experiment.py --model STPNet --model-path ./PARAM/STPNet/model_train_seed_{i+1}.pt --noise-std 0.5 --syn-tau {syn_tau} --omit-frac 0.05 --seed {i+1}"
   ]
  },
  {
   "cell_type": "code",
   "execution_count": null,
   "metadata": {},
   "outputs": [
    {
     "data": {
      "image/png": "[encoded data removed]",
      "text/plain": [
       "<Figure size 1400x1400 with 4 Axes>"
      ]
     },
     "metadata": {},
     "output_type": "display_data"
    }
   ],
   "source": [
    "fig, ax = plt.subplots(2,2, figsize=(14, 14))\n",
    "sdict = {0: (0, 0), 1: (0, 1), 2: (1, 0), 3: (1, 1)}\n",
    "\n",
    "for i in range(4):\n",
    "    result_path = \"RESULT/STPNet/STPNet_A_{}.pkl\".format(i+1)\n",
    "    model_data, pref_image = get_acts(result_path)\n",
    "    go_trial = get_go_trials(model_data, pref_image)\n",
    "    plot_go_trial(go_trial, ax[sdict[i]])"
   ]
  },
  {
   "cell_type": "code",
   "execution_count": null,
   "metadata": {},
   "outputs": [],
   "source": []
  }
 ],
 "metadata": {
  "kernelspec": {
   "display_name": "stspnet",
   "language": "python",
   "name": "python3"
  },
  "language_info": {
   "codemirror_mode": {
    "name": "ipython",
    "version": 3
   },
   "file_extension": ".py",
   "mimetype": "text/x-python",
   "name": "python",
   "nbconvert_exporter": "python",
   "pygments_lexer": "ipython3",
   "version": "3.9.16"
  },
  "orig_nbformat": 4
 },
 "nbformat": 4,
 "nbformat_minor": 2
}
